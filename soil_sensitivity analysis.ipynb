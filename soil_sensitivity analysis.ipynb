{
 "cells": [
  {
   "cell_type": "markdown",
   "metadata": {},
   "source": [
    "# SENSTIVITY ANALYSIS"
   ]
  },
  {
   "cell_type": "code",
   "execution_count": 1,
   "metadata": {},
   "outputs": [],
   "source": [
    "import pandas as pd\n",
    "import seaborn as sns\n",
    "import matplotlib.pyplot as plt\n",
    "import numpy as np\n",
    "import plotly.express as px\n",
    "import plotly.graph_objects as go\n",
    "from itertools import permutations\n",
    "import warnings\n",
    "warnings.filterwarnings(\"ignore\")"
   ]
  },
  {
   "cell_type": "code",
   "execution_count": 2,
   "metadata": {},
   "outputs": [],
   "source": [
    "## DEFINING HELPER FUNCTIONS FOR NORMALIZATION\n",
    "def minNormalize(values):\n",
    "    values = list(values)\n",
    "    goal = values.pop(-1)\n",
    "    normal = [9*((max(values)-x)/(max(values)-min(values)))+1 for x in values]\n",
    "    normal.append(goal)\n",
    "    return normal\n",
    "\n",
    "def maxNormalize(values):\n",
    "    values = list(values)\n",
    "    goal = values.pop(-1)\n",
    "    normal = [9*((x-min(values))/(max(values)-min(values)))+1 for x in values]\n",
    "    normal.append(goal)\n",
    "    return normal\n",
    "\n",
    "def normalize(values):\n",
    "    if values.iloc[-1] == 'MAX':\n",
    "        normal = maxNormalize(values)\n",
    "    else:\n",
    "        normal = minNormalize(values)\n",
    "    return normal\n",
    "\n",
    "## DEFINING HELPER FUNCTION FOR GETTING WEIGHTED SUM\n",
    "def getWeightedSum(values):\n",
    "    values = list(values)\n",
    "    weight = values.pop(0)\n",
    "    values = [value*weight for value in values]\n",
    "    values.insert(0, weight)\n",
    "    return values\n",
    "\n",
    "def getTotal(values):\n",
    "    return sum(values)"
   ]
  },
  {
   "cell_type": "markdown",
   "metadata": {},
   "source": [
    "## SINGLE EXECUTION"
   ]
  },
  {
   "cell_type": "code",
   "execution_count": 62,
   "metadata": {},
   "outputs": [],
   "source": [
    "criteria = ['Accuracy','Training Time','Model Size','Image Size','Processing Power']\n",
    "levelOfImportance = [10,7,8,6,9]\n",
    "weight = [(level/sum(levelOfImportance)) for level in levelOfImportance]\n",
    "inceptionv3 = [93.7,36.0,92.0,89401.0,42.2]\n",
    "efficientnetv2 = [91.3,48.0,4.9,50176.0,51.2]\n",
    "mobilenetv3 = [97.5,72.0,479,50176.0,1010.0]\n",
    "goal = ['MAX','MIN','MIN','MIN','MIN'] #'MIN','MIN','MAX','MIN','MAX'"
   ]
  },
  {
   "cell_type": "code",
   "execution_count": 63,
   "metadata": {},
   "outputs": [],
   "source": [
    "data = pd.DataFrame({'levelOfImportance':levelOfImportance,\n",
    "                     'weight':weight,\n",
    "                     'Inception_V3':inceptionv3,\n",
    "                     'EfficientNet_v2':efficientnetv2,\n",
    "                     'MobileNet_V3':mobilenetv3,\n",
    "                     },\n",
    "                     index = criteria)\n",
    "data.index.name='criteria'\n",
    "data = data.map(lambda x: float(x))\n",
    "data['goal'] = goal"
   ]
  },
  {
   "cell_type": "code",
   "execution_count": 64,
   "metadata": {},
   "outputs": [],
   "source": [
    "## NORMALIZING DATA\n",
    "for i in range(data.shape[0]):\n",
    "    data.iloc[i,2:] = normalize(data.iloc[i,2:])"
   ]
  },
  {
   "cell_type": "code",
   "execution_count": 65,
   "metadata": {},
   "outputs": [
    {
     "data": {
      "text/html": [
       "<div>\n",
       "<style scoped>\n",
       "    .dataframe tbody tr th:only-of-type {\n",
       "        vertical-align: middle;\n",
       "    }\n",
       "\n",
       "    .dataframe tbody tr th {\n",
       "        vertical-align: top;\n",
       "    }\n",
       "\n",
       "    .dataframe thead th {\n",
       "        text-align: right;\n",
       "    }\n",
       "</style>\n",
       "<table border=\"1\" class=\"dataframe\">\n",
       "  <thead>\n",
       "    <tr style=\"text-align: right;\">\n",
       "      <th></th>\n",
       "      <th>levelOfImportance</th>\n",
       "      <th>weight</th>\n",
       "      <th>Inception_V3</th>\n",
       "      <th>EfficientNet_v2</th>\n",
       "      <th>MobileNet_V3</th>\n",
       "      <th>goal</th>\n",
       "    </tr>\n",
       "    <tr>\n",
       "      <th>criteria</th>\n",
       "      <th></th>\n",
       "      <th></th>\n",
       "      <th></th>\n",
       "      <th></th>\n",
       "      <th></th>\n",
       "      <th></th>\n",
       "    </tr>\n",
       "  </thead>\n",
       "  <tbody>\n",
       "    <tr>\n",
       "      <th>Accuracy</th>\n",
       "      <td>10.0</td>\n",
       "      <td>0.250</td>\n",
       "      <td>4.483871</td>\n",
       "      <td>1.000000</td>\n",
       "      <td>10.0</td>\n",
       "      <td>MAX</td>\n",
       "    </tr>\n",
       "    <tr>\n",
       "      <th>Training Time</th>\n",
       "      <td>7.0</td>\n",
       "      <td>0.175</td>\n",
       "      <td>10.000000</td>\n",
       "      <td>7.000000</td>\n",
       "      <td>1.0</td>\n",
       "      <td>MIN</td>\n",
       "    </tr>\n",
       "    <tr>\n",
       "      <th>Model Size</th>\n",
       "      <td>8.0</td>\n",
       "      <td>0.200</td>\n",
       "      <td>8.346551</td>\n",
       "      <td>10.000000</td>\n",
       "      <td>1.0</td>\n",
       "      <td>MIN</td>\n",
       "    </tr>\n",
       "    <tr>\n",
       "      <th>Image Size</th>\n",
       "      <td>6.0</td>\n",
       "      <td>0.150</td>\n",
       "      <td>1.000000</td>\n",
       "      <td>10.000000</td>\n",
       "      <td>10.0</td>\n",
       "      <td>MIN</td>\n",
       "    </tr>\n",
       "    <tr>\n",
       "      <th>Processing Power</th>\n",
       "      <td>9.0</td>\n",
       "      <td>0.225</td>\n",
       "      <td>10.000000</td>\n",
       "      <td>9.916305</td>\n",
       "      <td>1.0</td>\n",
       "      <td>MIN</td>\n",
       "    </tr>\n",
       "  </tbody>\n",
       "</table>\n",
       "</div>"
      ],
      "text/plain": [
       "                  levelOfImportance  weight  Inception_V3  EfficientNet_v2  \\\n",
       "criteria                                                                     \n",
       "Accuracy                       10.0   0.250      4.483871         1.000000   \n",
       "Training Time                   7.0   0.175     10.000000         7.000000   \n",
       "Model Size                      8.0   0.200      8.346551        10.000000   \n",
       "Image Size                      6.0   0.150      1.000000        10.000000   \n",
       "Processing Power                9.0   0.225     10.000000         9.916305   \n",
       "\n",
       "                  MobileNet_V3 goal  \n",
       "criteria                             \n",
       "Accuracy                  10.0  MAX  \n",
       "Training Time              1.0  MIN  \n",
       "Model Size                 1.0  MIN  \n",
       "Image Size                10.0  MIN  \n",
       "Processing Power           1.0  MIN  "
      ]
     },
     "execution_count": 65,
     "metadata": {},
     "output_type": "execute_result"
    }
   ],
   "source": [
    "data"
   ]
  },
  {
   "cell_type": "code",
   "execution_count": 66,
   "metadata": {},
   "outputs": [],
   "source": [
    "## GETTING WEIGHTED SUM\n",
    "for i in range(data.shape[0]):\n",
    "    data.iloc[i,1:-1] = getWeightedSum(data.iloc[i,1:-1])\n"
   ]
  },
  {
   "cell_type": "code",
   "execution_count": 67,
   "metadata": {},
   "outputs": [],
   "source": [
    "## GETTING totals\n",
    "total=[]\n",
    "for i in range(5):\n",
    "    total.append(getTotal(data.iloc[:,i]))\n",
    "total.append(None)\n",
    "data.loc[len(data)] = total\n",
    "index = [idx for idx in data.index][:-1]\n",
    "index.append('total')\n",
    "data = data.set_index([index])"
   ]
  },
  {
   "cell_type": "code",
   "execution_count": 68,
   "metadata": {},
   "outputs": [
    {
     "data": {
      "text/html": [
       "<div>\n",
       "<style scoped>\n",
       "    .dataframe tbody tr th:only-of-type {\n",
       "        vertical-align: middle;\n",
       "    }\n",
       "\n",
       "    .dataframe tbody tr th {\n",
       "        vertical-align: top;\n",
       "    }\n",
       "\n",
       "    .dataframe thead th {\n",
       "        text-align: right;\n",
       "    }\n",
       "</style>\n",
       "<table border=\"1\" class=\"dataframe\">\n",
       "  <thead>\n",
       "    <tr style=\"text-align: right;\">\n",
       "      <th></th>\n",
       "      <th>levelOfImportance</th>\n",
       "      <th>weight</th>\n",
       "      <th>Inception_V3</th>\n",
       "      <th>EfficientNet_v2</th>\n",
       "      <th>MobileNet_V3</th>\n",
       "      <th>goal</th>\n",
       "    </tr>\n",
       "  </thead>\n",
       "  <tbody>\n",
       "    <tr>\n",
       "      <th>Accuracy</th>\n",
       "      <td>10.0</td>\n",
       "      <td>0.250</td>\n",
       "      <td>1.120968</td>\n",
       "      <td>0.250000</td>\n",
       "      <td>2.500</td>\n",
       "      <td>MAX</td>\n",
       "    </tr>\n",
       "    <tr>\n",
       "      <th>Training Time</th>\n",
       "      <td>7.0</td>\n",
       "      <td>0.175</td>\n",
       "      <td>1.750000</td>\n",
       "      <td>1.225000</td>\n",
       "      <td>0.175</td>\n",
       "      <td>MIN</td>\n",
       "    </tr>\n",
       "    <tr>\n",
       "      <th>Model Size</th>\n",
       "      <td>8.0</td>\n",
       "      <td>0.200</td>\n",
       "      <td>1.669310</td>\n",
       "      <td>2.000000</td>\n",
       "      <td>0.200</td>\n",
       "      <td>MIN</td>\n",
       "    </tr>\n",
       "    <tr>\n",
       "      <th>Image Size</th>\n",
       "      <td>6.0</td>\n",
       "      <td>0.150</td>\n",
       "      <td>0.150000</td>\n",
       "      <td>1.500000</td>\n",
       "      <td>1.500</td>\n",
       "      <td>MIN</td>\n",
       "    </tr>\n",
       "    <tr>\n",
       "      <th>Processing Power</th>\n",
       "      <td>9.0</td>\n",
       "      <td>0.225</td>\n",
       "      <td>2.250000</td>\n",
       "      <td>2.231169</td>\n",
       "      <td>0.225</td>\n",
       "      <td>MIN</td>\n",
       "    </tr>\n",
       "    <tr>\n",
       "      <th>total</th>\n",
       "      <td>40.0</td>\n",
       "      <td>1.000</td>\n",
       "      <td>6.940278</td>\n",
       "      <td>7.206169</td>\n",
       "      <td>4.600</td>\n",
       "      <td>NaN</td>\n",
       "    </tr>\n",
       "  </tbody>\n",
       "</table>\n",
       "</div>"
      ],
      "text/plain": [
       "                  levelOfImportance  weight  Inception_V3  EfficientNet_v2  \\\n",
       "Accuracy                       10.0   0.250      1.120968         0.250000   \n",
       "Training Time                   7.0   0.175      1.750000         1.225000   \n",
       "Model Size                      8.0   0.200      1.669310         2.000000   \n",
       "Image Size                      6.0   0.150      0.150000         1.500000   \n",
       "Processing Power                9.0   0.225      2.250000         2.231169   \n",
       "total                          40.0   1.000      6.940278         7.206169   \n",
       "\n",
       "                  MobileNet_V3 goal  \n",
       "Accuracy                 2.500  MAX  \n",
       "Training Time            0.175  MIN  \n",
       "Model Size               0.200  MIN  \n",
       "Image Size               1.500  MIN  \n",
       "Processing Power         0.225  MIN  \n",
       "total                    4.600  NaN  "
      ]
     },
     "execution_count": 68,
     "metadata": {},
     "output_type": "execute_result"
    }
   ],
   "source": [
    "data"
   ]
  },
  {
   "cell_type": "code",
   "execution_count": 69,
   "metadata": {},
   "outputs": [
    {
     "name": "stdout",
     "output_type": "stream",
     "text": [
      "[10, 7, 8, 6, 9]\n"
     ]
    }
   ],
   "source": [
    "levels = permutations(levelOfImportance)\n",
    "print(list(next(levels)))"
   ]
  },
  {
   "cell_type": "markdown",
   "metadata": {},
   "source": [
    "## 120 EXECUTIONS"
   ]
  },
  {
   "cell_type": "code",
   "execution_count": 70,
   "metadata": {},
   "outputs": [],
   "source": [
    "levels = permutations(levelOfImportance)\n",
    "design1 = []\n",
    "design2 = []\n",
    "design3 = []\n",
    "weights = []\n",
    "for level in levels:\n",
    "    ## DECALRING VALUES\n",
    "    criteria = criteria\n",
    "    level = list(level)\n",
    "    weight = [(l/sum(level)) for l in level]\n",
    "    goal = ['MAX','MIN','MIN','MIN','MIN']\n",
    "\n",
    "    ## CREATING DATAFRAME\n",
    "    data = pd.DataFrame({'levelOfImportance':level,\n",
    "                        'weight':weight,\n",
    "                        'Inception_V3':inceptionv3,\n",
    "                        'EfficientNet_v2':efficientnetv2,\n",
    "                        'MobileNet_V3':mobilenetv3,                        \n",
    "                        },\n",
    "                        index = criteria)\n",
    "    data.index.name='criteria'\n",
    "    data = data.map(lambda x: float(x))\n",
    "    data['goal'] = goal\n",
    "\n",
    "    ## NORMALIZING DATA\n",
    "    for i in range(data.shape[0]):\n",
    "        data.iloc[i,2:] = normalize(data.iloc[i,2:])\n",
    "\n",
    "    ## GETTING WEIGHTED SUM\n",
    "    for i in range(data.shape[0]):\n",
    "        data.iloc[i,1:-1] = getWeightedSum(data.iloc[i,1:-1])\n",
    "\n",
    "\n",
    "    ## GETTING totals\n",
    "    total=[]\n",
    "    for i in range(5):\n",
    "        total.append(getTotal(data.iloc[:,i]))\n",
    "    total.append(None)\n",
    "    data.loc[len(data)] = total\n",
    "    index = [idx for idx in data.index][:-1]\n",
    "    index.append('total')\n",
    "    data = data.set_index([index])\n",
    "    weights.append([level,data.iloc[:-1,1].values])\n",
    "    design1.append(data.iloc[-1,2])\n",
    "    design2.append(data.iloc[-1,3])\n",
    "    design3.append(data.iloc[-1,4])\n",
    "\n"
   ]
  },
  {
   "cell_type": "code",
   "execution_count": 71,
   "metadata": {},
   "outputs": [
    {
     "name": "stdout",
     "output_type": "stream",
     "text": [
      "Permutation 0 : [10, 7, 8, 6, 9]\n",
      "Weights : [0.25  0.175 0.2   0.15  0.225]\n",
      " Design 1 = 6.940278014029981\n",
      " Design 2 = 7.206168629882207\n",
      " Design 3 = 4.6\n",
      "\n",
      "Permutation 1 : [10, 7, 8, 9, 6]\n",
      "Weights : [0.25  0.175 0.2   0.225 0.15 ]\n",
      " Design 1 = 6.26527801402998\n",
      " Design 2 = 7.212445753254804\n",
      " Design 3 = 5.275\n",
      "\n",
      "Permutation 2 : [10, 7, 6, 8, 9]\n",
      "Weights : [0.25  0.175 0.15  0.2   0.225]\n",
      " Design 1 = 6.572950446006357\n",
      " Design 2 = 7.206168629882207\n",
      " Design 3 = 5.049999999999999\n",
      "\n",
      "Permutation 3 : [10, 7, 6, 9, 8]\n",
      "Weights : [0.25  0.175 0.15  0.225 0.2  ]\n",
      " Design 1 = 6.347950446006356\n",
      " Design 2 = 7.2082610043397395\n",
      " Design 3 = 5.2749999999999995\n",
      "\n",
      "Permutation 4 : [10, 7, 9, 8, 6]\n",
      "Weights : [0.25  0.175 0.225 0.2   0.15 ]\n",
      " Design 1 = 6.448941798041793\n",
      " Design 2 = 7.212445753254804\n",
      " Design 3 = 5.050000000000001\n",
      "\n",
      "Permutation 5 : [10, 7, 9, 6, 8]\n",
      "Weights : [0.25  0.175 0.225 0.15  0.2  ]\n",
      " Design 1 = 6.898941798041793\n",
      " Design 2 = 7.2082610043397395\n",
      " Design 3 = 4.6000000000000005\n",
      "\n",
      "Permutation 6 : [10, 8, 7, 6, 9]\n",
      "Weights : [0.25  0.2   0.175 0.15  0.225]\n",
      " Design 1 = 6.981614230018169\n",
      " Design 2 = 7.1311686298822075\n",
      " Design 3 = 4.6\n",
      "\n",
      "Permutation 7 : [10, 8, 7, 9, 6]\n",
      "Weights : [0.25  0.2   0.175 0.225 0.15 ]\n",
      " Design 1 = 6.306614230018169\n",
      " Design 2 = 7.137445753254805\n",
      " Design 3 = 5.275\n",
      "\n",
      "Permutation 8 : [10, 8, 6, 7, 9]\n",
      "Weights : [0.25  0.2   0.15  0.175 0.225]\n",
      " Design 1 = 6.7979504460063565\n",
      " Design 2 = 7.1311686298822075\n",
      " Design 3 = 4.824999999999999\n",
      "\n",
      "Permutation 9 : [10, 8, 6, 9, 7]\n",
      "Weights : [0.25  0.2   0.15  0.225 0.175]\n",
      " Design 1 = 6.347950446006356\n",
      " Design 2 = 7.135353378797272\n",
      " Design 3 = 5.2749999999999995\n",
      "\n",
      "Permutation 10 : [10, 8, 9, 7, 6]\n",
      "Weights : [0.25  0.2   0.225 0.175 0.15 ]\n",
      " Design 1 = 6.673941798041793\n",
      " Design 2 = 7.137445753254805\n",
      " Design 3 = 4.825000000000001\n",
      "\n",
      "Permutation 11 : [10, 8, 9, 6, 7]\n",
      "Weights : [0.25  0.2   0.225 0.15  0.175]\n",
      " Design 1 = 6.898941798041793\n",
      " Design 2 = 7.135353378797272\n",
      " Design 3 = 4.6000000000000005\n",
      "\n",
      "Permutation 12 : [10, 6, 7, 8, 9]\n",
      "Weights : [0.25  0.15  0.175 0.2   0.225]\n",
      " Design 1 = 6.531614230018169\n",
      " Design 2 = 7.281168629882207\n",
      " Design 3 = 5.049999999999999\n",
      "\n",
      "Permutation 13 : [10, 6, 7, 9, 8]\n",
      "Weights : [0.25  0.15  0.175 0.225 0.2  ]\n",
      " Design 1 = 6.306614230018169\n",
      " Design 2 = 7.28326100433974\n",
      " Design 3 = 5.2749999999999995\n",
      "\n",
      "Permutation 14 : [10, 6, 8, 7, 9]\n",
      "Weights : [0.25  0.15  0.2   0.175 0.225]\n",
      " Design 1 = 6.71527801402998\n",
      " Design 2 = 7.281168629882207\n",
      " Design 3 = 4.824999999999999\n",
      "\n",
      "Permutation 15 : [10, 6, 8, 9, 7]\n",
      "Weights : [0.25  0.15  0.2   0.225 0.175]\n",
      " Design 1 = 6.26527801402998\n",
      " Design 2 = 7.2853533787972715\n",
      " Design 3 = 5.2749999999999995\n",
      "\n",
      "Permutation 16 : [10, 6, 9, 7, 8]\n",
      "Weights : [0.25  0.15  0.225 0.175 0.2  ]\n",
      " Design 1 = 6.673941798041793\n",
      " Design 2 = 7.28326100433974\n",
      " Design 3 = 4.825\n",
      "\n",
      "Permutation 17 : [10, 6, 9, 8, 7]\n",
      "Weights : [0.25  0.15  0.225 0.2   0.175]\n",
      " Design 1 = 6.448941798041793\n",
      " Design 2 = 7.2853533787972715\n",
      " Design 3 = 5.05\n",
      "\n",
      "Permutation 18 : [10, 9, 7, 8, 6]\n",
      "Weights : [0.25  0.225 0.175 0.2   0.15 ]\n",
      " Design 1 = 6.531614230018169\n",
      " Design 2 = 7.062445753254805\n",
      " Design 3 = 5.050000000000001\n",
      "\n",
      "Permutation 19 : [10, 9, 7, 6, 8]\n",
      "Weights : [0.25  0.225 0.175 0.15  0.2  ]\n",
      " Design 1 = 6.981614230018169\n",
      " Design 2 = 7.05826100433974\n",
      " Design 3 = 4.6000000000000005\n",
      "\n",
      "Permutation 20 : [10, 9, 8, 7, 6]\n",
      "Weights : [0.25  0.225 0.2   0.175 0.15 ]\n",
      " Design 1 = 6.71527801402998\n",
      " Design 2 = 7.062445753254805\n",
      " Design 3 = 4.825000000000001\n",
      "\n",
      "Permutation 21 : [10, 9, 8, 6, 7]\n",
      "Weights : [0.25  0.225 0.2   0.15  0.175]\n",
      " Design 1 = 6.940278014029981\n",
      " Design 2 = 7.060353378797272\n",
      " Design 3 = 4.6000000000000005\n",
      "\n",
      "Permutation 22 : [10, 9, 6, 7, 8]\n",
      "Weights : [0.25  0.225 0.15  0.175 0.2  ]\n",
      " Design 1 = 6.7979504460063565\n",
      " Design 2 = 7.05826100433974\n",
      " Design 3 = 4.825\n",
      "\n",
      "Permutation 23 : [10, 9, 6, 8, 7]\n",
      "Weights : [0.25  0.225 0.15  0.2   0.175]\n",
      " Design 1 = 6.572950446006357\n",
      " Design 2 = 7.060353378797272\n",
      " Design 3 = 5.05\n",
      "\n",
      "Permutation 24 : [7, 10, 8, 6, 9]\n",
      "Weights : [0.175 0.25  0.2   0.15  0.225]\n",
      " Design 1 = 7.353987691449335\n",
      " Design 2 = 7.656168629882207\n",
      " Design 3 = 3.9250000000000003\n",
      "\n",
      "Permutation 25 : [7, 10, 8, 9, 6]\n",
      "Weights : [0.175 0.25  0.2   0.225 0.15 ]\n",
      " Design 1 = 6.6789876914493345\n",
      " Design 2 = 7.662445753254804\n",
      " Design 3 = 4.6000000000000005\n",
      "\n",
      "Permutation 26 : [7, 10, 6, 8, 9]\n",
      "Weights : [0.175 0.25  0.15  0.2   0.225]\n",
      " Design 1 = 6.986660123425711\n",
      " Design 2 = 7.656168629882207\n",
      " Design 3 = 4.375\n",
      "\n",
      "Permutation 27 : [7, 10, 6, 9, 8]\n",
      "Weights : [0.175 0.25  0.15  0.225 0.2  ]\n",
      " Design 1 = 6.7616601234257105\n",
      " Design 2 = 7.65826100433974\n",
      " Design 3 = 4.6000000000000005\n",
      "\n",
      "Permutation 28 : [7, 10, 9, 8, 6]\n",
      "Weights : [0.175 0.25  0.225 0.2   0.15 ]\n",
      " Design 1 = 6.862651475461147\n",
      " Design 2 = 7.662445753254804\n",
      " Design 3 = 4.375\n",
      "\n",
      "Permutation 29 : [7, 10, 9, 6, 8]\n",
      "Weights : [0.175 0.25  0.225 0.15  0.2  ]\n",
      " Design 1 = 7.312651475461148\n",
      " Design 2 = 7.65826100433974\n",
      " Design 3 = 3.9250000000000003\n",
      "\n",
      "Permutation 30 : [7, 8, 10, 6, 9]\n",
      "Weights : [0.175 0.2   0.25  0.15  0.225]\n",
      " Design 1 = 7.271315259472959\n",
      " Design 2 = 7.806168629882207\n",
      " Design 3 = 3.9250000000000003\n",
      "\n",
      "Permutation 31 : [7, 8, 10, 9, 6]\n",
      "Weights : [0.175 0.2   0.25  0.225 0.15 ]\n",
      " Design 1 = 6.596315259472958\n",
      " Design 2 = 7.812445753254805\n",
      " Design 3 = 4.6000000000000005\n",
      "\n",
      "Permutation 32 : [7, 8, 6, 10, 9]\n",
      "Weights : [0.175 0.2   0.15  0.25  0.225]\n",
      " Design 1 = 6.536660123425711\n",
      " Design 2 = 7.806168629882207\n",
      " Design 3 = 4.824999999999999\n",
      "\n",
      "Permutation 33 : [7, 8, 6, 9, 10]\n",
      "Weights : [0.175 0.2   0.15  0.225 0.25 ]\n",
      " Design 1 = 6.7616601234257105\n",
      " Design 2 = 7.8040762554246745\n",
      " Design 3 = 4.6\n",
      "\n",
      "Permutation 34 : [7, 8, 9, 10, 6]\n",
      "Weights : [0.175 0.2   0.225 0.25  0.15 ]\n",
      " Design 1 = 6.412651475461147\n",
      " Design 2 = 7.812445753254805\n",
      " Design 3 = 4.825\n",
      "\n",
      "Permutation 35 : [7, 8, 9, 6, 10]\n",
      "Weights : [0.175 0.2   0.225 0.15  0.25 ]\n",
      " Design 1 = 7.312651475461148\n",
      " Design 2 = 7.8040762554246745\n",
      " Design 3 = 3.925\n",
      "\n",
      "Permutation 36 : [7, 6, 10, 8, 9]\n",
      "Weights : [0.175 0.15  0.25  0.2   0.225]\n",
      " Design 1 = 6.821315259472959\n",
      " Design 2 = 7.956168629882207\n",
      " Design 3 = 4.375\n",
      "\n",
      "Permutation 37 : [7, 6, 10, 9, 8]\n",
      "Weights : [0.175 0.15  0.25  0.225 0.2  ]\n",
      " Design 1 = 6.596315259472958\n",
      " Design 2 = 7.9582610043397395\n",
      " Design 3 = 4.6000000000000005\n",
      "\n",
      "Permutation 38 : [7, 6, 8, 10, 9]\n",
      "Weights : [0.175 0.15  0.2   0.25  0.225]\n",
      " Design 1 = 6.453987691449335\n",
      " Design 2 = 7.956168629882207\n",
      " Design 3 = 4.824999999999999\n",
      "\n",
      "Permutation 39 : [7, 6, 8, 9, 10]\n",
      "Weights : [0.175 0.15  0.2   0.225 0.25 ]\n",
      " Design 1 = 6.6789876914493345\n",
      " Design 2 = 7.954076255424674\n",
      " Design 3 = 4.6\n",
      "\n",
      "Permutation 40 : [7, 6, 9, 10, 8]\n",
      "Weights : [0.175 0.15  0.225 0.25  0.2  ]\n",
      " Design 1 = 6.412651475461147\n",
      " Design 2 = 7.9582610043397395\n",
      " Design 3 = 4.825\n",
      "\n",
      "Permutation 41 : [7, 6, 9, 8, 10]\n",
      "Weights : [0.175 0.15  0.225 0.2   0.25 ]\n",
      " Design 1 = 6.862651475461147\n",
      " Design 2 = 7.954076255424674\n",
      " Design 3 = 4.375\n",
      "\n",
      "Permutation 42 : [7, 9, 10, 8, 6]\n",
      "Weights : [0.175 0.225 0.25  0.2   0.15 ]\n",
      " Design 1 = 6.821315259472959\n",
      " Design 2 = 7.737445753254804\n",
      " Design 3 = 4.375\n",
      "\n",
      "Permutation 43 : [7, 9, 10, 6, 8]\n",
      "Weights : [0.175 0.225 0.25  0.15  0.2  ]\n",
      " Design 1 = 7.271315259472959\n",
      " Design 2 = 7.73326100433974\n",
      " Design 3 = 3.9250000000000003\n",
      "\n",
      "Permutation 44 : [7, 9, 8, 10, 6]\n",
      "Weights : [0.175 0.225 0.2   0.25  0.15 ]\n",
      " Design 1 = 6.453987691449335\n",
      " Design 2 = 7.737445753254804\n",
      " Design 3 = 4.825000000000001\n",
      "\n",
      "Permutation 45 : [7, 9, 8, 6, 10]\n",
      "Weights : [0.175 0.225 0.2   0.15  0.25 ]\n",
      " Design 1 = 7.353987691449335\n",
      " Design 2 = 7.729076255424674\n",
      " Design 3 = 3.9250000000000003\n",
      "\n",
      "Permutation 46 : [7, 9, 6, 10, 8]\n",
      "Weights : [0.175 0.225 0.15  0.25  0.2  ]\n",
      " Design 1 = 6.536660123425711\n",
      " Design 2 = 7.73326100433974\n",
      " Design 3 = 4.825\n",
      "\n",
      "Permutation 47 : [7, 9, 6, 8, 10]\n",
      "Weights : [0.175 0.225 0.15  0.2   0.25 ]\n",
      " Design 1 = 6.986660123425711\n",
      " Design 2 = 7.729076255424674\n",
      " Design 3 = 4.375\n",
      "\n",
      "Permutation 48 : [8, 10, 7, 6, 9]\n",
      "Weights : [0.2   0.25  0.175 0.15  0.225]\n",
      " Design 1 = 7.257420681631072\n",
      " Design 2 = 7.431168629882207\n",
      " Design 3 = 4.1499999999999995\n",
      "\n",
      "Permutation 49 : [8, 10, 7, 9, 6]\n",
      "Weights : [0.2   0.25  0.175 0.225 0.15 ]\n",
      " Design 1 = 6.5824206816310715\n",
      " Design 2 = 7.437445753254805\n",
      " Design 3 = 4.825\n",
      "\n",
      "Permutation 50 : [8, 10, 6, 7, 9]\n",
      "Weights : [0.2   0.25  0.15  0.175 0.225]\n",
      " Design 1 = 7.073756897619259\n",
      " Design 2 = 7.431168629882207\n",
      " Design 3 = 4.375\n",
      "\n",
      "Permutation 51 : [8, 10, 6, 9, 7]\n",
      "Weights : [0.2   0.25  0.15  0.225 0.175]\n",
      " Design 1 = 6.623756897619259\n",
      " Design 2 = 7.435353378797272\n",
      " Design 3 = 4.825\n",
      "\n",
      "Permutation 52 : [8, 10, 9, 7, 6]\n",
      "Weights : [0.2   0.25  0.225 0.175 0.15 ]\n",
      " Design 1 = 6.949748249654696\n",
      " Design 2 = 7.437445753254805\n",
      " Design 3 = 4.375\n",
      "\n",
      "Permutation 53 : [8, 10, 9, 6, 7]\n",
      "Weights : [0.2   0.25  0.225 0.15  0.175]\n",
      " Design 1 = 7.174748249654696\n",
      " Design 2 = 7.435353378797272\n",
      " Design 3 = 4.15\n",
      "\n",
      "Permutation 54 : [8, 7, 10, 6, 9]\n",
      "Weights : [0.2   0.175 0.25  0.15  0.225]\n",
      " Design 1 = 7.133412033666508\n",
      " Design 2 = 7.656168629882207\n",
      " Design 3 = 4.1499999999999995\n",
      "\n",
      "Permutation 55 : [8, 7, 10, 9, 6]\n",
      "Weights : [0.2   0.175 0.25  0.225 0.15 ]\n",
      " Design 1 = 6.458412033666507\n",
      " Design 2 = 7.662445753254804\n",
      " Design 3 = 4.825\n",
      "\n",
      "Permutation 56 : [8, 7, 6, 10, 9]\n",
      "Weights : [0.2   0.175 0.15  0.25  0.225]\n",
      " Design 1 = 6.3987568976192595\n",
      " Design 2 = 7.656168629882207\n",
      " Design 3 = 5.049999999999999\n",
      "\n",
      "Permutation 57 : [8, 7, 6, 9, 10]\n",
      "Weights : [0.2   0.175 0.15  0.225 0.25 ]\n",
      " Design 1 = 6.623756897619259\n",
      " Design 2 = 7.654076255424674\n",
      " Design 3 = 4.824999999999999\n",
      "\n",
      "Permutation 58 : [8, 7, 9, 10, 6]\n",
      "Weights : [0.2   0.175 0.225 0.25  0.15 ]\n",
      " Design 1 = 6.274748249654696\n",
      " Design 2 = 7.662445753254804\n",
      " Design 3 = 5.050000000000001\n",
      "\n",
      "Permutation 59 : [8, 7, 9, 6, 10]\n",
      "Weights : [0.2   0.175 0.225 0.15  0.25 ]\n",
      " Design 1 = 7.174748249654696\n",
      " Design 2 = 7.654076255424674\n",
      " Design 3 = 4.15\n",
      "\n",
      "Permutation 60 : [8, 6, 10, 7, 9]\n",
      "Weights : [0.2   0.15  0.25  0.175 0.225]\n",
      " Design 1 = 6.908412033666507\n",
      " Design 2 = 7.731168629882207\n",
      " Design 3 = 4.375\n",
      "\n",
      "Permutation 61 : [8, 6, 10, 9, 7]\n",
      "Weights : [0.2   0.15  0.25  0.225 0.175]\n",
      " Design 1 = 6.458412033666507\n",
      " Design 2 = 7.735353378797272\n",
      " Design 3 = 4.825\n",
      "\n",
      "Permutation 62 : [8, 6, 7, 10, 9]\n",
      "Weights : [0.2   0.15  0.175 0.25  0.225]\n",
      " Design 1 = 6.357420681631072\n",
      " Design 2 = 7.731168629882207\n",
      " Design 3 = 5.049999999999999\n",
      "\n",
      "Permutation 63 : [8, 6, 7, 9, 10]\n",
      "Weights : [0.2   0.15  0.175 0.225 0.25 ]\n",
      " Design 1 = 6.5824206816310715\n",
      " Design 2 = 7.729076255424674\n",
      " Design 3 = 4.824999999999999\n",
      "\n",
      "Permutation 64 : [8, 6, 9, 10, 7]\n",
      "Weights : [0.2   0.15  0.225 0.25  0.175]\n",
      " Design 1 = 6.274748249654696\n",
      " Design 2 = 7.735353378797272\n",
      " Design 3 = 5.05\n",
      "\n",
      "Permutation 65 : [8, 6, 9, 7, 10]\n",
      "Weights : [0.2   0.15  0.225 0.175 0.25 ]\n",
      " Design 1 = 6.949748249654696\n",
      " Design 2 = 7.729076255424674\n",
      " Design 3 = 4.375\n",
      "\n",
      "Permutation 66 : [8, 9, 10, 7, 6]\n",
      "Weights : [0.2   0.225 0.25  0.175 0.15 ]\n",
      " Design 1 = 6.908412033666507\n",
      " Design 2 = 7.512445753254805\n",
      " Design 3 = 4.375\n",
      "\n",
      "Permutation 67 : [8, 9, 10, 6, 7]\n",
      "Weights : [0.2   0.225 0.25  0.15  0.175]\n",
      " Design 1 = 7.133412033666508\n",
      " Design 2 = 7.510353378797272\n",
      " Design 3 = 4.15\n",
      "\n",
      "Permutation 68 : [8, 9, 7, 10, 6]\n",
      "Weights : [0.2   0.225 0.175 0.25  0.15 ]\n",
      " Design 1 = 6.357420681631072\n",
      " Design 2 = 7.512445753254805\n",
      " Design 3 = 5.050000000000001\n",
      "\n",
      "Permutation 69 : [8, 9, 7, 6, 10]\n",
      "Weights : [0.2   0.225 0.175 0.15  0.25 ]\n",
      " Design 1 = 7.257420681631072\n",
      " Design 2 = 7.504076255424675\n",
      " Design 3 = 4.15\n",
      "\n",
      "Permutation 70 : [8, 9, 6, 10, 7]\n",
      "Weights : [0.2   0.225 0.15  0.25  0.175]\n",
      " Design 1 = 6.3987568976192595\n",
      " Design 2 = 7.510353378797272\n",
      " Design 3 = 5.05\n",
      "\n",
      "Permutation 71 : [8, 9, 6, 7, 10]\n",
      "Weights : [0.2   0.225 0.15  0.175 0.25 ]\n",
      " Design 1 = 7.073756897619259\n",
      " Design 2 = 7.504076255424675\n",
      " Design 3 = 4.375\n",
      "\n",
      "Permutation 72 : [6, 10, 7, 8, 9]\n",
      "Weights : [0.15  0.25  0.175 0.2   0.225]\n",
      " Design 1 = 7.083227133243975\n",
      " Design 2 = 7.8811686298822075\n",
      " Design 3 = 4.1499999999999995\n",
      "\n",
      "Permutation 73 : [6, 10, 7, 9, 8]\n",
      "Weights : [0.15  0.25  0.175 0.225 0.2  ]\n",
      " Design 1 = 6.858227133243974\n",
      " Design 2 = 7.88326100433974\n",
      " Design 3 = 4.375\n",
      "\n",
      "Permutation 74 : [6, 10, 8, 7, 9]\n",
      "Weights : [0.15  0.25  0.2   0.175 0.225]\n",
      " Design 1 = 7.266890917255786\n",
      " Design 2 = 7.8811686298822075\n",
      " Design 3 = 3.9250000000000003\n",
      "\n",
      "Permutation 75 : [6, 10, 8, 9, 7]\n",
      "Weights : [0.15  0.25  0.2   0.225 0.175]\n",
      " Design 1 = 6.816890917255786\n",
      " Design 2 = 7.885353378797272\n",
      " Design 3 = 4.375\n",
      "\n",
      "Permutation 76 : [6, 10, 9, 7, 8]\n",
      "Weights : [0.15  0.25  0.225 0.175 0.2  ]\n",
      " Design 1 = 7.2255547012675985\n",
      " Design 2 = 7.88326100433974\n",
      " Design 3 = 3.9250000000000003\n",
      "\n",
      "Permutation 77 : [6, 10, 9, 8, 7]\n",
      "Weights : [0.15  0.25  0.225 0.2   0.175]\n",
      " Design 1 = 7.000554701267599\n",
      " Design 2 = 7.885353378797272\n",
      " Design 3 = 4.15\n",
      "\n",
      "Permutation 78 : [6, 7, 10, 8, 9]\n",
      "Weights : [0.15  0.175 0.25  0.2   0.225]\n",
      " Design 1 = 6.95921848527941\n",
      " Design 2 = 8.106168629882207\n",
      " Design 3 = 4.1499999999999995\n",
      "\n",
      "Permutation 79 : [6, 7, 10, 9, 8]\n",
      "Weights : [0.15  0.175 0.25  0.225 0.2  ]\n",
      " Design 1 = 6.73421848527941\n",
      " Design 2 = 8.10826100433974\n",
      " Design 3 = 4.375\n",
      "\n",
      "Permutation 80 : [6, 7, 8, 10, 9]\n",
      "Weights : [0.15  0.175 0.2   0.25  0.225]\n",
      " Design 1 = 6.591890917255786\n",
      " Design 2 = 8.106168629882207\n",
      " Design 3 = 4.6\n",
      "\n",
      "Permutation 81 : [6, 7, 8, 9, 10]\n",
      "Weights : [0.15  0.175 0.2   0.225 0.25 ]\n",
      " Design 1 = 6.816890917255786\n",
      " Design 2 = 8.104076255424674\n",
      " Design 3 = 4.375\n",
      "\n",
      "Permutation 82 : [6, 7, 9, 10, 8]\n",
      "Weights : [0.15  0.175 0.225 0.25  0.2  ]\n",
      " Design 1 = 6.550554701267599\n",
      " Design 2 = 8.10826100433974\n",
      " Design 3 = 4.6000000000000005\n",
      "\n",
      "Permutation 83 : [6, 7, 9, 8, 10]\n",
      "Weights : [0.15  0.175 0.225 0.2   0.25 ]\n",
      " Design 1 = 7.000554701267599\n",
      " Design 2 = 8.104076255424674\n",
      " Design 3 = 4.15\n",
      "\n",
      "Permutation 84 : [6, 8, 10, 7, 9]\n",
      "Weights : [0.15  0.2   0.25  0.175 0.225]\n",
      " Design 1 = 7.18421848527941\n",
      " Design 2 = 8.031168629882206\n",
      " Design 3 = 3.9250000000000003\n",
      "\n",
      "Permutation 85 : [6, 8, 10, 9, 7]\n",
      "Weights : [0.15  0.2   0.25  0.225 0.175]\n",
      " Design 1 = 6.73421848527941\n",
      " Design 2 = 8.035353378797272\n",
      " Design 3 = 4.375\n",
      "\n",
      "Permutation 86 : [6, 8, 7, 10, 9]\n",
      "Weights : [0.15  0.2   0.175 0.25  0.225]\n",
      " Design 1 = 6.633227133243975\n",
      " Design 2 = 8.031168629882206\n",
      " Design 3 = 4.6\n",
      "\n",
      "Permutation 87 : [6, 8, 7, 9, 10]\n",
      "Weights : [0.15  0.2   0.175 0.225 0.25 ]\n",
      " Design 1 = 6.858227133243974\n",
      " Design 2 = 8.029076255424673\n",
      " Design 3 = 4.375\n",
      "\n",
      "Permutation 88 : [6, 8, 9, 10, 7]\n",
      "Weights : [0.15  0.2   0.225 0.25  0.175]\n",
      " Design 1 = 6.550554701267599\n",
      " Design 2 = 8.035353378797272\n",
      " Design 3 = 4.6\n",
      "\n",
      "Permutation 89 : [6, 8, 9, 7, 10]\n",
      "Weights : [0.15  0.2   0.225 0.175 0.25 ]\n",
      " Design 1 = 7.2255547012675985\n",
      " Design 2 = 8.029076255424673\n",
      " Design 3 = 3.925\n",
      "\n",
      "Permutation 90 : [6, 9, 10, 7, 8]\n",
      "Weights : [0.15  0.225 0.25  0.175 0.2  ]\n",
      " Design 1 = 7.18421848527941\n",
      " Design 2 = 7.9582610043397395\n",
      " Design 3 = 3.9250000000000003\n",
      "\n",
      "Permutation 91 : [6, 9, 10, 8, 7]\n",
      "Weights : [0.15  0.225 0.25  0.2   0.175]\n",
      " Design 1 = 6.95921848527941\n",
      " Design 2 = 7.960353378797271\n",
      " Design 3 = 4.15\n",
      "\n",
      "Permutation 92 : [6, 9, 7, 10, 8]\n",
      "Weights : [0.15  0.225 0.175 0.25  0.2  ]\n",
      " Design 1 = 6.633227133243975\n",
      " Design 2 = 7.9582610043397395\n",
      " Design 3 = 4.6000000000000005\n",
      "\n",
      "Permutation 93 : [6, 9, 7, 8, 10]\n",
      "Weights : [0.15  0.225 0.175 0.2   0.25 ]\n",
      " Design 1 = 7.083227133243975\n",
      " Design 2 = 7.954076255424674\n",
      " Design 3 = 4.15\n",
      "\n",
      "Permutation 94 : [6, 9, 8, 10, 7]\n",
      "Weights : [0.15  0.225 0.2   0.25  0.175]\n",
      " Design 1 = 6.591890917255786\n",
      " Design 2 = 7.960353378797271\n",
      " Design 3 = 4.6\n",
      "\n",
      "Permutation 95 : [6, 9, 8, 7, 10]\n",
      "Weights : [0.15  0.225 0.2   0.175 0.25 ]\n",
      " Design 1 = 7.266890917255786\n",
      " Design 2 = 7.954076255424674\n",
      " Design 3 = 3.925\n",
      "\n",
      "Permutation 96 : [9, 10, 7, 8, 6]\n",
      "Weights : [0.225 0.25  0.175 0.2   0.15 ]\n",
      " Design 1 = 6.669517455824621\n",
      " Design 2 = 7.212445753254804\n",
      " Design 3 = 4.825\n",
      "\n",
      "Permutation 97 : [9, 10, 7, 6, 8]\n",
      "Weights : [0.225 0.25  0.175 0.15  0.2  ]\n",
      " Design 1 = 7.119517455824621\n",
      " Design 2 = 7.2082610043397395\n",
      " Design 3 = 4.375\n",
      "\n",
      "Permutation 98 : [9, 10, 8, 7, 6]\n",
      "Weights : [0.225 0.25  0.2   0.175 0.15 ]\n",
      " Design 1 = 6.853181239836432\n",
      " Design 2 = 7.212445753254804\n",
      " Design 3 = 4.6000000000000005\n",
      "\n",
      "Permutation 99 : [9, 10, 8, 6, 7]\n",
      "Weights : [0.225 0.25  0.2   0.15  0.175]\n",
      " Design 1 = 7.078181239836432\n",
      " Design 2 = 7.210353378797271\n",
      " Design 3 = 4.375\n",
      "\n",
      "Permutation 100 : [9, 10, 6, 7, 8]\n",
      "Weights : [0.225 0.25  0.15  0.175 0.2  ]\n",
      " Design 1 = 6.935853671812808\n",
      " Design 2 = 7.2082610043397395\n",
      " Design 3 = 4.6000000000000005\n",
      "\n",
      "Permutation 101 : [9, 10, 6, 8, 7]\n",
      "Weights : [0.225 0.25  0.15  0.2   0.175]\n",
      " Design 1 = 6.710853671812808\n",
      " Design 2 = 7.210353378797271\n",
      " Design 3 = 4.825\n",
      "\n",
      "Permutation 102 : [9, 7, 10, 8, 6]\n",
      "Weights : [0.225 0.175 0.25  0.2   0.15 ]\n",
      " Design 1 = 6.545508807860056\n",
      " Design 2 = 7.437445753254805\n",
      " Design 3 = 4.825\n",
      "\n",
      "Permutation 103 : [9, 7, 10, 6, 8]\n",
      "Weights : [0.225 0.175 0.25  0.15  0.2  ]\n",
      " Design 1 = 6.995508807860056\n",
      " Design 2 = 7.43326100433974\n",
      " Design 3 = 4.375\n",
      "\n",
      "Permutation 104 : [9, 7, 8, 10, 6]\n",
      "Weights : [0.225 0.175 0.2   0.25  0.15 ]\n",
      " Design 1 = 6.178181239836432\n",
      " Design 2 = 7.437445753254805\n",
      " Design 3 = 5.275\n",
      "\n",
      "Permutation 105 : [9, 7, 8, 6, 10]\n",
      "Weights : [0.225 0.175 0.2   0.15  0.25 ]\n",
      " Design 1 = 7.078181239836432\n",
      " Design 2 = 7.4290762554246745\n",
      " Design 3 = 4.375\n",
      "\n",
      "Permutation 106 : [9, 7, 6, 10, 8]\n",
      "Weights : [0.225 0.175 0.15  0.25  0.2  ]\n",
      " Design 1 = 6.260853671812808\n",
      " Design 2 = 7.43326100433974\n",
      " Design 3 = 5.2749999999999995\n",
      "\n",
      "Permutation 107 : [9, 7, 6, 8, 10]\n",
      "Weights : [0.225 0.175 0.15  0.2   0.25 ]\n",
      " Design 1 = 6.710853671812808\n",
      " Design 2 = 7.4290762554246745\n",
      " Design 3 = 4.824999999999999\n",
      "\n",
      "Permutation 108 : [9, 8, 10, 7, 6]\n",
      "Weights : [0.225 0.2   0.25  0.175 0.15 ]\n",
      " Design 1 = 6.770508807860056\n",
      " Design 2 = 7.362445753254804\n",
      " Design 3 = 4.6000000000000005\n",
      "\n",
      "Permutation 109 : [9, 8, 10, 6, 7]\n",
      "Weights : [0.225 0.2   0.25  0.15  0.175]\n",
      " Design 1 = 6.995508807860056\n",
      " Design 2 = 7.360353378797272\n",
      " Design 3 = 4.375\n",
      "\n",
      "Permutation 110 : [9, 8, 7, 10, 6]\n",
      "Weights : [0.225 0.2   0.175 0.25  0.15 ]\n",
      " Design 1 = 6.2195174558246205\n",
      " Design 2 = 7.362445753254804\n",
      " Design 3 = 5.275\n",
      "\n",
      "Permutation 111 : [9, 8, 7, 6, 10]\n",
      "Weights : [0.225 0.2   0.175 0.15  0.25 ]\n",
      " Design 1 = 7.119517455824621\n",
      " Design 2 = 7.354076255424674\n",
      " Design 3 = 4.375\n",
      "\n",
      "Permutation 112 : [9, 8, 6, 10, 7]\n",
      "Weights : [0.225 0.2   0.15  0.25  0.175]\n",
      " Design 1 = 6.260853671812808\n",
      " Design 2 = 7.360353378797272\n",
      " Design 3 = 5.2749999999999995\n",
      "\n",
      "Permutation 113 : [9, 8, 6, 7, 10]\n",
      "Weights : [0.225 0.2   0.15  0.175 0.25 ]\n",
      " Design 1 = 6.935853671812808\n",
      " Design 2 = 7.354076255424674\n",
      " Design 3 = 4.6\n",
      "\n",
      "Permutation 114 : [9, 6, 10, 7, 8]\n",
      "Weights : [0.225 0.15  0.25  0.175 0.2  ]\n",
      " Design 1 = 6.770508807860056\n",
      " Design 2 = 7.50826100433974\n",
      " Design 3 = 4.6000000000000005\n",
      "\n",
      "Permutation 115 : [9, 6, 10, 8, 7]\n",
      "Weights : [0.225 0.15  0.25  0.2   0.175]\n",
      " Design 1 = 6.545508807860056\n",
      " Design 2 = 7.510353378797272\n",
      " Design 3 = 4.825\n",
      "\n",
      "Permutation 116 : [9, 6, 7, 10, 8]\n",
      "Weights : [0.225 0.15  0.175 0.25  0.2  ]\n",
      " Design 1 = 6.2195174558246205\n",
      " Design 2 = 7.50826100433974\n",
      " Design 3 = 5.2749999999999995\n",
      "\n",
      "Permutation 117 : [9, 6, 7, 8, 10]\n",
      "Weights : [0.225 0.15  0.175 0.2   0.25 ]\n",
      " Design 1 = 6.669517455824621\n",
      " Design 2 = 7.504076255424675\n",
      " Design 3 = 4.824999999999999\n",
      "\n",
      "Permutation 118 : [9, 6, 8, 10, 7]\n",
      "Weights : [0.225 0.15  0.2   0.25  0.175]\n",
      " Design 1 = 6.178181239836432\n",
      " Design 2 = 7.510353378797272\n",
      " Design 3 = 5.2749999999999995\n",
      "\n",
      "Permutation 119 : [9, 6, 8, 7, 10]\n",
      "Weights : [0.225 0.15  0.2   0.175 0.25 ]\n",
      " Design 1 = 6.853181239836432\n",
      " Design 2 = 7.504076255424675\n",
      " Design 3 = 4.6\n",
      "\n"
     ]
    }
   ],
   "source": [
    "## PRINTING RESULTS OF ANALYSIS\n",
    "for n,weight in enumerate(weights):\n",
    "    print(\"Permutation\",n,':',weight[0])\n",
    "    print(\"Weights\",':',weight[1])\n",
    "    print(\" Design 1 =\",design1[n])\n",
    "    print(\" Design 2 =\",design2[n])\n",
    "    print(\" Design 3 =\",design3[n])\n",
    "    print('')"
   ]
  },
  {
   "cell_type": "code",
   "execution_count": 72,
   "metadata": {},
   "outputs": [],
   "source": [
    "# weights=np.array(weights)\n",
    "# results = pd.DataFrame(data={\"Importance\":weights[:,0],\n",
    "# \"Percentage\":weights[:,1],\n",
    "# \"Design1\":design1,\n",
    "# \"Design2\":design2,\n",
    "# \"Design3\":design3})\n",
    "\n",
    "# results.head()"
   ]
  },
  {
   "cell_type": "code",
   "execution_count": 73,
   "metadata": {},
   "outputs": [],
   "source": [
    "# results.to_csv(\"sensitivty_analysis.csv\")"
   ]
  },
  {
   "cell_type": "code",
   "execution_count": 74,
   "metadata": {},
   "outputs": [
    {
     "data": {
      "text/plain": [
       "Text(0.5, 1.0, 'Summary of Sensitivity Analysis')"
      ]
     },
     "execution_count": 74,
     "metadata": {},
     "output_type": "execute_result"
    },
    {
     "data": {
      "image/png": "[encoded data removed]",
      "text/plain": [
       "<Figure size 1000x300 with 1 Axes>"
      ]
     },
     "metadata": {},
     "output_type": "display_data"
    }
   ],
   "source": [
    "## PLOTTING RESULTS OF ANALYSIS\n",
    "x=range(len(weights))\n",
    "f, ax = plt.subplots(1,1, figsize=(10,3))\n",
    "sns.lineplot(x=x, y=design1, ax = ax, label = 'Inception V3')\n",
    "sns.lineplot(x=x, y=design2, ax = ax, label = 'EfficientNet V2L')\n",
    "sns.lineplot(x=x, y=design3, ax = ax, label = 'MobileNet V3')\n",
    "ax.set_ylabel('sensitivity level')\n",
    "ax.set_xlabel('permutation step')\n",
    "ax.set_title('Summary of Sensitivity Analysis')"
   ]
  },
  {
   "cell_type": "code",
   "execution_count": 75,
   "metadata": {},
   "outputs": [
    {
     "data": {
      "application/vnd.plotly.v1+json": {
       "config": {
        "plotlyServerURL": "https://plot.ly"
       },
       "data": [
        {
         "name": "Design 1: Inception V3",
         "r": [
          6.940278014029981,
          6.26527801402998,
          6.572950446006357,
          6.347950446006356,
          6.448941798041793,
          6.898941798041793,
          6.981614230018169,
          6.306614230018169,
          6.7979504460063565,
          6.347950446006356,
          6.673941798041793,
          6.898941798041793,
          6.531614230018169,
          6.306614230018169,
          6.71527801402998,
          6.26527801402998,
          6.673941798041793,
          6.448941798041793,
          6.531614230018169,
          6.981614230018169,
          6.71527801402998,
          6.940278014029981,
          6.7979504460063565,
          6.572950446006357,
          7.353987691449335,
          6.6789876914493345,
          6.986660123425711,
          6.7616601234257105,
          6.862651475461147,
          7.312651475461148,
          7.271315259472959,
          6.596315259472958,
          6.536660123425711,
          6.7616601234257105,
          6.412651475461147,
          7.312651475461148,
          6.821315259472959,
          6.596315259472958,
          6.453987691449335,
          6.6789876914493345,
          6.412651475461147,
          6.862651475461147,
          6.821315259472959,
          7.271315259472959,
          6.453987691449335,
          7.353987691449335,
          6.536660123425711,
          6.986660123425711,
          7.257420681631072,
          6.5824206816310715,
          7.073756897619259,
          6.623756897619259,
          6.949748249654696,
          7.174748249654696,
          7.133412033666508,
          6.458412033666507,
          6.3987568976192595,
          6.623756897619259,
          6.274748249654696,
          7.174748249654696,
          6.908412033666507,
          6.458412033666507,
          6.357420681631072,
          6.5824206816310715,
          6.274748249654696,
          6.949748249654696,
          6.908412033666507,
          7.133412033666508,
          6.357420681631072,
          7.257420681631072,
          6.3987568976192595,
          7.073756897619259,
          7.083227133243975,
          6.858227133243974,
          7.266890917255786,
          6.816890917255786,
          7.2255547012675985,
          7.000554701267599,
          6.95921848527941,
          6.73421848527941,
          6.591890917255786,
          6.816890917255786,
          6.550554701267599,
          7.000554701267599,
          7.18421848527941,
          6.73421848527941,
          6.633227133243975,
          6.858227133243974,
          6.550554701267599,
          7.2255547012675985,
          7.18421848527941,
          6.95921848527941,
          6.633227133243975,
          7.083227133243975,
          6.591890917255786,
          7.266890917255786,
          6.669517455824621,
          7.119517455824621,
          6.853181239836432,
          7.078181239836432,
          6.935853671812808,
          6.710853671812808,
          6.545508807860056,
          6.995508807860056,
          6.178181239836432,
          7.078181239836432,
          6.260853671812808,
          6.710853671812808,
          6.770508807860056,
          6.995508807860056,
          6.2195174558246205,
          7.119517455824621,
          6.260853671812808,
          6.935853671812808,
          6.770508807860056,
          6.545508807860056,
          6.2195174558246205,
          6.669517455824621,
          6.178181239836432,
          6.853181239836432
         ],
         "theta": [
          "0",
          "1",
          "2",
          "3",
          "4",
          "5",
          "6",
          "7",
          "8",
          "9",
          "10",
          "11",
          "12",
          "13",
          "14",
          "15",
          "16",
          "17",
          "18",
          "19",
          "20",
          "21",
          "22",
          "23",
          "24",
          "25",
          "26",
          "27",
          "28",
          "29",
          "30",
          "31",
          "32",
          "33",
          "34",
          "35",
          "36",
          "37",
          "38",
          "39",
          "40",
          "41",
          "42",
          "43",
          "44",
          "45",
          "46",
          "47",
          "48",
          "49",
          "50",
          "51",
          "52",
          "53",
          "54",
          "55",
          "56",
          "57",
          "58",
          "59",
          "60",
          "61",
          "62",
          "63",
          "64",
          "65",
          "66",
          "67",
          "68",
          "69",
          "70",
          "71",
          "72",
          "73",
          "74",
          "75",
          "76",
          "77",
          "78",
          "79",
          "80",
          "81",
          "82",
          "83",
          "84",
          "85",
          "86",
          "87",
          "88",
          "89",
          "90",
          "91",
          "92",
          "93",
          "94",
          "95",
          "96",
          "97",
          "98",
          "99",
          "100",
          "101",
          "102",
          "103",
          "104",
          "105",
          "106",
          "107",
          "108",
          "109",
          "110",
          "111",
          "112",
          "113",
          "114",
          "115",
          "116",
          "117",
          "118",
          "119"
         ],
         "type": "scatterpolar"
        },
        {
         "name": "Design 2: EfficientNet V2",
         "r": [
          7.206168629882207,
          7.212445753254804,
          7.206168629882207,
          7.2082610043397395,
          7.212445753254804,
          7.2082610043397395,
          7.1311686298822075,
          7.137445753254805,
          7.1311686298822075,
          7.135353378797272,
          7.137445753254805,
          7.135353378797272,
          7.281168629882207,
          7.28326100433974,
          7.281168629882207,
          7.2853533787972715,
          7.28326100433974,
          7.2853533787972715,
          7.062445753254805,
          7.05826100433974,
          7.062445753254805,
          7.060353378797272,
          7.05826100433974,
          7.060353378797272,
          7.656168629882207,
          7.662445753254804,
          7.656168629882207,
          7.65826100433974,
          7.662445753254804,
          7.65826100433974,
          7.806168629882207,
          7.812445753254805,
          7.806168629882207,
          7.8040762554246745,
          7.812445753254805,
          7.8040762554246745,
          7.956168629882207,
          7.9582610043397395,
          7.956168629882207,
          7.954076255424674,
          7.9582610043397395,
          7.954076255424674,
          7.737445753254804,
          7.73326100433974,
          7.737445753254804,
          7.729076255424674,
          7.73326100433974,
          7.729076255424674,
          7.431168629882207,
          7.437445753254805,
          7.431168629882207,
          7.435353378797272,
          7.437445753254805,
          7.435353378797272,
          7.656168629882207,
          7.662445753254804,
          7.656168629882207,
          7.654076255424674,
          7.662445753254804,
          7.654076255424674,
          7.731168629882207,
          7.735353378797272,
          7.731168629882207,
          7.729076255424674,
          7.735353378797272,
          7.729076255424674,
          7.512445753254805,
          7.510353378797272,
          7.512445753254805,
          7.504076255424675,
          7.510353378797272,
          7.504076255424675,
          7.8811686298822075,
          7.88326100433974,
          7.8811686298822075,
          7.885353378797272,
          7.88326100433974,
          7.885353378797272,
          8.106168629882207,
          8.10826100433974,
          8.106168629882207,
          8.104076255424674,
          8.10826100433974,
          8.104076255424674,
          8.031168629882206,
          8.035353378797272,
          8.031168629882206,
          8.029076255424673,
          8.035353378797272,
          8.029076255424673,
          7.9582610043397395,
          7.960353378797271,
          7.9582610043397395,
          7.954076255424674,
          7.960353378797271,
          7.954076255424674,
          7.212445753254804,
          7.2082610043397395,
          7.212445753254804,
          7.210353378797271,
          7.2082610043397395,
          7.210353378797271,
          7.437445753254805,
          7.43326100433974,
          7.437445753254805,
          7.4290762554246745,
          7.43326100433974,
          7.4290762554246745,
          7.362445753254804,
          7.360353378797272,
          7.362445753254804,
          7.354076255424674,
          7.360353378797272,
          7.354076255424674,
          7.50826100433974,
          7.510353378797272,
          7.50826100433974,
          7.504076255424675,
          7.510353378797272,
          7.504076255424675
         ],
         "theta": [
          "0",
          "1",
          "2",
          "3",
          "4",
          "5",
          "6",
          "7",
          "8",
          "9",
          "10",
          "11",
          "12",
          "13",
          "14",
          "15",
          "16",
          "17",
          "18",
          "19",
          "20",
          "21",
          "22",
          "23",
          "24",
          "25",
          "26",
          "27",
          "28",
          "29",
          "30",
          "31",
          "32",
          "33",
          "34",
          "35",
          "36",
          "37",
          "38",
          "39",
          "40",
          "41",
          "42",
          "43",
          "44",
          "45",
          "46",
          "47",
          "48",
          "49",
          "50",
          "51",
          "52",
          "53",
          "54",
          "55",
          "56",
          "57",
          "58",
          "59",
          "60",
          "61",
          "62",
          "63",
          "64",
          "65",
          "66",
          "67",
          "68",
          "69",
          "70",
          "71",
          "72",
          "73",
          "74",
          "75",
          "76",
          "77",
          "78",
          "79",
          "80",
          "81",
          "82",
          "83",
          "84",
          "85",
          "86",
          "87",
          "88",
          "89",
          "90",
          "91",
          "92",
          "93",
          "94",
          "95",
          "96",
          "97",
          "98",
          "99",
          "100",
          "101",
          "102",
          "103",
          "104",
          "105",
          "106",
          "107",
          "108",
          "109",
          "110",
          "111",
          "112",
          "113",
          "114",
          "115",
          "116",
          "117",
          "118",
          "119"
         ],
         "type": "scatterpolar"
        },
        {
         "name": "Design 3: MobileNet V3",
         "r": [
          4.6,
          5.275,
          5.049999999999999,
          5.2749999999999995,
          5.050000000000001,
          4.6000000000000005,
          4.6,
          5.275,
          4.824999999999999,
          5.2749999999999995,
          4.825000000000001,
          4.6000000000000005,
          5.049999999999999,
          5.2749999999999995,
          4.824999999999999,
          5.2749999999999995,
          4.825,
          5.05,
          5.050000000000001,
          4.6000000000000005,
          4.825000000000001,
          4.6000000000000005,
          4.825,
          5.05,
          3.9250000000000003,
          4.6000000000000005,
          4.375,
          4.6000000000000005,
          4.375,
          3.9250000000000003,
          3.9250000000000003,
          4.6000000000000005,
          4.824999999999999,
          4.6,
          4.825,
          3.925,
          4.375,
          4.6000000000000005,
          4.824999999999999,
          4.6,
          4.825,
          4.375,
          4.375,
          3.9250000000000003,
          4.825000000000001,
          3.9250000000000003,
          4.825,
          4.375,
          4.1499999999999995,
          4.825,
          4.375,
          4.825,
          4.375,
          4.15,
          4.1499999999999995,
          4.825,
          5.049999999999999,
          4.824999999999999,
          5.050000000000001,
          4.15,
          4.375,
          4.825,
          5.049999999999999,
          4.824999999999999,
          5.05,
          4.375,
          4.375,
          4.15,
          5.050000000000001,
          4.15,
          5.05,
          4.375,
          4.1499999999999995,
          4.375,
          3.9250000000000003,
          4.375,
          3.9250000000000003,
          4.15,
          4.1499999999999995,
          4.375,
          4.6,
          4.375,
          4.6000000000000005,
          4.15,
          3.9250000000000003,
          4.375,
          4.6,
          4.375,
          4.6,
          3.925,
          3.9250000000000003,
          4.15,
          4.6000000000000005,
          4.15,
          4.6,
          3.925,
          4.825,
          4.375,
          4.6000000000000005,
          4.375,
          4.6000000000000005,
          4.825,
          4.825,
          4.375,
          5.275,
          4.375,
          5.2749999999999995,
          4.824999999999999,
          4.6000000000000005,
          4.375,
          5.275,
          4.375,
          5.2749999999999995,
          4.6,
          4.6000000000000005,
          4.825,
          5.2749999999999995,
          4.824999999999999,
          5.2749999999999995,
          4.6
         ],
         "theta": [
          "0",
          "1",
          "2",
          "3",
          "4",
          "5",
          "6",
          "7",
          "8",
          "9",
          "10",
          "11",
          "12",
          "13",
          "14",
          "15",
          "16",
          "17",
          "18",
          "19",
          "20",
          "21",
          "22",
          "23",
          "24",
          "25",
          "26",
          "27",
          "28",
          "29",
          "30",
          "31",
          "32",
          "33",
          "34",
          "35",
          "36",
          "37",
          "38",
          "39",
          "40",
          "41",
          "42",
          "43",
          "44",
          "45",
          "46",
          "47",
          "48",
          "49",
          "50",
          "51",
          "52",
          "53",
          "54",
          "55",
          "56",
          "57",
          "58",
          "59",
          "60",
          "61",
          "62",
          "63",
          "64",
          "65",
          "66",
          "67",
          "68",
          "69",
          "70",
          "71",
          "72",
          "73",
          "74",
          "75",
          "76",
          "77",
          "78",
          "79",
          "80",
          "81",
          "82",
          "83",
          "84",
          "85",
          "86",
          "87",
          "88",
          "89",
          "90",
          "91",
          "92",
          "93",
          "94",
          "95",
          "96",
          "97",
          "98",
          "99",
          "100",
          "101",
          "102",
          "103",
          "104",
          "105",
          "106",
          "107",
          "108",
          "109",
          "110",
          "111",
          "112",
          "113",
          "114",
          "115",
          "116",
          "117",
          "118",
          "119"
         ],
         "type": "scatterpolar"
        }
       ],
       "layout": {
        "annotations": [
         {
          "showarrow": false,
          "text": "",
          "x": 0,
          "xref": "paper",
          "y": 0.75,
          "yref": "paper"
         }
        ],
        "autosize": false,
        "height": 700,
        "legend": {
         "font": {
          "size": 12
         },
         "traceorder": "normal",
         "x": 0,
         "y": 0.7
        },
        "margin": {
         "b": 100,
         "l": 50,
         "pad": 4,
         "r": 50,
         "t": 100
        },
        "plot_bgcolor": "rgba(0,0,0,0)",
        "polar": {
         "radialaxis": {
          "range": [
           0,
           10
          ]
         }
        },
        "template": {
         "data": {
          "bar": [
           {
            "error_x": {
             "color": "#2a3f5f"
            },
            "error_y": {
             "color": "#2a3f5f"
            },
            "marker": {
             "line": {
              "color": "#E5ECF6",
              "width": 0.5
             },
             "pattern": {
              "fillmode": "overlay",
              "size": 10,
              "solidity": 0.2
             }
            },
            "type": "bar"
           }
          ],
          "barpolar": [
           {
            "marker": {
             "line": {
              "color": "#E5ECF6",
              "width": 0.5
             },
             "pattern": {
              "fillmode": "overlay",
              "size": 10,
              "solidity": 0.2
             }
            },
            "type": "barpolar"
           }
          ],
          "carpet": [
           {
            "aaxis": {
             "endlinecolor": "#2a3f5f",
             "gridcolor": "white",
             "linecolor": "white",
             "minorgridcolor": "white",
             "startlinecolor": "#2a3f5f"
            },
            "baxis": {
             "endlinecolor": "#2a3f5f",
             "gridcolor": "white",
             "linecolor": "white",
             "minorgridcolor": "white",
             "startlinecolor": "#2a3f5f"
            },
            "type": "carpet"
           }
          ],
          "choropleth": [
           {
            "colorbar": {
             "outlinewidth": 0,
             "ticks": ""
            },
            "type": "choropleth"
           }
          ],
          "contour": [
           {
            "colorbar": {
             "outlinewidth": 0,
             "ticks": ""
            },
            "colorscale": [
             [
              0,
              "#0d0887"
             ],
             [
              0.1111111111111111,
              "#46039f"
             ],
             [
              0.2222222222222222,
              "#7201a8"
             ],
             [
              0.3333333333333333,
              "#9c179e"
             ],
             [
              0.4444444444444444,
              "#bd3786"
             ],
             [
              0.5555555555555556,
              "#d8576b"
             ],
             [
              0.6666666666666666,
              "#ed7953"
             ],
             [
              0.7777777777777778,
              "#fb9f3a"
             ],
             [
              0.8888888888888888,
              "#fdca26"
             ],
             [
              1,
              "#f0f921"
             ]
            ],
            "type": "contour"
           }
          ],
          "contourcarpet": [
           {
            "colorbar": {
             "outlinewidth": 0,
             "ticks": ""
            },
            "type": "contourcarpet"
           }
          ],
          "heatmap": [
           {
            "colorbar": {
             "outlinewidth": 0,
             "ticks": ""
            },
            "colorscale": [
             [
              0,
              "#0d0887"
             ],
             [
              0.1111111111111111,
              "#46039f"
             ],
             [
              0.2222222222222222,
              "#7201a8"
             ],
             [
              0.3333333333333333,
              "#9c179e"
             ],
             [
              0.4444444444444444,
              "#bd3786"
             ],
             [
              0.5555555555555556,
              "#d8576b"
             ],
             [
              0.6666666666666666,
              "#ed7953"
             ],
             [
              0.7777777777777778,
              "#fb9f3a"
             ],
             [
              0.8888888888888888,
              "#fdca26"
             ],
             [
              1,
              "#f0f921"
             ]
            ],
            "type": "heatmap"
           }
          ],
          "heatmapgl": [
           {
            "colorbar": {
             "outlinewidth": 0,
             "ticks": ""
            },
            "colorscale": [
             [
              0,
              "#0d0887"
             ],
             [
              0.1111111111111111,
              "#46039f"
             ],
             [
              0.2222222222222222,
              "#7201a8"
             ],
             [
              0.3333333333333333,
              "#9c179e"
             ],
             [
              0.4444444444444444,
              "#bd3786"
             ],
             [
              0.5555555555555556,
              "#d8576b"
             ],
             [
              0.6666666666666666,
              "#ed7953"
             ],
             [
              0.7777777777777778,
              "#fb9f3a"
             ],
             [
              0.8888888888888888,
              "#fdca26"
             ],
             [
              1,
              "#f0f921"
             ]
            ],
            "type": "heatmapgl"
           }
          ],
          "histogram": [
           {
            "marker": {
             "pattern": {
              "fillmode": "overlay",
              "size": 10,
              "solidity": 0.2
             }
            },
            "type": "histogram"
           }
          ],
          "histogram2d": [
           {
            "colorbar": {
             "outlinewidth": 0,
             "ticks": ""
            },
            "colorscale": [
             [
              0,
              "#0d0887"
             ],
             [
              0.1111111111111111,
              "#46039f"
             ],
             [
              0.2222222222222222,
              "#7201a8"
             ],
             [
              0.3333333333333333,
              "#9c179e"
             ],
             [
              0.4444444444444444,
              "#bd3786"
             ],
             [
              0.5555555555555556,
              "#d8576b"
             ],
             [
              0.6666666666666666,
              "#ed7953"
             ],
             [
              0.7777777777777778,
              "#fb9f3a"
             ],
             [
              0.8888888888888888,
              "#fdca26"
             ],
             [
              1,
              "#f0f921"
             ]
            ],
            "type": "histogram2d"
           }
          ],
          "histogram2dcontour": [
           {
            "colorbar": {
             "outlinewidth": 0,
             "ticks": ""
            },
            "colorscale": [
             [
              0,
              "#0d0887"
             ],
             [
              0.1111111111111111,
              "#46039f"
             ],
             [
              0.2222222222222222,
              "#7201a8"
             ],
             [
              0.3333333333333333,
              "#9c179e"
             ],
             [
              0.4444444444444444,
              "#bd3786"
             ],
             [
              0.5555555555555556,
              "#d8576b"
             ],
             [
              0.6666666666666666,
              "#ed7953"
             ],
             [
              0.7777777777777778,
              "#fb9f3a"
             ],
             [
              0.8888888888888888,
              "#fdca26"
             ],
             [
              1,
              "#f0f921"
             ]
            ],
            "type": "histogram2dcontour"
           }
          ],
          "mesh3d": [
           {
            "colorbar": {
             "outlinewidth": 0,
             "ticks": ""
            },
            "type": "mesh3d"
           }
          ],
          "parcoords": [
           {
            "line": {
             "colorbar": {
              "outlinewidth": 0,
              "ticks": ""
             }
            },
            "type": "parcoords"
           }
          ],
          "pie": [
           {
            "automargin": true,
            "type": "pie"
           }
          ],
          "scatter": [
           {
            "fillpattern": {
             "fillmode": "overlay",
             "size": 10,
             "solidity": 0.2
            },
            "type": "scatter"
           }
          ],
          "scatter3d": [
           {
            "line": {
             "colorbar": {
              "outlinewidth": 0,
              "ticks": ""
             }
            },
            "marker": {
             "colorbar": {
              "outlinewidth": 0,
              "ticks": ""
             }
            },
            "type": "scatter3d"
           }
          ],
          "scattercarpet": [
           {
            "marker": {
             "colorbar": {
              "outlinewidth": 0,
              "ticks": ""
             }
            },
            "type": "scattercarpet"
           }
          ],
          "scattergeo": [
           {
            "marker": {
             "colorbar": {
              "outlinewidth": 0,
              "ticks": ""
             }
            },
            "type": "scattergeo"
           }
          ],
          "scattergl": [
           {
            "marker": {
             "colorbar": {
              "outlinewidth": 0,
              "ticks": ""
             }
            },
            "type": "scattergl"
           }
          ],
          "scattermapbox": [
           {
            "marker": {
             "colorbar": {
              "outlinewidth": 0,
              "ticks": ""
             }
            },
            "type": "scattermapbox"
           }
          ],
          "scatterpolar": [
           {
            "marker": {
             "colorbar": {
              "outlinewidth": 0,
              "ticks": ""
             }
            },
            "type": "scatterpolar"
           }
          ],
          "scatterpolargl": [
           {
            "marker": {
             "colorbar": {
              "outlinewidth": 0,
              "ticks": ""
             }
            },
            "type": "scatterpolargl"
           }
          ],
          "scatterternary": [
           {
            "marker": {
             "colorbar": {
              "outlinewidth": 0,
              "ticks": ""
             }
            },
            "type": "scatterternary"
           }
          ],
          "surface": [
           {
            "colorbar": {
             "outlinewidth": 0,
             "ticks": ""
            },
            "colorscale": [
             [
              0,
              "#0d0887"
             ],
             [
              0.1111111111111111,
              "#46039f"
             ],
             [
              0.2222222222222222,
              "#7201a8"
             ],
             [
              0.3333333333333333,
              "#9c179e"
             ],
             [
              0.4444444444444444,
              "#bd3786"
             ],
             [
              0.5555555555555556,
              "#d8576b"
             ],
             [
              0.6666666666666666,
              "#ed7953"
             ],
             [
              0.7777777777777778,
              "#fb9f3a"
             ],
             [
              0.8888888888888888,
              "#fdca26"
             ],
             [
              1,
              "#f0f921"
             ]
            ],
            "type": "surface"
           }
          ],
          "table": [
           {
            "cells": {
             "fill": {
              "color": "#EBF0F8"
             },
             "line": {
              "color": "white"
             }
            },
            "header": {
             "fill": {
              "color": "#C8D4E3"
             },
             "line": {
              "color": "white"
             }
            },
            "type": "table"
           }
          ]
         },
         "layout": {
          "annotationdefaults": {
           "arrowcolor": "#2a3f5f",
           "arrowhead": 0,
           "arrowwidth": 1
          },
          "autotypenumbers": "strict",
          "coloraxis": {
           "colorbar": {
            "outlinewidth": 0,
            "ticks": ""
           }
          },
          "colorscale": {
           "diverging": [
            [
             0,
             "#8e0152"
            ],
            [
             0.1,
             "#c51b7d"
            ],
            [
             0.2,
             "#de77ae"
            ],
            [
             0.3,
             "#f1b6da"
            ],
            [
             0.4,
             "#fde0ef"
            ],
            [
             0.5,
             "#f7f7f7"
            ],
            [
             0.6,
             "#e6f5d0"
            ],
            [
             0.7,
             "#b8e186"
            ],
            [
             0.8,
             "#7fbc41"
            ],
            [
             0.9,
             "#4d9221"
            ],
            [
             1,
             "#276419"
            ]
           ],
           "sequential": [
            [
             0,
             "#0d0887"
            ],
            [
             0.1111111111111111,
             "#46039f"
            ],
            [
             0.2222222222222222,
             "#7201a8"
            ],
            [
             0.3333333333333333,
             "#9c179e"
            ],
            [
             0.4444444444444444,
             "#bd3786"
            ],
            [
             0.5555555555555556,
             "#d8576b"
            ],
            [
             0.6666666666666666,
             "#ed7953"
            ],
            [
             0.7777777777777778,
             "#fb9f3a"
            ],
            [
             0.8888888888888888,
             "#fdca26"
            ],
            [
             1,
             "#f0f921"
            ]
           ],
           "sequentialminus": [
            [
             0,
             "#0d0887"
            ],
            [
             0.1111111111111111,
             "#46039f"
            ],
            [
             0.2222222222222222,
             "#7201a8"
            ],
            [
             0.3333333333333333,
             "#9c179e"
            ],
            [
             0.4444444444444444,
             "#bd3786"
            ],
            [
             0.5555555555555556,
             "#d8576b"
            ],
            [
             0.6666666666666666,
             "#ed7953"
            ],
            [
             0.7777777777777778,
             "#fb9f3a"
            ],
            [
             0.8888888888888888,
             "#fdca26"
            ],
            [
             1,
             "#f0f921"
            ]
           ]
          },
          "colorway": [
           "#636efa",
           "#EF553B",
           "#00cc96",
           "#ab63fa",
           "#FFA15A",
           "#19d3f3",
           "#FF6692",
           "#B6E880",
           "#FF97FF",
           "#FECB52"
          ],
          "font": {
           "color": "#2a3f5f"
          },
          "geo": {
           "bgcolor": "white",
           "lakecolor": "white",
           "landcolor": "#E5ECF6",
           "showlakes": true,
           "showland": true,
           "subunitcolor": "white"
          },
          "hoverlabel": {
           "align": "left"
          },
          "hovermode": "closest",
          "mapbox": {
           "style": "light"
          },
          "paper_bgcolor": "white",
          "plot_bgcolor": "#E5ECF6",
          "polar": {
           "angularaxis": {
            "gridcolor": "white",
            "linecolor": "white",
            "ticks": ""
           },
           "bgcolor": "#E5ECF6",
           "radialaxis": {
            "gridcolor": "white",
            "linecolor": "white",
            "ticks": ""
           }
          },
          "scene": {
           "xaxis": {
            "backgroundcolor": "#E5ECF6",
            "gridcolor": "white",
            "gridwidth": 2,
            "linecolor": "white",
            "showbackground": true,
            "ticks": "",
            "zerolinecolor": "white"
           },
           "yaxis": {
            "backgroundcolor": "#E5ECF6",
            "gridcolor": "white",
            "gridwidth": 2,
            "linecolor": "white",
            "showbackground": true,
            "ticks": "",
            "zerolinecolor": "white"
           },
           "zaxis": {
            "backgroundcolor": "#E5ECF6",
            "gridcolor": "white",
            "gridwidth": 2,
            "linecolor": "white",
            "showbackground": true,
            "ticks": "",
            "zerolinecolor": "white"
           }
          },
          "shapedefaults": {
           "line": {
            "color": "#2a3f5f"
           }
          },
          "ternary": {
           "aaxis": {
            "gridcolor": "white",
            "linecolor": "white",
            "ticks": ""
           },
           "baxis": {
            "gridcolor": "white",
            "linecolor": "white",
            "ticks": ""
           },
           "bgcolor": "#E5ECF6",
           "caxis": {
            "gridcolor": "white",
            "linecolor": "white",
            "ticks": ""
           }
          },
          "title": {
           "x": 0.05
          },
          "xaxis": {
           "automargin": true,
           "gridcolor": "white",
           "linecolor": "white",
           "ticks": "",
           "title": {
            "standoff": 15
           },
           "zerolinecolor": "white",
           "zerolinewidth": 2
          },
          "yaxis": {
           "automargin": true,
           "gridcolor": "white",
           "linecolor": "white",
           "ticks": "",
           "title": {
            "standoff": 15
           },
           "zerolinecolor": "white",
           "zerolinewidth": 2
          }
         }
        },
        "width": 900
       }
      }
     },
     "metadata": {},
     "output_type": "display_data"
    }
   ],
   "source": [
    "## Creating radar graph\n",
    "\n",
    "iterations = [str(i) for i in range(120)]\n",
    "\n",
    "#design 1\n",
    "data1=go.Scatterpolar(\n",
    "      r=design1,\n",
    "      theta=iterations,\n",
    "      # fill='toself',\n",
    "      name='Design 1: Inception V3',\n",
    ")\n",
    "\n",
    "#design 2\n",
    "data2=go.Scatterpolar(\n",
    "      r=design2,\n",
    "      theta=iterations,\n",
    "      # fill='toself',\n",
    "      name='Design 2: EfficientNet V2'\n",
    ")\n",
    "\n",
    "#design 3\n",
    "data3 = go.Scatterpolar(\n",
    "      r=design3,\n",
    "      theta=iterations,\n",
    "      # fill='toself',\n",
    "      name='Design 3: MobileNet V3'\n",
    ")\n",
    "\n",
    "datas = [data1,data2,data3]\n",
    "\n",
    "# #customization of chart\n",
    "# fig.update_layout(\n",
    "#   polar=dict(\n",
    "#     radialaxis=dict(\n",
    "#       visible=True,\n",
    "#       range=[1, 10]\n",
    "#     )),\n",
    "#   showlegend=False\n",
    "# )\n",
    "\n",
    "layout = go.Layout(\n",
    "        plot_bgcolor='rgba(0,0,0,0)',\n",
    "        legend=dict(\n",
    "            x=0,\n",
    "            y=0.7,\n",
    "            traceorder='normal',\n",
    "            font=dict(\n",
    "                size=12,),\n",
    "        ),\n",
    "    annotations=[\n",
    "        dict(\n",
    "            x=0,\n",
    "            y=0.75,\n",
    "            xref='paper',\n",
    "            yref='paper',\n",
    "            text='',\n",
    "            showarrow=False\n",
    "        )\n",
    "    ],\n",
    "    autosize=False,\n",
    "    width=900,\n",
    "    height=700,\n",
    "    margin=dict(\n",
    "        l=50,\n",
    "        r=50,\n",
    "        b=100,\n",
    "        t=100,\n",
    "        pad=4\n",
    "    ),\n",
    ")\n",
    "\n",
    "fig = go.Figure(data = datas, layout=layout)\n",
    "\n",
    "fig.update_polars(radialaxis=dict(range=[0, 10]))\n",
    "\n",
    "fig.show()"
   ]
  },
  {
   "cell_type": "code",
   "execution_count": 77,
   "metadata": {},
   "outputs": [
    {
     "name": "stdout",
     "output_type": "stream",
     "text": [
      "Average Score:\n",
      "Inception V3: 6.7660844656428845\n",
      "MobileNet V3: 4.6\n",
      "EfficientNet V2: 7.583261004339739\n"
     ]
    }
   ],
   "source": [
    "print(\"Average Score:\")\n",
    "print(\"Inception V3:\", np.average(design1))\n",
    "print(\"MobileNet V3:\", np.average(design3))\n",
    "print(\"EfficientNet V2:\", np.average(design2))"
   ]
  },
  {
   "cell_type": "code",
   "execution_count": null,
   "metadata": {},
   "outputs": [],
   "source": []
  }
 ],
 "metadata": {
  "kernelspec": {
   "display_name": "tf",
   "language": "python",
   "name": "python3"
  },
  "language_info": {
   "codemirror_mode": {
    "name": "ipython",
    "version": 3
   },
   "file_extension": ".py",
   "mimetype": "text/x-python",
   "name": "python",
   "nbconvert_exporter": "python",
   "pygments_lexer": "ipython3",
   "version": "3.11.4"
  },
  "orig_nbformat": 4
 },
 "nbformat": 4,
 "nbformat_minor": 2
}
