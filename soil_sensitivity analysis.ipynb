{
 "cells": [
  {
   "cell_type": "markdown",
   "metadata": {},
   "source": [
    "# SENSTIVITY ANALYSIS"
   ]
  },
  {
   "cell_type": "code",
   "execution_count": 1,
   "metadata": {},
   "outputs": [],
   "source": [
    "import pandas as pd\n",
    "import seaborn as sns\n",
    "import matplotlib.pyplot as plt\n",
    "import numpy as np\n",
    "import plotly.express as px\n",
    "import plotly.graph_objects as go\n",
    "from itertools import permutations\n",
    "import warnings\n",
    "warnings.filterwarnings(\"ignore\")"
   ]
  },
  {
   "cell_type": "code",
   "execution_count": 2,
   "metadata": {},
   "outputs": [],
   "source": [
    "## DEFINING HELPER FUNCTIONS FOR NORMALIZATION\n",
    "def minNormalize(values):\n",
    "    values = list(values)\n",
    "    goal = values.pop(-1)\n",
    "    normal = [9*((max(values)-x)/(max(values)-min(values)))+1 for x in values]\n",
    "    normal.append(goal)\n",
    "    return normal\n",
    "\n",
    "def maxNormalize(values):\n",
    "    values = list(values)\n",
    "    goal = values.pop(-1)\n",
    "    normal = [9*((x-min(values))/(max(values)-min(values)))+1 for x in values]\n",
    "    normal.append(goal)\n",
    "    return normal\n",
    "\n",
    "def normalize(values):\n",
    "    if values.iloc[-1] == 'MAX':\n",
    "        normal = maxNormalize(values)\n",
    "    else:\n",
    "        normal = minNormalize(values)\n",
    "    return normal\n",
    "\n",
    "## DEFINING HELPER FUNCTION FOR GETTING WEIGHTED SUM\n",
    "def getWeightedSum(values):\n",
    "    values = list(values)\n",
    "    weight = values.pop(0)\n",
    "    values = [value*weight for value in values]\n",
    "    values.insert(0, weight)\n",
    "    return values\n",
    "\n",
    "def getTotal(values):\n",
    "    return sum(values)"
   ]
  },
  {
   "cell_type": "markdown",
   "metadata": {},
   "source": [
    "## SINGLE EXECUTION"
   ]
  },
  {
   "cell_type": "markdown",
   "metadata": {},
   "source": [
    "\n",
    "\n"
   ]
  },
  {
   "cell_type": "code",
   "execution_count": 3,
   "metadata": {},
   "outputs": [],
   "source": [
    "criteria = ['FLOPS','Inference Time','Coeffecient of Determination','Storage Consumption','Training Time']\n",
    "levelOfImportance = [7,9,10,8,6]\n",
    "weight = [(level/sum(levelOfImportance)) for level in levelOfImportance]\n",
    "NestedUNet = [2054807061,\n",
    "              570.9851,\n",
    "              0.5706,\n",
    "              669.7216,\n",
    "              179.954]\n",
    "SegNet = [1339928587,\n",
    "          304.4195,\n",
    "          0.4405,\n",
    "          535.5884,\n",
    "          131.361]\n",
    "DeepLabV3Plus = [1608105351,\n",
    "                 134.002,\n",
    "                 0.2031,\n",
    "                 649.7618,\n",
    "                 134.981]\n",
    "goal = ['MIN','MIN','MAX','MIN','MIN'] #'MIN','MIN','MAX','MIN','MAX'"
   ]
  },
  {
   "cell_type": "code",
   "execution_count": 4,
   "metadata": {},
   "outputs": [],
   "source": [
    "data = pd.DataFrame({'levelOfImportance':levelOfImportance,\n",
    "                     'weight':weight,\n",
    "                     'NestedUNet':NestedUNet,\n",
    "                     'SegNet':SegNet,\n",
    "                     'DeepLabV3Plus':DeepLabV3Plus,\n",
    "                     },\n",
    "                     index = criteria)\n",
    "data.index.name='criteria'\n",
    "data = data.map(lambda x: float(x))\n",
    "data['goal'] = goal"
   ]
  },
  {
   "cell_type": "code",
   "execution_count": null,
   "metadata": {},
   "outputs": [],
   "source": []
  },
  {
   "cell_type": "code",
   "execution_count": 5,
   "metadata": {},
   "outputs": [],
   "source": [
    "## NORMALIZING DATA\n",
    "for i in range(data.shape[0]):\n",
    "    data.iloc[i,2:] = normalize(data.iloc[i,2:])"
   ]
  },
  {
   "cell_type": "code",
   "execution_count": 6,
   "metadata": {},
   "outputs": [],
   "source": [
    "## GETTING WEIGHTED SUM\n",
    "for i in range(data.shape[0]):\n",
    "    data.iloc[i,1:-1] = getWeightedSum(data.iloc[i,1:-1])\n"
   ]
  },
  {
   "cell_type": "code",
   "execution_count": 7,
   "metadata": {},
   "outputs": [],
   "source": [
    "## GETTING totals\n",
    "total=[]\n",
    "for i in range(5):\n",
    "    total.append(getTotal(data.iloc[:,i]))\n",
    "total.append(None)\n",
    "data.loc[len(data)] = total\n",
    "index = [idx for idx in data.index][:-1]\n",
    "index.append('total')\n",
    "data = data.set_index([index])"
   ]
  },
  {
   "cell_type": "code",
   "execution_count": 8,
   "metadata": {},
   "outputs": [
    {
     "data": {
      "text/html": [
       "<div>\n",
       "<style scoped>\n",
       "    .dataframe tbody tr th:only-of-type {\n",
       "        vertical-align: middle;\n",
       "    }\n",
       "\n",
       "    .dataframe tbody tr th {\n",
       "        vertical-align: top;\n",
       "    }\n",
       "\n",
       "    .dataframe thead th {\n",
       "        text-align: right;\n",
       "    }\n",
       "</style>\n",
       "<table border=\"1\" class=\"dataframe\">\n",
       "  <thead>\n",
       "    <tr style=\"text-align: right;\">\n",
       "      <th></th>\n",
       "      <th>levelOfImportance</th>\n",
       "      <th>weight</th>\n",
       "      <th>NestedUNet</th>\n",
       "      <th>SegNet</th>\n",
       "      <th>DeepLabV3Plus</th>\n",
       "      <th>goal</th>\n",
       "    </tr>\n",
       "  </thead>\n",
       "  <tbody>\n",
       "    <tr>\n",
       "      <th>FLOPS</th>\n",
       "      <td>7.0</td>\n",
       "      <td>0.175</td>\n",
       "      <td>0.175</td>\n",
       "      <td>1.750000</td>\n",
       "      <td>1.159161</td>\n",
       "      <td>MIN</td>\n",
       "    </tr>\n",
       "    <tr>\n",
       "      <th>Inference Time</th>\n",
       "      <td>9.0</td>\n",
       "      <td>0.225</td>\n",
       "      <td>0.225</td>\n",
       "      <td>1.460277</td>\n",
       "      <td>2.250000</td>\n",
       "      <td>MIN</td>\n",
       "    </tr>\n",
       "    <tr>\n",
       "      <th>Coeffecient of Determination</th>\n",
       "      <td>10.0</td>\n",
       "      <td>0.250</td>\n",
       "      <td>2.500</td>\n",
       "      <td>1.703469</td>\n",
       "      <td>0.250000</td>\n",
       "      <td>MAX</td>\n",
       "    </tr>\n",
       "    <tr>\n",
       "      <th>Storage Consumption</th>\n",
       "      <td>8.0</td>\n",
       "      <td>0.200</td>\n",
       "      <td>0.200</td>\n",
       "      <td>2.000000</td>\n",
       "      <td>0.467850</td>\n",
       "      <td>MIN</td>\n",
       "    </tr>\n",
       "    <tr>\n",
       "      <th>Training Time</th>\n",
       "      <td>6.0</td>\n",
       "      <td>0.150</td>\n",
       "      <td>0.150</td>\n",
       "      <td>1.500000</td>\n",
       "      <td>1.399430</td>\n",
       "      <td>MIN</td>\n",
       "    </tr>\n",
       "    <tr>\n",
       "      <th>total</th>\n",
       "      <td>40.0</td>\n",
       "      <td>1.000</td>\n",
       "      <td>3.250</td>\n",
       "      <td>8.413747</td>\n",
       "      <td>5.526441</td>\n",
       "      <td>NaN</td>\n",
       "    </tr>\n",
       "  </tbody>\n",
       "</table>\n",
       "</div>"
      ],
      "text/plain": [
       "                              levelOfImportance  weight  NestedUNet    SegNet  \\\n",
       "FLOPS                                       7.0   0.175       0.175  1.750000   \n",
       "Inference Time                              9.0   0.225       0.225  1.460277   \n",
       "Coeffecient of Determination               10.0   0.250       2.500  1.703469   \n",
       "Storage Consumption                         8.0   0.200       0.200  2.000000   \n",
       "Training Time                               6.0   0.150       0.150  1.500000   \n",
       "total                                      40.0   1.000       3.250  8.413747   \n",
       "\n",
       "                              DeepLabV3Plus goal  \n",
       "FLOPS                              1.159161  MIN  \n",
       "Inference Time                     2.250000  MIN  \n",
       "Coeffecient of Determination       0.250000  MAX  \n",
       "Storage Consumption                0.467850  MIN  \n",
       "Training Time                      1.399430  MIN  \n",
       "total                              5.526441  NaN  "
      ]
     },
     "execution_count": 8,
     "metadata": {},
     "output_type": "execute_result"
    }
   ],
   "source": [
    "data"
   ]
  },
  {
   "cell_type": "code",
   "execution_count": 9,
   "metadata": {},
   "outputs": [
    {
     "name": "stdout",
     "output_type": "stream",
     "text": [
      "[7, 9, 10, 8, 6]\n"
     ]
    }
   ],
   "source": [
    "levels = permutations(levelOfImportance)\n",
    "print(list(next(levels)))"
   ]
  },
  {
   "cell_type": "markdown",
   "metadata": {},
   "source": [
    "## 120 EXECUTIONS"
   ]
  },
  {
   "cell_type": "code",
   "execution_count": 10,
   "metadata": {},
   "outputs": [],
   "source": [
    "levels = permutations(levelOfImportance)\n",
    "design1 = []\n",
    "design2 = []\n",
    "design3 = []\n",
    "weights = []\n",
    "for level in levels:\n",
    "    ## DECALRING VALUES\n",
    "    criteria = criteria\n",
    "    level = list(level)\n",
    "    weight = [(l/sum(level)) for l in level]\n",
    "    goal = ['MIN','MIN','MAX','MIN','MIN']\n",
    "\n",
    "    ## CREATING DATAFRAME\n",
    "    data = pd.DataFrame({'levelOfImportance':levelOfImportance,\n",
    "                        'weight':weight,\n",
    "                        'NestedUNet':NestedUNet,\n",
    "                        'SegNet':SegNet,\n",
    "                        'DeepLabV3Plus':DeepLabV3Plus,\n",
    "                        },\n",
    "                        index = criteria)\n",
    "    data.index.name='criteria'\n",
    "    data = data.map(lambda x: float(x))\n",
    "    data['goal'] = goal\n",
    "\n",
    "    ## NORMALIZING DATA\n",
    "    for i in range(data.shape[0]):\n",
    "        data.iloc[i,2:] = normalize(data.iloc[i,2:])\n",
    "\n",
    "    ## GETTING WEIGHTED SUM\n",
    "    for i in range(data.shape[0]):\n",
    "        data.iloc[i,1:-1] = getWeightedSum(data.iloc[i,1:-1])\n",
    "\n",
    "\n",
    "    # ## GETTING totals\n",
    "    # total=[]\n",
    "    # for i in range(5):\n",
    "    #     total.append(getTotal(data.iloc[:,i]))\n",
    "    # total.append(None)\n",
    "    # data.loc[len(data)] = total\n",
    "    # index = [idx for idx in data.index][:-1]\n",
    "    # index.append('total')\n",
    "    # data = data.set_index([index])\n",
    "    # weights.append([level,data.iloc[:-1,1].values])\n",
    "    # design1.append(data.iloc[-1,2])\n",
    "    # design2.append(data.iloc[-1,3])\n",
    "    # design3.append(data.iloc[-1,4])\n",
    "\n"
   ]
  },
  {
   "cell_type": "code",
   "execution_count": 11,
   "metadata": {},
   "outputs": [
    {
     "ename": "IndexError",
     "evalue": "list index out of range",
     "output_type": "error",
     "traceback": [
      "\u001b[1;31m---------------------------------------------------------------------------\u001b[0m",
      "\u001b[1;31mIndexError\u001b[0m                                Traceback (most recent call last)",
      "\u001b[1;32me:\\dev\\Github\\soil-ph-monitoring-system\\soil_sensitivity analysis.ipynb Cell 16\u001b[0m line \u001b[0;36m1\n\u001b[1;32m----> <a href='vscode-notebook-cell:/e%3A/dev/Github/soil-ph-monitoring-system/soil_sensitivity%20analysis.ipynb#X21sZmlsZQ%3D%3D?line=0'>1</a>\u001b[0m weights[\u001b[39m0\u001b[39;49m]\n",
      "\u001b[1;31mIndexError\u001b[0m: list index out of range"
     ]
    }
   ],
   "source": [
    "weights[0]"
   ]
  },
  {
   "cell_type": "code",
   "execution_count": null,
   "metadata": {},
   "outputs": [
    {
     "data": {
      "text/plain": [
       "3.25"
      ]
     },
     "execution_count": 18,
     "metadata": {},
     "output_type": "execute_result"
    }
   ],
   "source": [
    "design1[0]"
   ]
  },
  {
   "cell_type": "code",
   "execution_count": null,
   "metadata": {},
   "outputs": [],
   "source": [
    "import random\n",
    "values = [6,7,8,9,10]\n",
    "permutations = []\n",
    "for i in range(10):\n",
    "    random.shuffle(values)\n",
    "    permutations.append(values)"
   ]
  },
  {
   "cell_type": "code",
   "execution_count": null,
   "metadata": {},
   "outputs": [
    {
     "data": {
      "text/plain": [
       "array([[ 7,  9, 10,  8,  6],\n",
       "       [ 7,  8,  9, 10,  6],\n",
       "       [ 9,  7, 10,  8,  6],\n",
       "       [ 9,  8,  7, 10,  6],\n",
       "       [10,  7,  9,  8,  6],\n",
       "       [10,  8,  7,  9,  6],\n",
       "       [ 8,  7,  9, 10,  6],\n",
       "       [ 8, 10,  7,  9,  6],\n",
       "       [ 6,  7,  9, 10,  8],\n",
       "       [ 6, 10,  7,  9,  8]])"
      ]
     },
     "execution_count": 32,
     "metadata": {},
     "output_type": "execute_result"
    }
   ],
   "source": [
    "np.array(weights)[::12,0].astype(int)"
   ]
  },
  {
   "cell_type": "code",
   "execution_count": null,
   "metadata": {},
   "outputs": [
    {
     "name": "stdout",
     "output_type": "stream",
     "text": [
      "Permutation 0 : [7, 9, 10, 8, 6]\n",
      "Weights : [0.175 0.225 0.25  0.2   0.15 ]\n",
      " Design 1 = 3.25\n",
      " Design 2 = 8.413746770335802\n",
      " Design 3 = 5.526440975639431\n",
      "\n",
      "Permutation 1 : [7, 9, 10, 6, 8]\n",
      "Weights : [0.175 0.225 0.25  0.15  0.2  ]\n",
      " Design 1 = 3.25\n",
      " Design 2 = 8.413746770335802\n",
      " Design 3 = 5.875955012390271\n",
      "\n",
      "Permutation 2 : [7, 9, 8, 10, 6]\n",
      "Weights : [0.175 0.225 0.2   0.25  0.15 ]\n",
      " Design 1 = 2.8\n",
      " Design 2 = 8.57305289278478\n",
      " Design 3 = 5.593403591904457\n",
      "\n",
      "Permutation 3 : [7, 9, 8, 6, 10]\n",
      "Weights : [0.175 0.225 0.2   0.15  0.25 ]\n",
      " Design 1 = 2.8\n",
      " Design 2 = 8.57305289278478\n",
      " Design 3 = 6.292431665406138\n",
      "\n",
      "Permutation 4 : [7, 9, 6, 10, 8]\n",
      "Weights : [0.175 0.225 0.15  0.25  0.2  ]\n",
      " Design 1 = 2.35\n",
      " Design 2 = 8.732359015233762\n",
      " Design 3 = 6.009880244920323\n",
      "\n",
      "Permutation 5 : [7, 9, 6, 8, 10]\n",
      "Weights : [0.175 0.225 0.15  0.2   0.25 ]\n",
      " Design 1 = 2.35\n",
      " Design 2 = 8.732359015233762\n",
      " Design 3 = 6.359394281671165\n",
      "\n",
      "Permutation 6 : [7, 10, 9, 8, 6]\n",
      "Weights : [0.175 0.25  0.225 0.2   0.15 ]\n",
      " Design 1 = 3.025\n",
      " Design 2 = 8.405652874069258\n",
      " Design 3 = 5.751440975639431\n",
      "\n",
      "Permutation 7 : [7, 10, 9, 6, 8]\n",
      "Weights : [0.175 0.25  0.225 0.15  0.2  ]\n",
      " Design 1 = 3.025\n",
      " Design 2 = 8.405652874069258\n",
      " Design 3 = 6.100955012390273\n",
      "\n",
      "Permutation 8 : [7, 10, 8, 9, 6]\n",
      "Weights : [0.175 0.25  0.2   0.225 0.15 ]\n",
      " Design 1 = 2.8\n",
      " Design 2 = 8.485305935293749\n",
      " Design 3 = 5.7849222837719445\n",
      "\n",
      "Permutation 9 : [7, 10, 8, 6, 9]\n",
      "Weights : [0.175 0.25  0.2   0.15  0.225]\n",
      " Design 1 = 2.8\n",
      " Design 2 = 8.485305935293749\n",
      " Design 3 = 6.309193338898205\n",
      "\n",
      "Permutation 10 : [7, 10, 6, 9, 8]\n",
      "Weights : [0.175 0.25  0.15  0.225 0.2  ]\n",
      " Design 1 = 2.35\n",
      " Design 2 = 8.644612057742727\n",
      " Design 3 = 6.201398936787811\n",
      "\n",
      "Permutation 11 : [7, 10, 6, 8, 9]\n",
      "Weights : [0.175 0.25  0.15  0.2   0.225]\n",
      " Design 1 = 2.35\n",
      " Design 2 = 8.644612057742727\n",
      " Design 3 = 6.376155955163231\n",
      "\n",
      "Permutation 12 : [7, 8, 9, 10, 6]\n",
      "Weights : [0.175 0.2   0.225 0.25  0.15 ]\n",
      " Design 1 = 3.025\n",
      " Design 2 = 8.581146789051324\n",
      " Design 3 = 5.368403591904458\n",
      "\n",
      "Permutation 13 : [7, 8, 9, 6, 10]\n",
      "Weights : [0.175 0.2   0.225 0.15  0.25 ]\n",
      " Design 1 = 3.025\n",
      " Design 2 = 8.581146789051324\n",
      " Design 3 = 6.067431665406138\n",
      "\n",
      "Permutation 14 : [7, 8, 10, 9, 6]\n",
      "Weights : [0.175 0.2   0.25  0.225 0.15 ]\n",
      " Design 1 = 3.25\n",
      " Design 2 = 8.501493727826835\n",
      " Design 3 = 5.334922283771944\n",
      "\n",
      "Permutation 15 : [7, 8, 10, 6, 9]\n",
      "Weights : [0.175 0.2   0.25  0.15  0.225]\n",
      " Design 1 = 3.25\n",
      " Design 2 = 8.501493727826835\n",
      " Design 3 = 5.859193338898205\n",
      "\n",
      "Permutation 16 : [7, 8, 6, 9, 10]\n",
      "Weights : [0.175 0.2   0.15  0.225 0.25 ]\n",
      " Design 1 = 2.35\n",
      " Design 2 = 8.820105972724793\n",
      " Design 3 = 6.167875589803677\n",
      "\n",
      "Permutation 17 : [7, 8, 6, 10, 9]\n",
      "Weights : [0.175 0.2   0.15  0.25  0.225]\n",
      " Design 1 = 2.35\n",
      " Design 2 = 8.820105972724793\n",
      " Design 3 = 5.993118571428257\n",
      "\n",
      "Permutation 18 : [7, 6, 9, 10, 8]\n",
      "Weights : [0.175 0.15  0.225 0.25  0.2  ]\n",
      " Design 1 = 3.0250000000000004\n",
      " Design 2 = 8.75664070403339\n",
      " Design 3 = 5.334880244920324\n",
      "\n",
      "Permutation 19 : [7, 6, 9, 8, 10]\n",
      "Weights : [0.175 0.15  0.225 0.2   0.25 ]\n",
      " Design 1 = 3.0250000000000004\n",
      " Design 2 = 8.75664070403339\n",
      " Design 3 = 5.684394281671164\n",
      "\n",
      "Permutation 20 : [7, 6, 10, 9, 8]\n",
      "Weights : [0.175 0.15  0.25  0.225 0.2  ]\n",
      " Design 1 = 3.2500000000000004\n",
      " Design 2 = 8.676987642808902\n",
      " Design 3 = 5.301398936787811\n",
      "\n",
      "Permutation 21 : [7, 6, 10, 8, 9]\n",
      "Weights : [0.175 0.15  0.25  0.2   0.225]\n",
      " Design 1 = 3.2500000000000004\n",
      " Design 2 = 8.676987642808902\n",
      " Design 3 = 5.476155955163231\n",
      "\n",
      "Permutation 22 : [7, 6, 8, 9, 10]\n",
      "Weights : [0.175 0.15  0.2   0.225 0.25 ]\n",
      " Design 1 = 2.8000000000000003\n",
      " Design 2 = 8.836293765257881\n",
      " Design 3 = 5.717875589803677\n",
      "\n",
      "Permutation 23 : [7, 6, 8, 10, 9]\n",
      "Weights : [0.175 0.15  0.2   0.25  0.225]\n",
      " Design 1 = 2.8000000000000003\n",
      " Design 2 = 8.836293765257881\n",
      " Design 3 = 5.543118571428257\n",
      "\n",
      "Permutation 24 : [9, 7, 10, 8, 6]\n",
      "Weights : [0.225 0.175 0.25  0.2   0.15 ]\n",
      " Design 1 = 3.25\n",
      " Design 2 = 8.589240685317868\n",
      " Design 3 = 5.357629704648496\n",
      "\n",
      "Permutation 25 : [9, 7, 10, 6, 8]\n",
      "Weights : [0.225 0.175 0.25  0.15  0.2  ]\n",
      " Design 1 = 3.25\n",
      " Design 2 = 8.589240685317868\n",
      " Design 3 = 5.707143741399337\n",
      "\n",
      "Permutation 26 : [9, 7, 8, 10, 6]\n",
      "Weights : [0.225 0.175 0.2   0.25  0.15 ]\n",
      " Design 1 = 2.8\n",
      " Design 2 = 8.748546807766848\n",
      " Design 3 = 5.424592320913522\n",
      "\n",
      "Permutation 27 : [9, 7, 8, 6, 10]\n",
      "Weights : [0.225 0.175 0.2   0.15  0.25 ]\n",
      " Design 1 = 2.8\n",
      " Design 2 = 8.748546807766848\n",
      " Design 3 = 6.1236203944152034\n",
      "\n",
      "Permutation 28 : [9, 7, 6, 10, 8]\n",
      "Weights : [0.225 0.175 0.15  0.25  0.2  ]\n",
      " Design 1 = 2.35\n",
      " Design 2 = 8.907852930215828\n",
      " Design 3 = 5.841068973929389\n",
      "\n",
      "Permutation 29 : [9, 7, 6, 8, 10]\n",
      "Weights : [0.225 0.175 0.15  0.2   0.25 ]\n",
      " Design 1 = 2.35\n",
      " Design 2 = 8.907852930215828\n",
      " Design 3 = 6.190583010680229\n",
      "\n",
      "Permutation 30 : [9, 10, 7, 8, 6]\n",
      "Weights : [0.225 0.25  0.175 0.2   0.15 ]\n",
      " Design 1 = 2.575\n",
      " Design 2 = 8.564958996518238\n",
      " Design 3 = 6.032629704648497\n",
      "\n",
      "Permutation 31 : [9, 10, 7, 6, 8]\n",
      "Weights : [0.225 0.25  0.175 0.15  0.2  ]\n",
      " Design 1 = 2.575\n",
      " Design 2 = 8.564958996518238\n",
      " Design 3 = 6.382143741399338\n",
      "\n",
      "Permutation 32 : [9, 10, 8, 7, 6]\n",
      "Weights : [0.225 0.25  0.2   0.175 0.15 ]\n",
      " Design 1 = 2.8\n",
      " Design 2 = 8.485305935293749\n",
      " Design 3 = 5.999148396515983\n",
      "\n",
      "Permutation 33 : [9, 10, 8, 6, 7]\n",
      "Weights : [0.225 0.25  0.2   0.15  0.175]\n",
      " Design 1 = 2.8\n",
      " Design 2 = 8.485305935293749\n",
      " Design 3 = 6.173905414891403\n",
      "\n",
      "Permutation 34 : [9, 10, 6, 7, 8]\n",
      "Weights : [0.225 0.25  0.15  0.175 0.2  ]\n",
      " Design 1 = 2.35\n",
      " Design 2 = 8.644612057742727\n",
      " Design 3 = 6.415625049531849\n",
      "\n",
      "Permutation 35 : [9, 10, 6, 8, 7]\n",
      "Weights : [0.225 0.25  0.15  0.2   0.175]\n",
      " Design 1 = 2.35\n",
      " Design 2 = 8.644612057742727\n",
      " Design 3 = 6.24086803115643\n",
      "\n",
      "Permutation 36 : [9, 8, 7, 10, 6]\n",
      "Weights : [0.225 0.2   0.175 0.25  0.15 ]\n",
      " Design 1 = 2.5749999999999997\n",
      " Design 2 = 8.740452911500304\n",
      " Design 3 = 5.649592320913522\n",
      "\n",
      "Permutation 37 : [9, 8, 7, 6, 10]\n",
      "Weights : [0.225 0.2   0.175 0.15  0.25 ]\n",
      " Design 1 = 2.5749999999999997\n",
      " Design 2 = 8.740452911500304\n",
      " Design 3 = 6.348620394415203\n",
      "\n",
      "Permutation 38 : [9, 8, 10, 7, 6]\n",
      "Weights : [0.225 0.2   0.25  0.175 0.15 ]\n",
      " Design 1 = 3.2499999999999996\n",
      " Design 2 = 8.501493727826835\n",
      " Design 3 = 5.549148396515983\n",
      "\n",
      "Permutation 39 : [9, 8, 10, 6, 7]\n",
      "Weights : [0.225 0.2   0.25  0.15  0.175]\n",
      " Design 1 = 3.2499999999999996\n",
      " Design 2 = 8.501493727826835\n",
      " Design 3 = 5.723905414891404\n",
      "\n",
      "Permutation 40 : [9, 8, 6, 7, 10]\n",
      "Weights : [0.225 0.2   0.15  0.175 0.25 ]\n",
      " Design 1 = 2.35\n",
      " Design 2 = 8.820105972724793\n",
      " Design 3 = 6.3821017025477165\n",
      "\n",
      "Permutation 41 : [9, 8, 6, 10, 7]\n",
      "Weights : [0.225 0.2   0.15  0.25  0.175]\n",
      " Design 1 = 2.3499999999999996\n",
      " Design 2 = 8.820105972724793\n",
      " Design 3 = 5.857830647421456\n",
      "\n",
      "Permutation 42 : [9, 6, 7, 10, 8]\n",
      "Weights : [0.225 0.15  0.175 0.25  0.2  ]\n",
      " Design 1 = 2.575\n",
      " Design 2 = 8.915946826482372\n",
      " Design 3 = 5.616068973929389\n",
      "\n",
      "Permutation 43 : [9, 6, 7, 8, 10]\n",
      "Weights : [0.225 0.15  0.175 0.2   0.25 ]\n",
      " Design 1 = 2.575\n",
      " Design 2 = 8.915946826482372\n",
      " Design 3 = 5.965583010680229\n",
      "\n",
      "Permutation 44 : [9, 6, 10, 7, 8]\n",
      "Weights : [0.225 0.15  0.25  0.175 0.2  ]\n",
      " Design 1 = 3.25\n",
      " Design 2 = 8.676987642808902\n",
      " Design 3 = 5.515625049531851\n",
      "\n",
      "Permutation 45 : [9, 6, 10, 8, 7]\n",
      "Weights : [0.225 0.15  0.25  0.2   0.175]\n",
      " Design 1 = 3.25\n",
      " Design 2 = 8.676987642808902\n",
      " Design 3 = 5.34086803115643\n",
      "\n",
      "Permutation 46 : [9, 6, 8, 7, 10]\n",
      "Weights : [0.225 0.15  0.2   0.175 0.25 ]\n",
      " Design 1 = 2.8\n",
      " Design 2 = 8.836293765257881\n",
      " Design 3 = 5.932101702547717\n",
      "\n",
      "Permutation 47 : [9, 6, 8, 10, 7]\n",
      "Weights : [0.225 0.15  0.2   0.25  0.175]\n",
      " Design 1 = 2.8\n",
      " Design 2 = 8.836293765257881\n",
      " Design 3 = 5.407830647421456\n",
      "\n",
      "Permutation 48 : [10, 7, 9, 8, 6]\n",
      "Weights : [0.25  0.175 0.225 0.2   0.15 ]\n",
      " Design 1 = 3.025\n",
      " Design 2 = 8.66889374654236\n",
      " Design 3 = 5.498224069153029\n",
      "\n",
      "Permutation 49 : [10, 7, 9, 6, 8]\n",
      "Weights : [0.25  0.175 0.225 0.15  0.2  ]\n",
      " Design 1 = 3.025\n",
      " Design 2 = 8.66889374654236\n",
      " Design 3 = 5.847738105903869\n",
      "\n",
      "Permutation 50 : [10, 7, 8, 9, 6]\n",
      "Weights : [0.25  0.175 0.2   0.225 0.15 ]\n",
      " Design 1 = 2.8\n",
      " Design 2 = 8.748546807766848\n",
      " Design 3 = 5.531705377285542\n",
      "\n",
      "Permutation 51 : [10, 7, 8, 6, 9]\n",
      "Weights : [0.25  0.175 0.2   0.15  0.225]\n",
      " Design 1 = 2.8\n",
      " Design 2 = 8.748546807766848\n",
      " Design 3 = 6.055976432411803\n",
      "\n",
      "Permutation 52 : [10, 7, 6, 9, 8]\n",
      "Weights : [0.25  0.175 0.15  0.225 0.2  ]\n",
      " Design 1 = 2.35\n",
      " Design 2 = 8.907852930215828\n",
      " Design 3 = 5.948182030301409\n",
      "\n",
      "Permutation 53 : [10, 7, 6, 8, 9]\n",
      "Weights : [0.25  0.175 0.15  0.2   0.225]\n",
      " Design 1 = 2.35\n",
      " Design 2 = 8.907852930215828\n",
      " Design 3 = 6.1229390486768285\n",
      "\n",
      "Permutation 54 : [10, 9, 7, 8, 6]\n",
      "Weights : [0.25  0.225 0.175 0.2   0.15 ]\n",
      " Design 1 = 2.575\n",
      " Design 2 = 8.65270595400927\n",
      " Design 3 = 5.948224069153029\n",
      "\n",
      "Permutation 55 : [10, 9, 7, 6, 8]\n",
      "Weights : [0.25  0.225 0.175 0.15  0.2  ]\n",
      " Design 1 = 2.575\n",
      " Design 2 = 8.65270595400927\n",
      " Design 3 = 6.2977381059038695\n",
      "\n",
      "Permutation 56 : [10, 9, 8, 7, 6]\n",
      "Weights : [0.25  0.225 0.2   0.175 0.15 ]\n",
      " Design 1 = 2.8\n",
      " Design 2 = 8.57305289278478\n",
      " Design 3 = 5.914742761020515\n",
      "\n",
      "Permutation 57 : [10, 9, 8, 6, 7]\n",
      "Weights : [0.25  0.225 0.2   0.15  0.175]\n",
      " Design 1 = 2.8\n",
      " Design 2 = 8.57305289278478\n",
      " Design 3 = 6.089499779395936\n",
      "\n",
      "Permutation 58 : [10, 9, 6, 7, 8]\n",
      "Weights : [0.25  0.225 0.15  0.175 0.2  ]\n",
      " Design 1 = 2.35\n",
      " Design 2 = 8.732359015233762\n",
      " Design 3 = 6.331219414036383\n",
      "\n",
      "Permutation 59 : [10, 9, 6, 8, 7]\n",
      "Weights : [0.25  0.225 0.15  0.2   0.175]\n",
      " Design 1 = 2.35\n",
      " Design 2 = 8.732359015233762\n",
      " Design 3 = 6.156462395660962\n",
      "\n",
      "Permutation 60 : [10, 8, 7, 9, 6]\n",
      "Weights : [0.25  0.2   0.175 0.225 0.15 ]\n",
      " Design 1 = 2.575\n",
      " Design 2 = 8.740452911500304\n",
      " Design 3 = 5.756705377285542\n",
      "\n",
      "Permutation 61 : [10, 8, 7, 6, 9]\n",
      "Weights : [0.25  0.2   0.175 0.15  0.225]\n",
      " Design 1 = 2.575\n",
      " Design 2 = 8.740452911500304\n",
      " Design 3 = 6.280976432411802\n",
      "\n",
      "Permutation 62 : [10, 8, 9, 7, 6]\n",
      "Weights : [0.25  0.2   0.225 0.175 0.15 ]\n",
      " Design 1 = 3.025\n",
      " Design 2 = 8.581146789051324\n",
      " Design 3 = 5.689742761020516\n",
      "\n",
      "Permutation 63 : [10, 8, 9, 6, 7]\n",
      "Weights : [0.25  0.2   0.225 0.15  0.175]\n",
      " Design 1 = 3.025\n",
      " Design 2 = 8.581146789051324\n",
      " Design 3 = 5.864499779395937\n",
      "\n",
      "Permutation 64 : [10, 8, 6, 7, 9]\n",
      "Weights : [0.25  0.2   0.15  0.175 0.225]\n",
      " Design 1 = 2.35\n",
      " Design 2 = 8.820105972724793\n",
      " Design 3 = 6.314457740544316\n",
      "\n",
      "Permutation 65 : [10, 8, 6, 9, 7]\n",
      "Weights : [0.25  0.2   0.15  0.225 0.175]\n",
      " Design 1 = 2.3499999999999996\n",
      " Design 2 = 8.820105972724793\n",
      " Design 3 = 5.964943703793475\n",
      "\n",
      "Permutation 66 : [10, 6, 7, 9, 8]\n",
      "Weights : [0.25  0.15  0.175 0.225 0.2  ]\n",
      " Design 1 = 2.575\n",
      " Design 2 = 8.915946826482372\n",
      " Design 3 = 5.723182030301409\n",
      "\n",
      "Permutation 67 : [10, 6, 7, 8, 9]\n",
      "Weights : [0.25  0.15  0.175 0.2   0.225]\n",
      " Design 1 = 2.575\n",
      " Design 2 = 8.915946826482372\n",
      " Design 3 = 5.897939048676829\n",
      "\n",
      "Permutation 68 : [10, 6, 9, 7, 8]\n",
      "Weights : [0.25  0.15  0.225 0.175 0.2  ]\n",
      " Design 1 = 3.025\n",
      " Design 2 = 8.75664070403339\n",
      " Design 3 = 5.656219414036382\n",
      "\n",
      "Permutation 69 : [10, 6, 9, 8, 7]\n",
      "Weights : [0.25  0.15  0.225 0.2   0.175]\n",
      " Design 1 = 3.025\n",
      " Design 2 = 8.75664070403339\n",
      " Design 3 = 5.481462395660962\n",
      "\n",
      "Permutation 70 : [10, 6, 8, 7, 9]\n",
      "Weights : [0.25  0.15  0.2   0.175 0.225]\n",
      " Design 1 = 2.8\n",
      " Design 2 = 8.836293765257881\n",
      " Design 3 = 5.8644577405443155\n",
      "\n",
      "Permutation 71 : [10, 6, 8, 9, 7]\n",
      "Weights : [0.25  0.15  0.2   0.225 0.175]\n",
      " Design 1 = 2.8\n",
      " Design 2 = 8.836293765257881\n",
      " Design 3 = 5.514943703793476\n",
      "\n",
      "Permutation 72 : [8, 7, 9, 10, 6]\n",
      "Weights : [0.2   0.175 0.225 0.25  0.15 ]\n",
      " Design 1 = 3.025\n",
      " Design 2 = 8.66889374654236\n",
      " Design 3 = 5.2839979564089905\n",
      "\n",
      "Permutation 73 : [8, 7, 9, 6, 10]\n",
      "Weights : [0.2   0.175 0.225 0.15  0.25 ]\n",
      " Design 1 = 3.025\n",
      " Design 2 = 8.66889374654236\n",
      " Design 3 = 5.983026029910671\n",
      "\n",
      "Permutation 74 : [8, 7, 10, 9, 6]\n",
      "Weights : [0.2   0.175 0.25  0.225 0.15 ]\n",
      " Design 1 = 3.25\n",
      " Design 2 = 8.589240685317868\n",
      " Design 3 = 5.250516648276477\n",
      "\n",
      "Permutation 75 : [8, 7, 10, 6, 9]\n",
      "Weights : [0.2   0.175 0.25  0.15  0.225]\n",
      " Design 1 = 3.25\n",
      " Design 2 = 8.589240685317868\n",
      " Design 3 = 5.774787703402738\n",
      "\n",
      "Permutation 76 : [8, 7, 6, 9, 10]\n",
      "Weights : [0.2   0.175 0.15  0.225 0.25 ]\n",
      " Design 1 = 2.35\n",
      " Design 2 = 8.907852930215828\n",
      " Design 3 = 6.08346995430821\n",
      "\n",
      "Permutation 77 : [8, 7, 6, 10, 9]\n",
      "Weights : [0.2   0.175 0.15  0.25  0.225]\n",
      " Design 1 = 2.35\n",
      " Design 2 = 8.907852930215828\n",
      " Design 3 = 5.90871293593279\n",
      "\n",
      "Permutation 78 : [8, 9, 7, 10, 6]\n",
      "Weights : [0.2   0.225 0.175 0.25  0.15 ]\n",
      " Design 1 = 2.5749999999999997\n",
      " Design 2 = 8.65270595400927\n",
      " Design 3 = 5.73399795640899\n",
      "\n",
      "Permutation 79 : [8, 9, 7, 6, 10]\n",
      "Weights : [0.2   0.225 0.175 0.15  0.25 ]\n",
      " Design 1 = 2.5749999999999997\n",
      " Design 2 = 8.65270595400927\n",
      " Design 3 = 6.433026029910671\n",
      "\n",
      "Permutation 80 : [8, 9, 10, 7, 6]\n",
      "Weights : [0.2   0.225 0.25  0.175 0.15 ]\n",
      " Design 1 = 3.2499999999999996\n",
      " Design 2 = 8.413746770335802\n",
      " Design 3 = 5.6335540320114506\n",
      "\n",
      "Permutation 81 : [8, 9, 10, 6, 7]\n",
      "Weights : [0.2   0.225 0.25  0.15  0.175]\n",
      " Design 1 = 3.2499999999999996\n",
      " Design 2 = 8.413746770335802\n",
      " Design 3 = 5.808311050386871\n",
      "\n",
      "Permutation 82 : [8, 9, 6, 7, 10]\n",
      "Weights : [0.2   0.225 0.15  0.175 0.25 ]\n",
      " Design 1 = 2.35\n",
      " Design 2 = 8.732359015233762\n",
      " Design 3 = 6.466507338043185\n",
      "\n",
      "Permutation 83 : [8, 9, 6, 10, 7]\n",
      "Weights : [0.2   0.225 0.15  0.25  0.175]\n",
      " Design 1 = 2.3499999999999996\n",
      " Design 2 = 8.732359015233762\n",
      " Design 3 = 5.942236282916923\n",
      "\n",
      "Permutation 84 : [8, 10, 7, 9, 6]\n",
      "Weights : [0.2   0.25  0.175 0.225 0.15 ]\n",
      " Design 1 = 2.575\n",
      " Design 2 = 8.564958996518238\n",
      " Design 3 = 5.925516648276477\n",
      "\n",
      "Permutation 85 : [8, 10, 7, 6, 9]\n",
      "Weights : [0.2   0.25  0.175 0.15  0.225]\n",
      " Design 1 = 2.575\n",
      " Design 2 = 8.564958996518238\n",
      " Design 3 = 6.4497877034027375\n",
      "\n",
      "Permutation 86 : [8, 10, 9, 7, 6]\n",
      "Weights : [0.2   0.25  0.225 0.175 0.15 ]\n",
      " Design 1 = 3.025\n",
      " Design 2 = 8.405652874069258\n",
      " Design 3 = 5.85855403201145\n",
      "\n",
      "Permutation 87 : [8, 10, 9, 6, 7]\n",
      "Weights : [0.2   0.25  0.225 0.15  0.175]\n",
      " Design 1 = 3.025\n",
      " Design 2 = 8.405652874069258\n",
      " Design 3 = 6.033311050386871\n",
      "\n",
      "Permutation 88 : [8, 10, 6, 7, 9]\n",
      "Weights : [0.2   0.25  0.15  0.175 0.225]\n",
      " Design 1 = 2.35\n",
      " Design 2 = 8.644612057742727\n",
      " Design 3 = 6.483269011535251\n",
      "\n",
      "Permutation 89 : [8, 10, 6, 9, 7]\n",
      "Weights : [0.2   0.25  0.15  0.225 0.175]\n",
      " Design 1 = 2.3499999999999996\n",
      " Design 2 = 8.644612057742727\n",
      " Design 3 = 6.13375497478441\n",
      "\n",
      "Permutation 90 : [8, 6, 7, 9, 10]\n",
      "Weights : [0.2   0.15  0.175 0.225 0.25 ]\n",
      " Design 1 = 2.575\n",
      " Design 2 = 8.915946826482372\n",
      " Design 3 = 5.858469954308211\n",
      "\n",
      "Permutation 91 : [8, 6, 7, 10, 9]\n",
      "Weights : [0.2   0.15  0.175 0.25  0.225]\n",
      " Design 1 = 2.575\n",
      " Design 2 = 8.915946826482372\n",
      " Design 3 = 5.68371293593279\n",
      "\n",
      "Permutation 92 : [8, 6, 9, 7, 10]\n",
      "Weights : [0.2   0.15  0.225 0.175 0.25 ]\n",
      " Design 1 = 3.025\n",
      " Design 2 = 8.75664070403339\n",
      " Design 3 = 5.791507338043184\n",
      "\n",
      "Permutation 93 : [8, 6, 9, 10, 7]\n",
      "Weights : [0.2   0.15  0.225 0.25  0.175]\n",
      " Design 1 = 3.025\n",
      " Design 2 = 8.75664070403339\n",
      " Design 3 = 5.267236282916923\n",
      "\n",
      "Permutation 94 : [8, 6, 10, 7, 9]\n",
      "Weights : [0.2   0.15  0.25  0.175 0.225]\n",
      " Design 1 = 3.25\n",
      " Design 2 = 8.676987642808902\n",
      " Design 3 = 5.583269011535251\n",
      "\n",
      "Permutation 95 : [8, 6, 10, 9, 7]\n",
      "Weights : [0.2   0.15  0.25  0.225 0.175]\n",
      " Design 1 = 3.25\n",
      " Design 2 = 8.676987642808902\n",
      " Design 3 = 5.233754974784411\n",
      "\n",
      "Permutation 96 : [6, 7, 9, 10, 8]\n",
      "Weights : [0.15  0.175 0.225 0.25  0.2  ]\n",
      " Design 1 = 3.0250000000000004\n",
      " Design 2 = 8.66889374654236\n",
      " Design 3 = 5.419285880415791\n",
      "\n",
      "Permutation 97 : [6, 7, 9, 8, 10]\n",
      "Weights : [0.15  0.175 0.225 0.2   0.25 ]\n",
      " Design 1 = 3.0250000000000004\n",
      " Design 2 = 8.66889374654236\n",
      " Design 3 = 5.768799917166632\n",
      "\n",
      "Permutation 98 : [6, 7, 10, 9, 8]\n",
      "Weights : [0.15  0.175 0.25  0.225 0.2  ]\n",
      " Design 1 = 3.2500000000000004\n",
      " Design 2 = 8.589240685317868\n",
      " Design 3 = 5.385804572283279\n",
      "\n",
      "Permutation 99 : [6, 7, 10, 8, 9]\n",
      "Weights : [0.15  0.175 0.25  0.2   0.225]\n",
      " Design 1 = 3.2500000000000004\n",
      " Design 2 = 8.589240685317868\n",
      " Design 3 = 5.560561590658699\n",
      "\n",
      "Permutation 100 : [6, 7, 8, 9, 10]\n",
      "Weights : [0.15  0.175 0.2   0.225 0.25 ]\n",
      " Design 1 = 2.8000000000000003\n",
      " Design 2 = 8.748546807766848\n",
      " Design 3 = 5.802281225299145\n",
      "\n",
      "Permutation 101 : [6, 7, 8, 10, 9]\n",
      "Weights : [0.15  0.175 0.2   0.25  0.225]\n",
      " Design 1 = 2.8000000000000003\n",
      " Design 2 = 8.748546807766848\n",
      " Design 3 = 5.627524206923725\n",
      "\n",
      "Permutation 102 : [6, 9, 7, 10, 8]\n",
      "Weights : [0.15  0.225 0.175 0.25  0.2  ]\n",
      " Design 1 = 2.575\n",
      " Design 2 = 8.65270595400927\n",
      " Design 3 = 5.8692858804157915\n",
      "\n",
      "Permutation 103 : [6, 9, 7, 8, 10]\n",
      "Weights : [0.15  0.225 0.175 0.2   0.25 ]\n",
      " Design 1 = 2.575\n",
      " Design 2 = 8.65270595400927\n",
      " Design 3 = 6.218799917166631\n",
      "\n",
      "Permutation 104 : [6, 9, 10, 7, 8]\n",
      "Weights : [0.15  0.225 0.25  0.175 0.2  ]\n",
      " Design 1 = 3.25\n",
      " Design 2 = 8.413746770335802\n",
      " Design 3 = 5.768841956018252\n",
      "\n",
      "Permutation 105 : [6, 9, 10, 8, 7]\n",
      "Weights : [0.15  0.225 0.25  0.2   0.175]\n",
      " Design 1 = 3.25\n",
      " Design 2 = 8.413746770335802\n",
      " Design 3 = 5.594084937642831\n",
      "\n",
      "Permutation 106 : [6, 9, 8, 7, 10]\n",
      "Weights : [0.15  0.225 0.2   0.175 0.25 ]\n",
      " Design 1 = 2.8\n",
      " Design 2 = 8.57305289278478\n",
      " Design 3 = 6.185318609034119\n",
      "\n",
      "Permutation 107 : [6, 9, 8, 10, 7]\n",
      "Weights : [0.15  0.225 0.2   0.25  0.175]\n",
      " Design 1 = 2.8\n",
      " Design 2 = 8.57305289278478\n",
      " Design 3 = 5.661047553907858\n",
      "\n",
      "Permutation 108 : [6, 10, 7, 9, 8]\n",
      "Weights : [0.15  0.25  0.175 0.225 0.2  ]\n",
      " Design 1 = 2.575\n",
      " Design 2 = 8.564958996518238\n",
      " Design 3 = 6.060804572283278\n",
      "\n",
      "Permutation 109 : [6, 10, 7, 8, 9]\n",
      "Weights : [0.15  0.25  0.175 0.2   0.225]\n",
      " Design 1 = 2.575\n",
      " Design 2 = 8.564958996518238\n",
      " Design 3 = 6.235561590658698\n",
      "\n",
      "Permutation 110 : [6, 10, 9, 7, 8]\n",
      "Weights : [0.15  0.25  0.225 0.175 0.2  ]\n",
      " Design 1 = 3.025\n",
      " Design 2 = 8.405652874069258\n",
      " Design 3 = 5.993841956018253\n",
      "\n",
      "Permutation 111 : [6, 10, 9, 8, 7]\n",
      "Weights : [0.15  0.25  0.225 0.2   0.175]\n",
      " Design 1 = 3.025\n",
      " Design 2 = 8.405652874069258\n",
      " Design 3 = 5.819084937642832\n",
      "\n",
      "Permutation 112 : [6, 10, 8, 7, 9]\n",
      "Weights : [0.15  0.25  0.2   0.175 0.225]\n",
      " Design 1 = 2.8\n",
      " Design 2 = 8.485305935293749\n",
      " Design 3 = 6.202080282526185\n",
      "\n",
      "Permutation 113 : [6, 10, 8, 9, 7]\n",
      "Weights : [0.15  0.25  0.2   0.225 0.175]\n",
      " Design 1 = 2.8\n",
      " Design 2 = 8.485305935293749\n",
      " Design 3 = 5.852566245775345\n",
      "\n",
      "Permutation 114 : [6, 8, 7, 9, 10]\n",
      "Weights : [0.15  0.2   0.175 0.225 0.25 ]\n",
      " Design 1 = 2.575\n",
      " Design 2 = 8.740452911500304\n",
      " Design 3 = 6.027281225299145\n",
      "\n",
      "Permutation 115 : [6, 8, 7, 10, 9]\n",
      "Weights : [0.15  0.2   0.175 0.25  0.225]\n",
      " Design 1 = 2.575\n",
      " Design 2 = 8.740452911500304\n",
      " Design 3 = 5.852524206923724\n",
      "\n",
      "Permutation 116 : [6, 8, 9, 7, 10]\n",
      "Weights : [0.15  0.2   0.225 0.175 0.25 ]\n",
      " Design 1 = 3.025\n",
      " Design 2 = 8.581146789051324\n",
      " Design 3 = 5.960318609034118\n",
      "\n",
      "Permutation 117 : [6, 8, 9, 10, 7]\n",
      "Weights : [0.15  0.2   0.225 0.25  0.175]\n",
      " Design 1 = 3.025\n",
      " Design 2 = 8.581146789051324\n",
      " Design 3 = 5.436047553907858\n",
      "\n",
      "Permutation 118 : [6, 8, 10, 7, 9]\n",
      "Weights : [0.15  0.2   0.25  0.175 0.225]\n",
      " Design 1 = 3.25\n",
      " Design 2 = 8.501493727826835\n",
      " Design 3 = 5.752080282526185\n",
      "\n",
      "Permutation 119 : [6, 8, 10, 9, 7]\n",
      "Weights : [0.15  0.2   0.25  0.225 0.175]\n",
      " Design 1 = 3.25\n",
      " Design 2 = 8.501493727826835\n",
      " Design 3 = 5.402566245775345\n",
      "\n"
     ]
    }
   ],
   "source": [
    "## PRINTING RESULTS OF ANALYSIS\n",
    "for n,weight in enumerate(weights):\n",
    "    print(\"Permutation\",n,':',weight[0])\n",
    "    print(\"Weights\",':',weight[1])\n",
    "    print(\" Design 1 =\",design1[n])\n",
    "    print(\" Design 2 =\",design2[n])\n",
    "    print(\" Design 3 =\",design3[n])\n",
    "    print('')"
   ]
  },
  {
   "cell_type": "code",
   "execution_count": null,
   "metadata": {},
   "outputs": [],
   "source": [
    "## PRINTING RESULTS OF ANALYSIS\n",
    "for n,weight in enumerate(weights):\n",
    "    if n%24!=0 and n>0:\n",
    "        \n",
    "        print(\"Permutation\",n-24,'to',n,':',weight[0])\n",
    "        print(\"Weights\",':',weight[1])\n",
    "        print(\" Design 1 =\",design1[n])\n",
    "        print(\" Design 2 =\",design2[n])\n",
    "        print(\" Design 3 =\",design3[n])\n",
    "        print('')"
   ]
  },
  {
   "cell_type": "code",
   "execution_count": null,
   "metadata": {},
   "outputs": [
    {
     "data": {
      "text/plain": [
       "Text(0.5, 1.0, 'Summary of Sensitivity Analysis')"
      ]
     },
     "execution_count": 27,
     "metadata": {},
     "output_type": "execute_result"
    },
    {
     "data": {
      "image/png": "[encoded data removed]",
      "text/plain": [
       "<Figure size 1000x300 with 1 Axes>"
      ]
     },
     "metadata": {},
     "output_type": "display_data"
    }
   ],
   "source": [
    "## PLOTTING RESULTS OF ANALYSIS\n",
    "x=range(len(weights))\n",
    "f, ax = plt.subplots(1,1, figsize=(10,3))\n",
    "sns.lineplot(x=x, y=design1, ax = ax, label = 'ExtendedUNet')\n",
    "sns.lineplot(x=x, y=design2, ax = ax, label = 'SegNet')\n",
    "sns.lineplot(x=x, y=design3, ax = ax, label = 'DeppLabV3Plus')\n",
    "ax.set_ylabel('sensitivity level')\n",
    "ax.set_xlabel('permutation step')\n",
    "ax.set_title('Summary of Sensitivity Analysis')"
   ]
  },
  {
   "cell_type": "code",
   "execution_count": null,
   "metadata": {},
   "outputs": [
    {
     "data": {
      "application/vnd.plotly.v1+json": {
       "config": {
        "plotlyServerURL": "https://plot.ly"
       },
       "data": [
        {
         "name": "Design 1: Extended U-Net",
         "r": [
          3.25,
          3.25,
          2.8,
          2.8,
          2.35,
          2.35,
          3.025,
          3.025,
          2.8,
          2.8,
          2.35,
          2.35,
          3.025,
          3.025,
          3.25,
          3.25,
          2.35,
          2.35,
          3.0250000000000004,
          3.0250000000000004,
          3.2500000000000004,
          3.2500000000000004,
          2.8000000000000003,
          2.8000000000000003,
          3.25,
          3.25,
          2.8,
          2.8,
          2.35,
          2.35,
          2.575,
          2.575,
          2.8,
          2.8,
          2.35,
          2.35,
          2.5749999999999997,
          2.5749999999999997,
          3.2499999999999996,
          3.2499999999999996,
          2.35,
          2.3499999999999996,
          2.575,
          2.575,
          3.25,
          3.25,
          2.8,
          2.8,
          3.025,
          3.025,
          2.8,
          2.8,
          2.35,
          2.35,
          2.575,
          2.575,
          2.8,
          2.8,
          2.35,
          2.35,
          2.575,
          2.575,
          3.025,
          3.025,
          2.35,
          2.3499999999999996,
          2.575,
          2.575,
          3.025,
          3.025,
          2.8,
          2.8,
          3.025,
          3.025,
          3.25,
          3.25,
          2.35,
          2.35,
          2.5749999999999997,
          2.5749999999999997,
          3.2499999999999996,
          3.2499999999999996,
          2.35,
          2.3499999999999996,
          2.575,
          2.575,
          3.025,
          3.025,
          2.35,
          2.3499999999999996,
          2.575,
          2.575,
          3.025,
          3.025,
          3.25,
          3.25,
          3.0250000000000004,
          3.0250000000000004,
          3.2500000000000004,
          3.2500000000000004,
          2.8000000000000003,
          2.8000000000000003,
          2.575,
          2.575,
          3.25,
          3.25,
          2.8,
          2.8,
          2.575,
          2.575,
          3.025,
          3.025,
          2.8,
          2.8,
          2.575,
          2.575,
          3.025,
          3.025,
          3.25,
          3.25
         ],
         "theta": [
          "0",
          "1",
          "2",
          "3",
          "4",
          "5",
          "6",
          "7",
          "8",
          "9",
          "10",
          "11",
          "12",
          "13",
          "14",
          "15",
          "16",
          "17",
          "18",
          "19",
          "20",
          "21",
          "22",
          "23",
          "24",
          "25",
          "26",
          "27",
          "28",
          "29",
          "30",
          "31",
          "32",
          "33",
          "34",
          "35",
          "36",
          "37",
          "38",
          "39",
          "40",
          "41",
          "42",
          "43",
          "44",
          "45",
          "46",
          "47",
          "48",
          "49",
          "50",
          "51",
          "52",
          "53",
          "54",
          "55",
          "56",
          "57",
          "58",
          "59",
          "60",
          "61",
          "62",
          "63",
          "64",
          "65",
          "66",
          "67",
          "68",
          "69",
          "70",
          "71",
          "72",
          "73",
          "74",
          "75",
          "76",
          "77",
          "78",
          "79",
          "80",
          "81",
          "82",
          "83",
          "84",
          "85",
          "86",
          "87",
          "88",
          "89",
          "90",
          "91",
          "92",
          "93",
          "94",
          "95",
          "96",
          "97",
          "98",
          "99",
          "100",
          "101",
          "102",
          "103",
          "104",
          "105",
          "106",
          "107",
          "108",
          "109",
          "110",
          "111",
          "112",
          "113",
          "114",
          "115",
          "116",
          "117",
          "118",
          "119"
         ],
         "type": "scatterpolar"
        },
        {
         "name": "Design 2: SegNet",
         "r": [
          8.413746770335802,
          8.413746770335802,
          8.57305289278478,
          8.57305289278478,
          8.732359015233762,
          8.732359015233762,
          8.405652874069258,
          8.405652874069258,
          8.485305935293749,
          8.485305935293749,
          8.644612057742727,
          8.644612057742727,
          8.581146789051324,
          8.581146789051324,
          8.501493727826835,
          8.501493727826835,
          8.820105972724793,
          8.820105972724793,
          8.75664070403339,
          8.75664070403339,
          8.676987642808902,
          8.676987642808902,
          8.836293765257881,
          8.836293765257881,
          8.589240685317868,
          8.589240685317868,
          8.748546807766848,
          8.748546807766848,
          8.907852930215828,
          8.907852930215828,
          8.564958996518238,
          8.564958996518238,
          8.485305935293749,
          8.485305935293749,
          8.644612057742727,
          8.644612057742727,
          8.740452911500304,
          8.740452911500304,
          8.501493727826835,
          8.501493727826835,
          8.820105972724793,
          8.820105972724793,
          8.915946826482372,
          8.915946826482372,
          8.676987642808902,
          8.676987642808902,
          8.836293765257881,
          8.836293765257881,
          8.66889374654236,
          8.66889374654236,
          8.748546807766848,
          8.748546807766848,
          8.907852930215828,
          8.907852930215828,
          8.65270595400927,
          8.65270595400927,
          8.57305289278478,
          8.57305289278478,
          8.732359015233762,
          8.732359015233762,
          8.740452911500304,
          8.740452911500304,
          8.581146789051324,
          8.581146789051324,
          8.820105972724793,
          8.820105972724793,
          8.915946826482372,
          8.915946826482372,
          8.75664070403339,
          8.75664070403339,
          8.836293765257881,
          8.836293765257881,
          8.66889374654236,
          8.66889374654236,
          8.589240685317868,
          8.589240685317868,
          8.907852930215828,
          8.907852930215828,
          8.65270595400927,
          8.65270595400927,
          8.413746770335802,
          8.413746770335802,
          8.732359015233762,
          8.732359015233762,
          8.564958996518238,
          8.564958996518238,
          8.405652874069258,
          8.405652874069258,
          8.644612057742727,
          8.644612057742727,
          8.915946826482372,
          8.915946826482372,
          8.75664070403339,
          8.75664070403339,
          8.676987642808902,
          8.676987642808902,
          8.66889374654236,
          8.66889374654236,
          8.589240685317868,
          8.589240685317868,
          8.748546807766848,
          8.748546807766848,
          8.65270595400927,
          8.65270595400927,
          8.413746770335802,
          8.413746770335802,
          8.57305289278478,
          8.57305289278478,
          8.564958996518238,
          8.564958996518238,
          8.405652874069258,
          8.405652874069258,
          8.485305935293749,
          8.485305935293749,
          8.740452911500304,
          8.740452911500304,
          8.581146789051324,
          8.581146789051324,
          8.501493727826835,
          8.501493727826835
         ],
         "theta": [
          "0",
          "1",
          "2",
          "3",
          "4",
          "5",
          "6",
          "7",
          "8",
          "9",
          "10",
          "11",
          "12",
          "13",
          "14",
          "15",
          "16",
          "17",
          "18",
          "19",
          "20",
          "21",
          "22",
          "23",
          "24",
          "25",
          "26",
          "27",
          "28",
          "29",
          "30",
          "31",
          "32",
          "33",
          "34",
          "35",
          "36",
          "37",
          "38",
          "39",
          "40",
          "41",
          "42",
          "43",
          "44",
          "45",
          "46",
          "47",
          "48",
          "49",
          "50",
          "51",
          "52",
          "53",
          "54",
          "55",
          "56",
          "57",
          "58",
          "59",
          "60",
          "61",
          "62",
          "63",
          "64",
          "65",
          "66",
          "67",
          "68",
          "69",
          "70",
          "71",
          "72",
          "73",
          "74",
          "75",
          "76",
          "77",
          "78",
          "79",
          "80",
          "81",
          "82",
          "83",
          "84",
          "85",
          "86",
          "87",
          "88",
          "89",
          "90",
          "91",
          "92",
          "93",
          "94",
          "95",
          "96",
          "97",
          "98",
          "99",
          "100",
          "101",
          "102",
          "103",
          "104",
          "105",
          "106",
          "107",
          "108",
          "109",
          "110",
          "111",
          "112",
          "113",
          "114",
          "115",
          "116",
          "117",
          "118",
          "119"
         ],
         "type": "scatterpolar"
        },
        {
         "name": "Design 3: DeepLabV3Plus",
         "r": [
          5.526440975639431,
          5.875955012390271,
          5.593403591904457,
          6.292431665406138,
          6.009880244920323,
          6.359394281671165,
          5.751440975639431,
          6.100955012390273,
          5.7849222837719445,
          6.309193338898205,
          6.201398936787811,
          6.376155955163231,
          5.368403591904458,
          6.067431665406138,
          5.334922283771944,
          5.859193338898205,
          6.167875589803677,
          5.993118571428257,
          5.334880244920324,
          5.684394281671164,
          5.301398936787811,
          5.476155955163231,
          5.717875589803677,
          5.543118571428257,
          5.357629704648496,
          5.707143741399337,
          5.424592320913522,
          6.1236203944152034,
          5.841068973929389,
          6.190583010680229,
          6.032629704648497,
          6.382143741399338,
          5.999148396515983,
          6.173905414891403,
          6.415625049531849,
          6.24086803115643,
          5.649592320913522,
          6.348620394415203,
          5.549148396515983,
          5.723905414891404,
          6.3821017025477165,
          5.857830647421456,
          5.616068973929389,
          5.965583010680229,
          5.515625049531851,
          5.34086803115643,
          5.932101702547717,
          5.407830647421456,
          5.498224069153029,
          5.847738105903869,
          5.531705377285542,
          6.055976432411803,
          5.948182030301409,
          6.1229390486768285,
          5.948224069153029,
          6.2977381059038695,
          5.914742761020515,
          6.089499779395936,
          6.331219414036383,
          6.156462395660962,
          5.756705377285542,
          6.280976432411802,
          5.689742761020516,
          5.864499779395937,
          6.314457740544316,
          5.964943703793475,
          5.723182030301409,
          5.897939048676829,
          5.656219414036382,
          5.481462395660962,
          5.8644577405443155,
          5.514943703793476,
          5.2839979564089905,
          5.983026029910671,
          5.250516648276477,
          5.774787703402738,
          6.08346995430821,
          5.90871293593279,
          5.73399795640899,
          6.433026029910671,
          5.6335540320114506,
          5.808311050386871,
          6.466507338043185,
          5.942236282916923,
          5.925516648276477,
          6.4497877034027375,
          5.85855403201145,
          6.033311050386871,
          6.483269011535251,
          6.13375497478441,
          5.858469954308211,
          5.68371293593279,
          5.791507338043184,
          5.267236282916923,
          5.583269011535251,
          5.233754974784411,
          5.419285880415791,
          5.768799917166632,
          5.385804572283279,
          5.560561590658699,
          5.802281225299145,
          5.627524206923725,
          5.8692858804157915,
          6.218799917166631,
          5.768841956018252,
          5.594084937642831,
          6.185318609034119,
          5.661047553907858,
          6.060804572283278,
          6.235561590658698,
          5.993841956018253,
          5.819084937642832,
          6.202080282526185,
          5.852566245775345,
          6.027281225299145,
          5.852524206923724,
          5.960318609034118,
          5.436047553907858,
          5.752080282526185,
          5.402566245775345
         ],
         "theta": [
          "0",
          "1",
          "2",
          "3",
          "4",
          "5",
          "6",
          "7",
          "8",
          "9",
          "10",
          "11",
          "12",
          "13",
          "14",
          "15",
          "16",
          "17",
          "18",
          "19",
          "20",
          "21",
          "22",
          "23",
          "24",
          "25",
          "26",
          "27",
          "28",
          "29",
          "30",
          "31",
          "32",
          "33",
          "34",
          "35",
          "36",
          "37",
          "38",
          "39",
          "40",
          "41",
          "42",
          "43",
          "44",
          "45",
          "46",
          "47",
          "48",
          "49",
          "50",
          "51",
          "52",
          "53",
          "54",
          "55",
          "56",
          "57",
          "58",
          "59",
          "60",
          "61",
          "62",
          "63",
          "64",
          "65",
          "66",
          "67",
          "68",
          "69",
          "70",
          "71",
          "72",
          "73",
          "74",
          "75",
          "76",
          "77",
          "78",
          "79",
          "80",
          "81",
          "82",
          "83",
          "84",
          "85",
          "86",
          "87",
          "88",
          "89",
          "90",
          "91",
          "92",
          "93",
          "94",
          "95",
          "96",
          "97",
          "98",
          "99",
          "100",
          "101",
          "102",
          "103",
          "104",
          "105",
          "106",
          "107",
          "108",
          "109",
          "110",
          "111",
          "112",
          "113",
          "114",
          "115",
          "116",
          "117",
          "118",
          "119"
         ],
         "type": "scatterpolar"
        }
       ],
       "layout": {
        "annotations": [
         {
          "showarrow": false,
          "text": "",
          "x": 0,
          "xref": "paper",
          "y": 0.75,
          "yref": "paper"
         }
        ],
        "autosize": false,
        "height": 700,
        "legend": {
         "font": {
          "size": 12
         },
         "traceorder": "normal",
         "x": 0,
         "y": 1.1
        },
        "margin": {
         "b": 100,
         "l": 50,
         "pad": 4,
         "r": 50,
         "t": 100
        },
        "plot_bgcolor": "rgba(0,0,0,0)",
        "polar": {
         "radialaxis": {
          "range": [
           0,
           10
          ]
         }
        },
        "template": {
         "data": {
          "bar": [
           {
            "error_x": {
             "color": "#2a3f5f"
            },
            "error_y": {
             "color": "#2a3f5f"
            },
            "marker": {
             "line": {
              "color": "#E5ECF6",
              "width": 0.5
             },
             "pattern": {
              "fillmode": "overlay",
              "size": 10,
              "solidity": 0.2
             }
            },
            "type": "bar"
           }
          ],
          "barpolar": [
           {
            "marker": {
             "line": {
              "color": "#E5ECF6",
              "width": 0.5
             },
             "pattern": {
              "fillmode": "overlay",
              "size": 10,
              "solidity": 0.2
             }
            },
            "type": "barpolar"
           }
          ],
          "carpet": [
           {
            "aaxis": {
             "endlinecolor": "#2a3f5f",
             "gridcolor": "white",
             "linecolor": "white",
             "minorgridcolor": "white",
             "startlinecolor": "#2a3f5f"
            },
            "baxis": {
             "endlinecolor": "#2a3f5f",
             "gridcolor": "white",
             "linecolor": "white",
             "minorgridcolor": "white",
             "startlinecolor": "#2a3f5f"
            },
            "type": "carpet"
           }
          ],
          "choropleth": [
           {
            "colorbar": {
             "outlinewidth": 0,
             "ticks": ""
            },
            "type": "choropleth"
           }
          ],
          "contour": [
           {
            "colorbar": {
             "outlinewidth": 0,
             "ticks": ""
            },
            "colorscale": [
             [
              0,
              "#0d0887"
             ],
             [
              0.1111111111111111,
              "#46039f"
             ],
             [
              0.2222222222222222,
              "#7201a8"
             ],
             [
              0.3333333333333333,
              "#9c179e"
             ],
             [
              0.4444444444444444,
              "#bd3786"
             ],
             [
              0.5555555555555556,
              "#d8576b"
             ],
             [
              0.6666666666666666,
              "#ed7953"
             ],
             [
              0.7777777777777778,
              "#fb9f3a"
             ],
             [
              0.8888888888888888,
              "#fdca26"
             ],
             [
              1,
              "#f0f921"
             ]
            ],
            "type": "contour"
           }
          ],
          "contourcarpet": [
           {
            "colorbar": {
             "outlinewidth": 0,
             "ticks": ""
            },
            "type": "contourcarpet"
           }
          ],
          "heatmap": [
           {
            "colorbar": {
             "outlinewidth": 0,
             "ticks": ""
            },
            "colorscale": [
             [
              0,
              "#0d0887"
             ],
             [
              0.1111111111111111,
              "#46039f"
             ],
             [
              0.2222222222222222,
              "#7201a8"
             ],
             [
              0.3333333333333333,
              "#9c179e"
             ],
             [
              0.4444444444444444,
              "#bd3786"
             ],
             [
              0.5555555555555556,
              "#d8576b"
             ],
             [
              0.6666666666666666,
              "#ed7953"
             ],
             [
              0.7777777777777778,
              "#fb9f3a"
             ],
             [
              0.8888888888888888,
              "#fdca26"
             ],
             [
              1,
              "#f0f921"
             ]
            ],
            "type": "heatmap"
           }
          ],
          "heatmapgl": [
           {
            "colorbar": {
             "outlinewidth": 0,
             "ticks": ""
            },
            "colorscale": [
             [
              0,
              "#0d0887"
             ],
             [
              0.1111111111111111,
              "#46039f"
             ],
             [
              0.2222222222222222,
              "#7201a8"
             ],
             [
              0.3333333333333333,
              "#9c179e"
             ],
             [
              0.4444444444444444,
              "#bd3786"
             ],
             [
              0.5555555555555556,
              "#d8576b"
             ],
             [
              0.6666666666666666,
              "#ed7953"
             ],
             [
              0.7777777777777778,
              "#fb9f3a"
             ],
             [
              0.8888888888888888,
              "#fdca26"
             ],
             [
              1,
              "#f0f921"
             ]
            ],
            "type": "heatmapgl"
           }
          ],
          "histogram": [
           {
            "marker": {
             "pattern": {
              "fillmode": "overlay",
              "size": 10,
              "solidity": 0.2
             }
            },
            "type": "histogram"
           }
          ],
          "histogram2d": [
           {
            "colorbar": {
             "outlinewidth": 0,
             "ticks": ""
            },
            "colorscale": [
             [
              0,
              "#0d0887"
             ],
             [
              0.1111111111111111,
              "#46039f"
             ],
             [
              0.2222222222222222,
              "#7201a8"
             ],
             [
              0.3333333333333333,
              "#9c179e"
             ],
             [
              0.4444444444444444,
              "#bd3786"
             ],
             [
              0.5555555555555556,
              "#d8576b"
             ],
             [
              0.6666666666666666,
              "#ed7953"
             ],
             [
              0.7777777777777778,
              "#fb9f3a"
             ],
             [
              0.8888888888888888,
              "#fdca26"
             ],
             [
              1,
              "#f0f921"
             ]
            ],
            "type": "histogram2d"
           }
          ],
          "histogram2dcontour": [
           {
            "colorbar": {
             "outlinewidth": 0,
             "ticks": ""
            },
            "colorscale": [
             [
              0,
              "#0d0887"
             ],
             [
              0.1111111111111111,
              "#46039f"
             ],
             [
              0.2222222222222222,
              "#7201a8"
             ],
             [
              0.3333333333333333,
              "#9c179e"
             ],
             [
              0.4444444444444444,
              "#bd3786"
             ],
             [
              0.5555555555555556,
              "#d8576b"
             ],
             [
              0.6666666666666666,
              "#ed7953"
             ],
             [
              0.7777777777777778,
              "#fb9f3a"
             ],
             [
              0.8888888888888888,
              "#fdca26"
             ],
             [
              1,
              "#f0f921"
             ]
            ],
            "type": "histogram2dcontour"
           }
          ],
          "mesh3d": [
           {
            "colorbar": {
             "outlinewidth": 0,
             "ticks": ""
            },
            "type": "mesh3d"
           }
          ],
          "parcoords": [
           {
            "line": {
             "colorbar": {
              "outlinewidth": 0,
              "ticks": ""
             }
            },
            "type": "parcoords"
           }
          ],
          "pie": [
           {
            "automargin": true,
            "type": "pie"
           }
          ],
          "scatter": [
           {
            "fillpattern": {
             "fillmode": "overlay",
             "size": 10,
             "solidity": 0.2
            },
            "type": "scatter"
           }
          ],
          "scatter3d": [
           {
            "line": {
             "colorbar": {
              "outlinewidth": 0,
              "ticks": ""
             }
            },
            "marker": {
             "colorbar": {
              "outlinewidth": 0,
              "ticks": ""
             }
            },
            "type": "scatter3d"
           }
          ],
          "scattercarpet": [
           {
            "marker": {
             "colorbar": {
              "outlinewidth": 0,
              "ticks": ""
             }
            },
            "type": "scattercarpet"
           }
          ],
          "scattergeo": [
           {
            "marker": {
             "colorbar": {
              "outlinewidth": 0,
              "ticks": ""
             }
            },
            "type": "scattergeo"
           }
          ],
          "scattergl": [
           {
            "marker": {
             "colorbar": {
              "outlinewidth": 0,
              "ticks": ""
             }
            },
            "type": "scattergl"
           }
          ],
          "scattermapbox": [
           {
            "marker": {
             "colorbar": {
              "outlinewidth": 0,
              "ticks": ""
             }
            },
            "type": "scattermapbox"
           }
          ],
          "scatterpolar": [
           {
            "marker": {
             "colorbar": {
              "outlinewidth": 0,
              "ticks": ""
             }
            },
            "type": "scatterpolar"
           }
          ],
          "scatterpolargl": [
           {
            "marker": {
             "colorbar": {
              "outlinewidth": 0,
              "ticks": ""
             }
            },
            "type": "scatterpolargl"
           }
          ],
          "scatterternary": [
           {
            "marker": {
             "colorbar": {
              "outlinewidth": 0,
              "ticks": ""
             }
            },
            "type": "scatterternary"
           }
          ],
          "surface": [
           {
            "colorbar": {
             "outlinewidth": 0,
             "ticks": ""
            },
            "colorscale": [
             [
              0,
              "#0d0887"
             ],
             [
              0.1111111111111111,
              "#46039f"
             ],
             [
              0.2222222222222222,
              "#7201a8"
             ],
             [
              0.3333333333333333,
              "#9c179e"
             ],
             [
              0.4444444444444444,
              "#bd3786"
             ],
             [
              0.5555555555555556,
              "#d8576b"
             ],
             [
              0.6666666666666666,
              "#ed7953"
             ],
             [
              0.7777777777777778,
              "#fb9f3a"
             ],
             [
              0.8888888888888888,
              "#fdca26"
             ],
             [
              1,
              "#f0f921"
             ]
            ],
            "type": "surface"
           }
          ],
          "table": [
           {
            "cells": {
             "fill": {
              "color": "#EBF0F8"
             },
             "line": {
              "color": "white"
             }
            },
            "header": {
             "fill": {
              "color": "#C8D4E3"
             },
             "line": {
              "color": "white"
             }
            },
            "type": "table"
           }
          ]
         },
         "layout": {
          "annotationdefaults": {
           "arrowcolor": "#2a3f5f",
           "arrowhead": 0,
           "arrowwidth": 1
          },
          "autotypenumbers": "strict",
          "coloraxis": {
           "colorbar": {
            "outlinewidth": 0,
            "ticks": ""
           }
          },
          "colorscale": {
           "diverging": [
            [
             0,
             "#8e0152"
            ],
            [
             0.1,
             "#c51b7d"
            ],
            [
             0.2,
             "#de77ae"
            ],
            [
             0.3,
             "#f1b6da"
            ],
            [
             0.4,
             "#fde0ef"
            ],
            [
             0.5,
             "#f7f7f7"
            ],
            [
             0.6,
             "#e6f5d0"
            ],
            [
             0.7,
             "#b8e186"
            ],
            [
             0.8,
             "#7fbc41"
            ],
            [
             0.9,
             "#4d9221"
            ],
            [
             1,
             "#276419"
            ]
           ],
           "sequential": [
            [
             0,
             "#0d0887"
            ],
            [
             0.1111111111111111,
             "#46039f"
            ],
            [
             0.2222222222222222,
             "#7201a8"
            ],
            [
             0.3333333333333333,
             "#9c179e"
            ],
            [
             0.4444444444444444,
             "#bd3786"
            ],
            [
             0.5555555555555556,
             "#d8576b"
            ],
            [
             0.6666666666666666,
             "#ed7953"
            ],
            [
             0.7777777777777778,
             "#fb9f3a"
            ],
            [
             0.8888888888888888,
             "#fdca26"
            ],
            [
             1,
             "#f0f921"
            ]
           ],
           "sequentialminus": [
            [
             0,
             "#0d0887"
            ],
            [
             0.1111111111111111,
             "#46039f"
            ],
            [
             0.2222222222222222,
             "#7201a8"
            ],
            [
             0.3333333333333333,
             "#9c179e"
            ],
            [
             0.4444444444444444,
             "#bd3786"
            ],
            [
             0.5555555555555556,
             "#d8576b"
            ],
            [
             0.6666666666666666,
             "#ed7953"
            ],
            [
             0.7777777777777778,
             "#fb9f3a"
            ],
            [
             0.8888888888888888,
             "#fdca26"
            ],
            [
             1,
             "#f0f921"
            ]
           ]
          },
          "colorway": [
           "#636efa",
           "#EF553B",
           "#00cc96",
           "#ab63fa",
           "#FFA15A",
           "#19d3f3",
           "#FF6692",
           "#B6E880",
           "#FF97FF",
           "#FECB52"
          ],
          "font": {
           "color": "#2a3f5f"
          },
          "geo": {
           "bgcolor": "white",
           "lakecolor": "white",
           "landcolor": "#E5ECF6",
           "showlakes": true,
           "showland": true,
           "subunitcolor": "white"
          },
          "hoverlabel": {
           "align": "left"
          },
          "hovermode": "closest",
          "mapbox": {
           "style": "light"
          },
          "paper_bgcolor": "white",
          "plot_bgcolor": "#E5ECF6",
          "polar": {
           "angularaxis": {
            "gridcolor": "white",
            "linecolor": "white",
            "ticks": ""
           },
           "bgcolor": "#E5ECF6",
           "radialaxis": {
            "gridcolor": "white",
            "linecolor": "white",
            "ticks": ""
           }
          },
          "scene": {
           "xaxis": {
            "backgroundcolor": "#E5ECF6",
            "gridcolor": "white",
            "gridwidth": 2,
            "linecolor": "white",
            "showbackground": true,
            "ticks": "",
            "zerolinecolor": "white"
           },
           "yaxis": {
            "backgroundcolor": "#E5ECF6",
            "gridcolor": "white",
            "gridwidth": 2,
            "linecolor": "white",
            "showbackground": true,
            "ticks": "",
            "zerolinecolor": "white"
           },
           "zaxis": {
            "backgroundcolor": "#E5ECF6",
            "gridcolor": "white",
            "gridwidth": 2,
            "linecolor": "white",
            "showbackground": true,
            "ticks": "",
            "zerolinecolor": "white"
           }
          },
          "shapedefaults": {
           "line": {
            "color": "#2a3f5f"
           }
          },
          "ternary": {
           "aaxis": {
            "gridcolor": "white",
            "linecolor": "white",
            "ticks": ""
           },
           "baxis": {
            "gridcolor": "white",
            "linecolor": "white",
            "ticks": ""
           },
           "bgcolor": "#E5ECF6",
           "caxis": {
            "gridcolor": "white",
            "linecolor": "white",
            "ticks": ""
           }
          },
          "title": {
           "x": 0.05
          },
          "xaxis": {
           "automargin": true,
           "gridcolor": "white",
           "linecolor": "white",
           "ticks": "",
           "title": {
            "standoff": 15
           },
           "zerolinecolor": "white",
           "zerolinewidth": 2
          },
          "yaxis": {
           "automargin": true,
           "gridcolor": "white",
           "linecolor": "white",
           "ticks": "",
           "title": {
            "standoff": 15
           },
           "zerolinecolor": "white",
           "zerolinewidth": 2
          }
         }
        },
        "width": 900
       }
      }
     },
     "metadata": {},
     "output_type": "display_data"
    }
   ],
   "source": [
    "## Creating radar graph\n",
    "\n",
    "iterations = [str(i) for i in range(120)]\n",
    "\n",
    "#design 1\n",
    "data1=go.Scatterpolar(\n",
    "      r=design1,\n",
    "      theta=iterations,\n",
    "      # fill='toself',\n",
    "      name='Design 1: Nested U-Net',\n",
    ")\n",
    "\n",
    "#design 2\n",
    "data2=go.Scatterpolar(\n",
    "      r=design2,\n",
    "      theta=iterations,\n",
    "      # fill='toself',\n",
    "      name='Design 2: SegNet'\n",
    ")\n",
    "\n",
    "#design 3\n",
    "data3 = go.Scatterpolar(\n",
    "      r=design3,\n",
    "      theta=iterations,\n",
    "      # fill='toself',\n",
    "      name='Design 3: DeepLabV3+'\n",
    ")\n",
    "\n",
    "datas = [data1,data2,data3]\n",
    "\n",
    "# #customization of chart\n",
    "# fig.update_layout(\n",
    "#   polar=dict(\n",
    "#     radialaxis=dict(\n",
    "#       visible=True,\n",
    "#       range=[1, 10]\n",
    "#     )),\n",
    "#   showlegend=False\n",
    "# )\n",
    "\n",
    "layout = go.Layout(\n",
    "        plot_bgcolor='rgba(0,0,0,0)',\n",
    "        legend=dict(\n",
    "            x=0,\n",
    "            y=1.1,\n",
    "            traceorder='normal',\n",
    "            font=dict(\n",
    "                size=12,),\n",
    "        ),\n",
    "    annotations=[\n",
    "        dict(\n",
    "            x=0,\n",
    "            y=0.75,\n",
    "            xref='paper',\n",
    "            yref='paper',\n",
    "            text='',\n",
    "            showarrow=False\n",
    "        )\n",
    "    ],\n",
    "    autosize=False,\n",
    "    width=900,\n",
    "    height=700,\n",
    "    margin=dict(\n",
    "        l=50,\n",
    "        r=50,\n",
    "        b=100,\n",
    "        t=100,\n",
    "        pad=4\n",
    "    ),\n",
    ")\n",
    "\n",
    "fig = go.Figure(data = datas, layout=layout)\n",
    "\n",
    "fig.update_polars(radialaxis=dict(range=[0, 10]))\n",
    "\n",
    "fig.show()"
   ]
  },
  {
   "cell_type": "code",
   "execution_count": null,
   "metadata": {},
   "outputs": [
    {
     "name": "stdout",
     "output_type": "stream",
     "text": [
      "Average Score:\n",
      "Inception V3: 6.7660844656428845\n",
      "MobileNet V3: 4.6\n",
      "EfficientNet V2: 7.583261004339739\n"
     ]
    }
   ],
   "source": [
    "print(\"Average Score:\")\n",
    "print(\"Inception V3:\", np.average(design1))\n",
    "print(\"MobileNet V3:\", np.average(design3))\n",
    "print(\"EfficientNet V2:\", np.average(design2))"
   ]
  },
  {
   "cell_type": "code",
   "execution_count": null,
   "metadata": {},
   "outputs": [],
   "source": []
  }
 ],
 "metadata": {
  "kernelspec": {
   "display_name": "tf",
   "language": "python",
   "name": "python3"
  },
  "language_info": {
   "codemirror_mode": {
    "name": "ipython",
    "version": 3
   },
   "file_extension": ".py",
   "mimetype": "text/x-python",
   "name": "python",
   "nbconvert_exporter": "python",
   "pygments_lexer": "ipython3",
   "version": "3.11.4"
  },
  "orig_nbformat": 4
 },
 "nbformat": 4,
 "nbformat_minor": 2
}
