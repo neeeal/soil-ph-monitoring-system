{
 "cells": [
  {
   "cell_type": "code",
   "execution_count": 1,
   "metadata": {},
   "outputs": [],
   "source": [
    "import random\n"
   ]
  },
  {
   "cell_type": "code",
   "execution_count": 79,
   "metadata": {},
   "outputs": [],
   "source": [
    "classification = ['InceptionV3','MobileNetV2','ResNet50']\n",
    "segmentation = ['DeepLabv3','PSPNet','U-Net']"
   ]
  },
  {
   "cell_type": "code",
   "execution_count": 80,
   "metadata": {},
   "outputs": [],
   "source": [
    "pairs = []\n",
    "for i in range(3):\n",
    "    idx0 = random.randint(0,len(classification)-1)\n",
    "    idx1 = random.randint(0,len(segmentation)-1)\n",
    "    pairs.append([classification.pop(idx0),segmentation.pop(idx1)])\n"
   ]
  },
  {
   "cell_type": "code",
   "execution_count": 90,
   "metadata": {},
   "outputs": [
    {
     "name": "stdout",
     "output_type": "stream",
     "text": [
      "Design 1: InceptionV3 PSPNet\n",
      "Design 2: MobileNetV2 DeepLabv3\n",
      "Design 3: ResNet50 U-Net\n"
     ]
    }
   ],
   "source": [
    "for n,pair in enumerate(pairs):\n",
    "    print('Design %d: %s %s' % (n+1, pair[0], pair[1]))"
   ]
  },
  {
   "cell_type": "code",
   "execution_count": null,
   "metadata": {},
   "outputs": [],
   "source": []
  }
 ],
 "metadata": {
  "kernelspec": {
   "display_name": "tf",
   "language": "python",
   "name": "python3"
  },
  "language_info": {
   "codemirror_mode": {
    "name": "ipython",
    "version": 3
   },
   "file_extension": ".py",
   "mimetype": "text/x-python",
   "name": "python",
   "nbconvert_exporter": "python",
   "pygments_lexer": "ipython3",
   "version": "3.11.4"
  }
 },
 "nbformat": 4,
 "nbformat_minor": 2
}
