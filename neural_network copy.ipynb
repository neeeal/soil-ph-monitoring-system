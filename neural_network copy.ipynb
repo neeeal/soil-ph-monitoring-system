{
 "cells": [
  {
   "cell_type": "markdown",
   "metadata": {},
   "source": [
    "# CREATE DEEP NEURAL NETWORK"
   ]
  },
  {
   "cell_type": "code",
   "execution_count": 1,
   "metadata": {},
   "outputs": [],
   "source": [
    "from tensorflow.keras.layers import Dense, Dropout, BatchNormalization, Input, Flatten\n",
    "from tensorflow.keras.optimizers import Adam, RMSprop \n",
    "from tensorflow.keras import Sequential\n",
    "from tensorflow.keras.preprocessing.image import ImageDataGenerator\n",
    "from tensorflow.keras.callbacks import ReduceLROnPlateau, EarlyStopping\n",
    "from tensorflow.keras.regularizers import L2\n",
    "\n",
    "from os.path import join\n",
    "from os import listdir\n",
    "from shutil import copy\n",
    "\n",
    "import numpy as np\n",
    "import matplotlib.pyplot as plt\n",
    "import seaborn as sns\n",
    "import os\n",
    "import cv2"
   ]
  },
  {
   "cell_type": "code",
   "execution_count": 2,
   "metadata": {},
   "outputs": [],
   "source": [
    "# GLOBAL VARIABLES\n",
    "preprocessingPath=\"preprocessingData\"\n",
    "path = \"data\"\n",
    "classes = listdir(preprocessingPath)\n",
    "trainPath = join(path,\"train\")\n",
    "valPath = join(path,\"val\")\n",
    "train = 0.80 # ;val = 1. - train\n",
    "np.random.seed(26)\n",
    "\n",
    "\n",
    "batch_size = 32\n",
    "epochs = 256\n",
    "lr = 1e-4\n",
    "input_shape = (224,224)\n",
    "channels = (3,)\n",
    "class_mode = 'categorical'\n",
    "color_mode = 'rgb'\n",
    "num_class = len(classes)"
   ]
  },
  {
   "cell_type": "markdown",
   "metadata": {},
   "source": [
    "## Mount files to data generators"
   ]
  },
  {
   "cell_type": "code",
   "execution_count": 3,
   "metadata": {},
   "outputs": [],
   "source": [
    "# ## SEPARATING TO TRAIN AND VALIDATION SETS\n",
    "# for c in classes:\n",
    "#     classPath = join(preprocessingPath,c)\n",
    "#     images = listdir(classPath)\n",
    "#     np.random.shuffle(images)\n",
    "#     numImages = len(images)\n",
    "#     setClassPath = join(trainPath,c)\n",
    "#     for n,image in enumerate(images):\n",
    "#         if n == round(numImages*train): \n",
    "#             setClassPath = join(valPath,c)\n",
    "#         imagePath = join(classPath,image)\n",
    "#         newImagePath = join(setClassPath,image)\n",
    "#         copy(imagePath, newImagePath)"
   ]
  },
  {
   "cell_type": "code",
   "execution_count": 10,
   "metadata": {},
   "outputs": [],
   "source": [
    "# train_generator = ImageDataGenerator(rescale=1./255,\n",
    "#                                     #  width_shift_range = 0.2,\n",
    "#                                     #  height_shift_range = 0.2, \n",
    "#                                     #  zoom_range = 0.2,\n",
    "#                                      shear_range = 0.5,\n",
    "#                                      horizontal_flip = True,\n",
    "#                                      vertical_flip = True,\n",
    "#                                     #  rotation_range = 45,\n",
    "#                                      ).flow_from_directory(directory = trainPath,\n",
    "#                                                                          target_size=input_shape,\n",
    "#                                                                          color_mode=color_mode,\n",
    "#                                                                          class_mode=class_mode,\n",
    "#                                                                          batch_size=batch_size,\n",
    "#                               \n",
    "# Initialize lists to store data and labels\n",
    "X_train = []\n",
    "y_train = []\n",
    "# Loop through the dataset directory and load images\n",
    "for class_name in np.array(os.listdir(trainPath)).astype(int):\n",
    "    class_path = os.path.join(trainPath, str(class_name))\n",
    "    for image_filename in os.listdir(class_path):\n",
    "        image_path = os.path.join(class_path, image_filename)\n",
    "        \n",
    "        # Load and preprocess the image\n",
    "        image = cv2.imread(image_path)\n",
    "        image = cv2.resize(image, (224, 224))  # Resize to a consistent size\n",
    "        # image = image.flatten()  # Flatten to convert to a 1D array\n",
    "        X_train.append(image)  \n",
    "        y_train.append(class_name)  \n",
    "X_train = np.array(X_train)\n",
    "y_train = np.array(y_train)                            \n",
    "generator = ImageDataGenerator(featurewise_center = True,\n",
    "                                    #  width_shift_range = 0.2,\n",
    "                                    #  height_shift_range = 0.2, \n",
    "                                    #  zoom_range = 0.2,\n",
    "                                     shear_range = 0.5,\n",
    "                                     horizontal_flip = True,\n",
    "                                     vertical_flip = True,\n",
    "                                    #  rotation_range = 45,\n",
    "                                     )\n",
    "generator.fit(X_train)\n",
    "train_generator = generator.flow(X_train, y_train, batch_size=batch_size)\n",
    "\n",
    "# train_generator = train_generator.flow_from_directory(directory = trainPath,\n",
    "#                                                                          target_size=input_shape,\n",
    "#                                                                          color_mode=color_mode,\n",
    "#                                                                          class_mode=class_mode,\n",
    "#                                                                          batch_size=batch_size,\n",
    "#                                                                          )\n",
    "\n",
    "# val_generator = ImageDataGenerator(rescale=1./255,).flow_from_directory(directory = valPath,\n",
    "#                                                                          target_size=input_shape,\n",
    "#                                                                          color_mode=color_mode,\n",
    "#                                                                          class_mode='sparse',\n",
    "#                                                                          batch_size=batch_size,\n",
    "#                                                                          )\n",
    "# Initialize lists to store data and labels\n",
    "X_test = []\n",
    "y_test = []\n",
    "# Loop through the dataset directory and load images\n",
    "for class_name in np.array(os.listdir(valPath)).astype(int):\n",
    "    class_path = os.path.join(valPath, str(class_name))\n",
    "    for image_filename in os.listdir(class_path):\n",
    "        image_path = os.path.join(class_path, image_filename)\n",
    "        \n",
    "        # Load and preprocess the image\n",
    "        image = cv2.imread(image_path)\n",
    "        image = cv2.resize(image, (224, 224))  # Resize to a consistent size\n",
    "        # image = image.flatten()  # Flatten to convert to a 1D array\n",
    "        X_test.append(image)  \n",
    "        y_test.append(class_name)  \n",
    "X_test = np.array(X_test)\n",
    "y_test = np.array(y_test) \n",
    "val_gen = ImageDataGenerator(featurewise_center = True\n",
    "                                     )\n",
    "val_gen.fit(X_test)\n",
    "val_generator = val_gen.flow(X_test, y_test, batch_size=batch_size)\n"
   ]
  },
  {
   "cell_type": "markdown",
   "metadata": {},
   "source": [
    "## CREATE MODEL"
   ]
  },
  {
   "cell_type": "code",
   "execution_count": 15,
   "metadata": {},
   "outputs": [],
   "source": [
    "model = Sequential()\n",
    "model.add(Input(input_shape+channels))\n",
    "model.add(Flatten())\n",
    "model.add(Dense(units=1024, activation='relu', kernel_regularizer=L2()))\n",
    "model.add(BatchNormalization())\n",
    "# model.add(Dropout(0.5))\n",
    "# model.add(Dense(units=512, activation='relu', kernel_regularizer=L2()))\n",
    "model.add(Dropout(0.5))\n",
    "# model.add(Dense(units=128, activation='relu'))\n",
    "model.add(Dense(units=1, activation='softmax'))\n",
    "\n"
   ]
  },
  {
   "cell_type": "code",
   "execution_count": 21,
   "metadata": {},
   "outputs": [
    {
     "data": {
      "text/plain": [
       "array([6, 6, 6, 6, 6, 6, 6, 6, 6, 6, 6, 6, 6, 6, 6, 6, 6, 6, 6, 6, 6, 6,\n",
       "       6, 6, 6, 6, 6, 6, 6, 6, 6, 6, 6, 6, 6, 6, 6, 6, 6, 6, 6, 6, 6, 6,\n",
       "       6, 6, 6, 6, 6, 6, 6, 6, 6, 6, 6, 6, 6, 6, 6, 6, 6, 6, 6, 6, 6, 6,\n",
       "       6, 6, 6, 6, 6, 6, 6, 6, 6, 6, 6, 6, 6, 6, 6, 6, 6, 6, 6, 6, 6, 6,\n",
       "       6, 6, 6, 6, 6, 6, 6, 6, 6, 6, 6, 6, 6, 6, 6, 6, 6, 6, 6, 6, 6, 6,\n",
       "       6, 6, 6, 6, 6, 6, 6, 6, 6, 6, 6, 6, 6, 6, 6, 6, 6, 6, 6, 6, 6, 6,\n",
       "       6, 6, 6, 6, 6, 6, 6, 6, 6, 6, 6, 6, 6, 6, 6, 6, 6, 6, 6, 6, 6, 6,\n",
       "       6, 6, 6, 6, 6, 6, 6, 6, 6, 6, 6, 6, 6, 6, 6, 6, 6, 6, 6, 6, 6, 6,\n",
       "       6, 6, 6, 6, 6, 6, 6, 6, 7, 7, 7, 7, 7, 7, 7, 7, 7, 7, 7, 7, 7, 7,\n",
       "       7, 7, 7, 7, 7, 7, 7, 7, 7, 7, 7, 7, 7, 7, 7, 7, 7, 7, 7, 7, 7, 7,\n",
       "       7, 7, 7, 7, 7, 7, 7, 7, 7, 7, 7, 7, 7, 7, 7, 7, 7, 7, 7, 7, 7, 7,\n",
       "       7, 7, 7, 7, 7, 7, 7, 7, 7, 7, 7, 7, 7, 7, 7, 7, 7, 7, 7, 7, 7, 7,\n",
       "       7, 7, 7, 7, 7, 7, 7, 7, 7, 7, 7, 7, 7, 7, 7, 7, 7, 7, 7, 7, 7, 7,\n",
       "       7, 7, 7, 7, 7, 7, 7, 7, 7, 7, 7, 7, 7, 7, 7, 7, 7, 7, 7, 7, 7, 7,\n",
       "       7, 7, 7, 7, 7, 7, 7, 7, 7, 7, 7, 7, 7, 7, 7, 7, 7, 7, 7, 7, 7, 7,\n",
       "       7, 7, 7, 7, 7, 7, 7, 7, 7, 7, 7, 7, 7, 7, 7, 7, 7, 7, 7, 7, 7, 7,\n",
       "       7, 7, 7, 7, 7, 7, 7, 7, 7, 7, 7, 7, 7, 7, 7, 7, 7, 7, 7, 7, 7, 7,\n",
       "       7, 7, 7, 7, 7, 7, 7, 7, 7, 7, 7, 7, 7, 7, 7, 7, 7, 7, 7, 7, 7, 7,\n",
       "       7, 7, 7, 7, 7, 7, 7, 7, 7, 7, 7, 7, 7, 7, 7, 7, 7, 7, 7, 7, 7, 7,\n",
       "       7, 7, 7, 7, 7, 7, 7, 7, 7, 7, 7, 7, 7, 7, 7, 7, 7, 7, 7, 7, 7, 7,\n",
       "       7, 7, 7, 7, 7, 7, 7, 7, 7, 7, 7, 7, 7, 7, 7, 7, 7, 7, 7, 7, 7, 7,\n",
       "       7, 7, 7, 7, 7, 7, 7, 7, 7, 7, 7, 7, 7, 7, 7, 7, 7, 7, 7, 7, 7, 7,\n",
       "       7, 7, 7, 8, 8, 8, 8, 8, 8, 8, 8, 8, 8, 8, 8, 8, 8, 8, 8, 8, 8, 8,\n",
       "       8, 8, 8, 8, 8, 8, 8, 8, 8, 8, 8, 8, 8, 8, 8, 8, 8, 8, 8, 8, 8, 8,\n",
       "       8, 8, 8, 8, 8, 8, 8, 8, 8, 8, 8, 8, 8, 8, 8, 8, 8, 8, 8, 8, 8, 8,\n",
       "       8, 8, 8, 8, 8, 8, 8, 8, 8, 8, 8, 8, 8, 8, 8, 8, 8, 8, 8, 8, 8, 8,\n",
       "       8, 8, 8, 8, 8, 8, 8, 8, 8, 8, 8, 8, 8, 8, 8, 8, 8, 8, 8, 8, 8, 8,\n",
       "       8, 8, 8, 8, 8, 8, 8, 8, 8, 8, 8, 8, 8, 8, 8, 8, 8, 8, 8, 8, 8, 8,\n",
       "       8, 8, 8, 8, 8, 8, 8, 8, 8, 8, 8, 8, 8, 8, 8, 8, 8, 8, 8, 8, 8, 8,\n",
       "       8, 8, 8, 8, 8, 8, 8, 8, 8, 8, 8, 8, 8, 8, 8, 8, 8, 8, 8, 8, 8, 8,\n",
       "       8, 8, 8, 8, 8, 8, 8, 8, 8, 8, 8, 8, 8, 8, 8, 8, 8, 8, 8, 8, 8, 8,\n",
       "       8, 8, 8, 8, 8, 8, 8, 8, 8, 8, 8, 8, 8, 8, 8, 8, 8, 8, 8, 8, 8, 8,\n",
       "       8, 8, 8, 8, 8, 8, 8, 9, 9, 9, 9, 9, 9, 9, 9, 9, 9, 9, 9, 9, 9, 9,\n",
       "       9, 9, 9, 9, 9, 9, 9, 9, 9, 9, 9, 9, 9, 9, 9, 9, 9, 9, 9, 9, 9, 9,\n",
       "       9, 9, 9, 9, 9, 9, 9, 9, 9, 9, 9, 9, 9, 9, 9, 9, 9, 9, 9, 9, 9, 9,\n",
       "       9, 9, 9, 9, 9, 9, 9, 9, 9, 9, 9, 9, 9, 9, 9, 9, 9, 9, 9, 9, 9, 9,\n",
       "       9, 9, 9, 9, 9, 9, 9, 9, 9, 9, 9, 9, 9, 9, 9, 9, 9, 9, 9, 9, 9, 9,\n",
       "       9, 9, 9, 9, 9, 9, 9, 9, 9, 9, 9, 9, 9, 9, 9, 9, 9, 9, 9, 9, 9, 9,\n",
       "       9, 9, 9])"
      ]
     },
     "execution_count": 21,
     "metadata": {},
     "output_type": "execute_result"
    }
   ],
   "source": [
    "y_train"
   ]
  },
  {
   "cell_type": "code",
   "execution_count": 16,
   "metadata": {},
   "outputs": [
    {
     "name": "stdout",
     "output_type": "stream",
     "text": [
      "Model: \"sequential_2\"\n",
      "_________________________________________________________________\n",
      " Layer (type)                Output Shape              Param #   \n",
      "=================================================================\n",
      " flatten_2 (Flatten)         (None, 150528)            0         \n",
      "                                                                 \n",
      " dense_4 (Dense)             (None, 1024)              154141696 \n",
      "                                                                 \n",
      " batch_normalization_2 (Batc  (None, 1024)             4096      \n",
      " hNormalization)                                                 \n",
      "                                                                 \n",
      " dropout_2 (Dropout)         (None, 1024)              0         \n",
      "                                                                 \n",
      " dense_5 (Dense)             (None, 4)                 4100      \n",
      "                                                                 \n",
      "=================================================================\n",
      "Total params: 154,149,892\n",
      "Trainable params: 154,147,844\n",
      "Non-trainable params: 2,048\n",
      "_________________________________________________________________\n"
     ]
    }
   ],
   "source": [
    "model.summary()"
   ]
  },
  {
   "cell_type": "code",
   "execution_count": 17,
   "metadata": {},
   "outputs": [],
   "source": [
    "model.compile(optimizer=Adam(lr), loss='sparse_categorical_crossentropy', metrics=['acc'])"
   ]
  },
  {
   "cell_type": "code",
   "execution_count": 18,
   "metadata": {},
   "outputs": [
    {
     "name": "stdout",
     "output_type": "stream",
     "text": [
      "Epoch 1/256\n"
     ]
    },
    {
     "ename": "ValueError",
     "evalue": "in user code:\n\n    File \"c:\\Users\\miniconda3\\envs\\tf\\lib\\site-packages\\keras\\engine\\training.py\", line 1160, in train_function  *\n        return step_function(self, iterator)\n    File \"c:\\Users\\miniconda3\\envs\\tf\\lib\\site-packages\\keras\\engine\\training.py\", line 1146, in step_function  **\n        outputs = model.distribute_strategy.run(run_step, args=(data,))\n    File \"c:\\Users\\miniconda3\\envs\\tf\\lib\\site-packages\\keras\\engine\\training.py\", line 1135, in run_step  **\n        outputs = model.train_step(data)\n    File \"c:\\Users\\miniconda3\\envs\\tf\\lib\\site-packages\\keras\\engine\\training.py\", line 994, in train_step\n        loss = self.compute_loss(x, y, y_pred, sample_weight)\n    File \"c:\\Users\\miniconda3\\envs\\tf\\lib\\site-packages\\keras\\engine\\training.py\", line 1052, in compute_loss\n        return self.compiled_loss(\n    File \"c:\\Users\\miniconda3\\envs\\tf\\lib\\site-packages\\keras\\engine\\compile_utils.py\", line 265, in __call__\n        loss_value = loss_obj(y_t, y_p, sample_weight=sw)\n    File \"c:\\Users\\miniconda3\\envs\\tf\\lib\\site-packages\\keras\\losses.py\", line 152, in __call__\n        losses = call_fn(y_true, y_pred)\n    File \"c:\\Users\\miniconda3\\envs\\tf\\lib\\site-packages\\keras\\losses.py\", line 272, in call  **\n        return ag_fn(y_true, y_pred, **self._fn_kwargs)\n    File \"c:\\Users\\miniconda3\\envs\\tf\\lib\\site-packages\\keras\\losses.py\", line 1990, in categorical_crossentropy\n        return backend.categorical_crossentropy(\n    File \"c:\\Users\\miniconda3\\envs\\tf\\lib\\site-packages\\keras\\backend.py\", line 5529, in categorical_crossentropy\n        target.shape.assert_is_compatible_with(output.shape)\n\n    ValueError: Shapes (None, 1) and (None, 4) are incompatible\n",
     "output_type": "error",
     "traceback": [
      "\u001b[1;31m---------------------------------------------------------------------------\u001b[0m",
      "\u001b[1;31mValueError\u001b[0m                                Traceback (most recent call last)",
      "\u001b[1;32me:\\soil-ph-monitoring-system\\neural_network copy.ipynb Cell 11\u001b[0m line \u001b[0;36m5\n\u001b[0;32m      <a href='vscode-notebook-cell:/e%3A/soil-ph-monitoring-system/neural_network%20copy.ipynb#X13sZmlsZQ%3D%3D?line=0'>1</a>\u001b[0m reduce_lr \u001b[39m=\u001b[39m ReduceLROnPlateau(monitor\u001b[39m=\u001b[39m\u001b[39m'\u001b[39m\u001b[39mloss\u001b[39m\u001b[39m'\u001b[39m, factor\u001b[39m=\u001b[39m\u001b[39m0.1\u001b[39m,\n\u001b[0;32m      <a href='vscode-notebook-cell:/e%3A/soil-ph-monitoring-system/neural_network%20copy.ipynb#X13sZmlsZQ%3D%3D?line=1'>2</a>\u001b[0m                               patience\u001b[39m=\u001b[39m\u001b[39m4\u001b[39m, min_lr\u001b[39m=\u001b[39m\u001b[39m1e-7\u001b[39m)\n\u001b[0;32m      <a href='vscode-notebook-cell:/e%3A/soil-ph-monitoring-system/neural_network%20copy.ipynb#X13sZmlsZQ%3D%3D?line=2'>3</a>\u001b[0m es \u001b[39m=\u001b[39m EarlyStopping(monitor\u001b[39m=\u001b[39m\u001b[39m'\u001b[39m\u001b[39mloss\u001b[39m\u001b[39m'\u001b[39m, patience\u001b[39m=\u001b[39m\u001b[39m7\u001b[39m)\n\u001b[1;32m----> <a href='vscode-notebook-cell:/e%3A/soil-ph-monitoring-system/neural_network%20copy.ipynb#X13sZmlsZQ%3D%3D?line=4'>5</a>\u001b[0m history \u001b[39m=\u001b[39m model\u001b[39m.\u001b[39;49mfit(train_generator, validation_data \u001b[39m=\u001b[39;49m val_generator, \n\u001b[0;32m      <a href='vscode-notebook-cell:/e%3A/soil-ph-monitoring-system/neural_network%20copy.ipynb#X13sZmlsZQ%3D%3D?line=5'>6</a>\u001b[0m                         epochs \u001b[39m=\u001b[39;49m epochs, callbacks\u001b[39m=\u001b[39;49m[reduce_lr, es], \n\u001b[0;32m      <a href='vscode-notebook-cell:/e%3A/soil-ph-monitoring-system/neural_network%20copy.ipynb#X13sZmlsZQ%3D%3D?line=6'>7</a>\u001b[0m                         verbose \u001b[39m=\u001b[39;49m \u001b[39m1\u001b[39;49m)\n",
      "File \u001b[1;32mc:\\Users\\miniconda3\\envs\\tf\\lib\\site-packages\\keras\\utils\\traceback_utils.py:70\u001b[0m, in \u001b[0;36mfilter_traceback.<locals>.error_handler\u001b[1;34m(*args, **kwargs)\u001b[0m\n\u001b[0;32m     67\u001b[0m     filtered_tb \u001b[39m=\u001b[39m _process_traceback_frames(e\u001b[39m.\u001b[39m__traceback__)\n\u001b[0;32m     68\u001b[0m     \u001b[39m# To get the full stack trace, call:\u001b[39;00m\n\u001b[0;32m     69\u001b[0m     \u001b[39m# `tf.debugging.disable_traceback_filtering()`\u001b[39;00m\n\u001b[1;32m---> 70\u001b[0m     \u001b[39mraise\u001b[39;00m e\u001b[39m.\u001b[39mwith_traceback(filtered_tb) \u001b[39mfrom\u001b[39;00m \u001b[39mNone\u001b[39;00m\n\u001b[0;32m     71\u001b[0m \u001b[39mfinally\u001b[39;00m:\n\u001b[0;32m     72\u001b[0m     \u001b[39mdel\u001b[39;00m filtered_tb\n",
      "File \u001b[1;32mC:\\Users\\MYPC~1\\AppData\\Local\\Temp\\__autograph_generated_filesg9jtuno.py:15\u001b[0m, in \u001b[0;36mouter_factory.<locals>.inner_factory.<locals>.tf__train_function\u001b[1;34m(iterator)\u001b[0m\n\u001b[0;32m     13\u001b[0m \u001b[39mtry\u001b[39;00m:\n\u001b[0;32m     14\u001b[0m     do_return \u001b[39m=\u001b[39m \u001b[39mTrue\u001b[39;00m\n\u001b[1;32m---> 15\u001b[0m     retval_ \u001b[39m=\u001b[39m ag__\u001b[39m.\u001b[39mconverted_call(ag__\u001b[39m.\u001b[39mld(step_function), (ag__\u001b[39m.\u001b[39mld(\u001b[39mself\u001b[39m), ag__\u001b[39m.\u001b[39mld(iterator)), \u001b[39mNone\u001b[39;00m, fscope)\n\u001b[0;32m     16\u001b[0m \u001b[39mexcept\u001b[39;00m:\n\u001b[0;32m     17\u001b[0m     do_return \u001b[39m=\u001b[39m \u001b[39mFalse\u001b[39;00m\n",
      "\u001b[1;31mValueError\u001b[0m: in user code:\n\n    File \"c:\\Users\\miniconda3\\envs\\tf\\lib\\site-packages\\keras\\engine\\training.py\", line 1160, in train_function  *\n        return step_function(self, iterator)\n    File \"c:\\Users\\miniconda3\\envs\\tf\\lib\\site-packages\\keras\\engine\\training.py\", line 1146, in step_function  **\n        outputs = model.distribute_strategy.run(run_step, args=(data,))\n    File \"c:\\Users\\miniconda3\\envs\\tf\\lib\\site-packages\\keras\\engine\\training.py\", line 1135, in run_step  **\n        outputs = model.train_step(data)\n    File \"c:\\Users\\miniconda3\\envs\\tf\\lib\\site-packages\\keras\\engine\\training.py\", line 994, in train_step\n        loss = self.compute_loss(x, y, y_pred, sample_weight)\n    File \"c:\\Users\\miniconda3\\envs\\tf\\lib\\site-packages\\keras\\engine\\training.py\", line 1052, in compute_loss\n        return self.compiled_loss(\n    File \"c:\\Users\\miniconda3\\envs\\tf\\lib\\site-packages\\keras\\engine\\compile_utils.py\", line 265, in __call__\n        loss_value = loss_obj(y_t, y_p, sample_weight=sw)\n    File \"c:\\Users\\miniconda3\\envs\\tf\\lib\\site-packages\\keras\\losses.py\", line 152, in __call__\n        losses = call_fn(y_true, y_pred)\n    File \"c:\\Users\\miniconda3\\envs\\tf\\lib\\site-packages\\keras\\losses.py\", line 272, in call  **\n        return ag_fn(y_true, y_pred, **self._fn_kwargs)\n    File \"c:\\Users\\miniconda3\\envs\\tf\\lib\\site-packages\\keras\\losses.py\", line 1990, in categorical_crossentropy\n        return backend.categorical_crossentropy(\n    File \"c:\\Users\\miniconda3\\envs\\tf\\lib\\site-packages\\keras\\backend.py\", line 5529, in categorical_crossentropy\n        target.shape.assert_is_compatible_with(output.shape)\n\n    ValueError: Shapes (None, 1) and (None, 4) are incompatible\n"
     ]
    }
   ],
   "source": [
    "reduce_lr = ReduceLROnPlateau(monitor='loss', factor=0.1,\n",
    "                              patience=4, min_lr=1e-7)\n",
    "es = EarlyStopping(monitor='loss', patience=7)\n",
    "\n",
    "history = model.fit(train_generator, validation_data = val_generator, \n",
    "                        epochs = epochs, callbacks=[reduce_lr, es], \n",
    "                        verbose = 1)"
   ]
  },
  {
   "cell_type": "markdown",
   "metadata": {},
   "source": [
    "## PLOT RESULTS"
   ]
  },
  {
   "cell_type": "code",
   "execution_count": null,
   "metadata": {},
   "outputs": [
    {
     "name": "stdout",
     "output_type": "stream",
     "text": [
      "Best Epoch:  0\n",
      "Best Train Loss: nan\n",
      "Best Validation Loss: nan\n",
      "Best Train Accuracy: 0.0000\n",
      "Best Test Accuracy: 0.2190\n"
     ]
    }
   ],
   "source": [
    "train_loss = history.history['loss']\n",
    "train_acc = history.history['acc']\n",
    "val_loss = history.history['val_loss']\n",
    "val_acc = history.history['val_acc']\n",
    "\n",
    "best_epoch = np.argmax(np.array(val_acc))\n",
    "\n",
    "print(\"Best Epoch: \", best_epoch)\n",
    "print(\"Best Train Loss: {:.4f}\".format(train_loss[best_epoch]))\n",
    "print(\"Best Validation Loss: {:.4f}\".format(val_loss[best_epoch]))\n",
    "print(\"Best Train Accuracy: {:.4f}\".format(train_acc[best_epoch]))\n",
    "print(\"Best Test Accuracy: {:.4f}\".format(val_acc[best_epoch]))"
   ]
  },
  {
   "cell_type": "code",
   "execution_count": null,
   "metadata": {},
   "outputs": [],
   "source": [
    "import warnings\n",
    "warnings.filterwarnings(\"ignore\")"
   ]
  },
  {
   "cell_type": "code",
   "execution_count": null,
   "metadata": {},
   "outputs": [
    {
     "data": {
      "image/png": "[encoded data removed]",
      "text/plain": [
       "<Figure size 1500x400 with 2 Axes>"
      ]
     },
     "metadata": {},
     "output_type": "display_data"
    }
   ],
   "source": [
    "\n",
    "fig, ax = plt.subplots(1,2, figsize=(15,4))\n",
    "sns.lineplot(train_loss , ax=ax[0], label='train loss')\n",
    "sns.lineplot(val_loss, ax=ax[0], label='val loss')\n",
    "# ax[0].legend(labels=['train loss','validation loss'],loc=\"upper right\")\n",
    "ax[0].set_title('Loss')\n",
    "\n",
    "sns.lineplot(train_acc, ax=ax[1], label='train accuracy')\n",
    "sns.lineplot(val_acc, ax=ax[1], label='val accuracy')\n",
    "# ax[1].legend(labels=['train acc','validation acc'],loc=\"upper right\")\n",
    "ax[1].set_title('Accuracy')\n",
    "\n",
    "plt.show()\n"
   ]
  },
  {
   "cell_type": "code",
   "execution_count": null,
   "metadata": {},
   "outputs": [],
   "source": []
  }
 ],
 "metadata": {
  "kernelspec": {
   "display_name": "tf",
   "language": "python",
   "name": "python3"
  },
  "language_info": {
   "codemirror_mode": {
    "name": "ipython",
    "version": 3
   },
   "file_extension": ".py",
   "mimetype": "text/x-python",
   "name": "python",
   "nbconvert_exporter": "python",
   "pygments_lexer": "ipython3",
   "version": "3.9.13"
  },
  "orig_nbformat": 4
 },
 "nbformat": 4,
 "nbformat_minor": 2
}
