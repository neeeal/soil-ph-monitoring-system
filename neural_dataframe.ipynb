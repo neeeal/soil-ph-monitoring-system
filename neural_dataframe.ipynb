{
 "cells": [
  {
   "cell_type": "code",
   "execution_count": 1,
   "metadata": {},
   "outputs": [],
   "source": [
    "from tensorflow.keras.layers import Dense, Dropout, BatchNormalization, Input, Flatten, LeakyReLU, ReLU\n",
    "from tensorflow.keras.optimizers import Adam, RMSprop \n",
    "from tensorflow.keras import Sequential\n",
    "from tensorflow.keras.preprocessing.image import ImageDataGenerator\n",
    "from tensorflow.keras.callbacks import ReduceLROnPlateau, EarlyStopping\n",
    "from tensorflow.keras.regularizers import L2\n",
    "\n",
    "from os.path import join\n",
    "from os import listdir\n",
    "from shutil import copy\n",
    "\n",
    "import numpy as np\n",
    "import matplotlib.pyplot as plt\n",
    "import seaborn as sns\n",
    "import pandas as pd"
   ]
  },
  {
   "cell_type": "code",
   "execution_count": 2,
   "metadata": {},
   "outputs": [
    {
     "data": {
      "text/html": [
       "<div>\n",
       "<style scoped>\n",
       "    .dataframe tbody tr th:only-of-type {\n",
       "        vertical-align: middle;\n",
       "    }\n",
       "\n",
       "    .dataframe tbody tr th {\n",
       "        vertical-align: top;\n",
       "    }\n",
       "\n",
       "    .dataframe thead th {\n",
       "        text-align: right;\n",
       "    }\n",
       "</style>\n",
       "<table border=\"1\" class=\"dataframe\">\n",
       "  <thead>\n",
       "    <tr style=\"text-align: right;\">\n",
       "      <th></th>\n",
       "      <th>path</th>\n",
       "      <th>pH</th>\n",
       "    </tr>\n",
       "  </thead>\n",
       "  <tbody>\n",
       "    <tr>\n",
       "      <th>0</th>\n",
       "      <td>close_seg\\6\\6K--56-_jpg-region_2.png</td>\n",
       "      <td>6</td>\n",
       "    </tr>\n",
       "    <tr>\n",
       "      <th>1</th>\n",
       "      <td>close_seg\\6\\6F--50-_jpg-region_2.png</td>\n",
       "      <td>6</td>\n",
       "    </tr>\n",
       "    <tr>\n",
       "      <th>2</th>\n",
       "      <td>close_seg\\6\\6K--3-_jpg-region_2.png</td>\n",
       "      <td>6</td>\n",
       "    </tr>\n",
       "    <tr>\n",
       "      <th>3</th>\n",
       "      <td>close_seg\\6\\6k--15-_jpg-region_2.png</td>\n",
       "      <td>6</td>\n",
       "    </tr>\n",
       "    <tr>\n",
       "      <th>4</th>\n",
       "      <td>close_seg\\6\\6F--43-_jpg-region_2.png</td>\n",
       "      <td>6</td>\n",
       "    </tr>\n",
       "  </tbody>\n",
       "</table>\n",
       "</div>"
      ],
      "text/plain": [
       "                                   path  pH\n",
       "0  close_seg\\6\\6K--56-_jpg-region_2.png   6\n",
       "1  close_seg\\6\\6F--50-_jpg-region_2.png   6\n",
       "2   close_seg\\6\\6K--3-_jpg-region_2.png   6\n",
       "3  close_seg\\6\\6k--15-_jpg-region_2.png   6\n",
       "4  close_seg\\6\\6F--43-_jpg-region_2.png   6"
      ]
     },
     "execution_count": 2,
     "metadata": {},
     "output_type": "execute_result"
    }
   ],
   "source": [
    "train_df = pd.read_csv(\"df//train_df.csv\")\n",
    "val_df = pd.read_csv(\"df//val_df.csv\")\n",
    "train_df.head()"
   ]
  },
  {
   "cell_type": "code",
   "execution_count": 3,
   "metadata": {},
   "outputs": [],
   "source": [
    "x_col = \"path\"\n",
    "y_col = \"pH\"\n",
    "batch_size = 32\n",
    "epochs = 256\n",
    "lr = 1e-5\n",
    "image_size = (128,128)\n",
    "channels = 3\n",
    "shuffle = True\n",
    "class_mode =\"raw\"\n",
    "color_mode = \"rgb\""
   ]
  },
  {
   "cell_type": "code",
   "execution_count": 4,
   "metadata": {},
   "outputs": [
    {
     "name": "stdout",
     "output_type": "stream",
     "text": [
      "Found 769 validated image filenames.\n",
      "Found 192 validated image filenames.\n"
     ]
    }
   ],
   "source": [
    "train_datagen = ImageDataGenerator(rescale=1./255,\n",
    "                                    #  width_shift_range = 0.2,\n",
    "                                    #  height_shift_range = 0.2, \n",
    "                                    #  zoom_range = 0.2,\n",
    "                                     shear_range = 0.5,\n",
    "                                     horizontal_flip = True,\n",
    "                                     vertical_flip = True,\n",
    "                                     rotation_range = 45,\n",
    "                                     )\n",
    "train_generator = train_datagen.flow_from_dataframe(dataframe=train_df,\n",
    "                                              x_col=x_col, y_col=y_col, has_ext=True, \n",
    "                                              class_mode=class_mode, target_size=image_size, \n",
    "                                              batch_size=batch_size, color_mode = color_mode,\n",
    "                                              shuffle = shuffle)\n",
    "val_datagen = ImageDataGenerator(rescale=1./255)\n",
    "val_generator = val_datagen.flow_from_dataframe(dataframe=val_df,\n",
    "                                              x_col=x_col, y_col=y_col, has_ext=True, \n",
    "                                              class_mode=class_mode, target_size=image_size, \n",
    "                                              batch_size=batch_size, color_mode = color_mode,\n",
    "                                              shuffle = shuffle)\n"
   ]
  },
  {
   "cell_type": "code",
   "execution_count": 25,
   "metadata": {},
   "outputs": [],
   "source": [
    "model = Sequential()\n",
    "model.add(Input(image_size+(channels,)))\n",
    "model.add(Flatten())\n",
    "\n",
    "model.add(Dense(units=256)) #, kernel_regularizer=L2()\n",
    "model.add(ReLU())\n",
    "model.add(Dropout(0.5))\n",
    "\n",
    "model.add(Dense(units=2048))\n",
    "model.add(ReLU())\n",
    "model.add(Dropout(0.5))\n",
    "\n",
    "model.add(BatchNormalization())\n",
    "\n",
    "model.add(Dense(units=2048))\n",
    "model.add(ReLU())\n",
    "\n",
    "model.add(Dense(units=1, activation='linear'))\n",
    "\n"
   ]
  },
  {
   "cell_type": "code",
   "execution_count": 26,
   "metadata": {},
   "outputs": [
    {
     "name": "stdout",
     "output_type": "stream",
     "text": [
      "Model: \"sequential_2\"\n",
      "_________________________________________________________________\n",
      " Layer (type)                Output Shape              Param #   \n",
      "=================================================================\n",
      " flatten_2 (Flatten)         (None, 49152)             0         \n",
      "                                                                 \n",
      " dense_8 (Dense)             (None, 256)               12583168  \n",
      "                                                                 \n",
      " re_lu_6 (ReLU)              (None, 256)               0         \n",
      "                                                                 \n",
      " dropout_4 (Dropout)         (None, 256)               0         \n",
      "                                                                 \n",
      " dense_9 (Dense)             (None, 2048)              526336    \n",
      "                                                                 \n",
      " re_lu_7 (ReLU)              (None, 2048)              0         \n",
      "                                                                 \n",
      " dropout_5 (Dropout)         (None, 2048)              0         \n",
      "                                                                 \n",
      " batch_normalization_1 (Batc  (None, 2048)             8192      \n",
      " hNormalization)                                                 \n",
      "                                                                 \n",
      " dense_10 (Dense)            (None, 2048)              4196352   \n",
      "                                                                 \n",
      " re_lu_8 (ReLU)              (None, 2048)              0         \n",
      "                                                                 \n",
      " dense_11 (Dense)            (None, 1)                 2049      \n",
      "                                                                 \n",
      "=================================================================\n",
      "Total params: 17,316,097\n",
      "Trainable params: 17,312,001\n",
      "Non-trainable params: 4,096\n",
      "_________________________________________________________________\n"
     ]
    }
   ],
   "source": [
    "model.summary()"
   ]
  },
  {
   "cell_type": "code",
   "execution_count": 27,
   "metadata": {},
   "outputs": [],
   "source": [
    "model.compile(optimizer=Adam(lr), loss='mean_squared_error', metrics=['mae'])"
   ]
  },
  {
   "cell_type": "code",
   "execution_count": 28,
   "metadata": {},
   "outputs": [
    {
     "name": "stdout",
     "output_type": "stream",
     "text": [
      "Epoch 1/256\n",
      "25/25 [==============================] - 3s 81ms/step - loss: 66.1321 - mae: 8.0377 - val_loss: 57.5966 - val_mae: 7.5259 - lr: 1.0000e-05\n",
      "Epoch 2/256\n",
      "25/25 [==============================] - 2s 82ms/step - loss: 61.3943 - mae: 7.7362 - val_loss: 54.5451 - val_mae: 7.3205 - lr: 1.0000e-05\n",
      "Epoch 3/256\n",
      "25/25 [==============================] - 2s 83ms/step - loss: 56.6427 - mae: 7.4182 - val_loss: 54.9930 - val_mae: 7.3513 - lr: 1.0000e-05\n",
      "Epoch 4/256\n",
      "25/25 [==============================] - 2s 79ms/step - loss: 50.3706 - mae: 6.9913 - val_loss: 51.9610 - val_mae: 7.1431 - lr: 1.0000e-05\n",
      "Epoch 5/256\n",
      "25/25 [==============================] - 2s 83ms/step - loss: 41.1934 - mae: 6.2947 - val_loss: 42.5868 - val_mae: 6.4538 - lr: 1.0000e-05\n",
      "Epoch 6/256\n",
      "25/25 [==============================] - 2s 84ms/step - loss: 29.6832 - mae: 5.2757 - val_loss: 30.7906 - val_mae: 5.4555 - lr: 1.0000e-05\n",
      "Epoch 7/256\n",
      "25/25 [==============================] - 2s 82ms/step - loss: 18.6311 - mae: 4.0398 - val_loss: 22.1353 - val_mae: 4.5679 - lr: 1.0000e-05\n",
      "Epoch 8/256\n",
      "25/25 [==============================] - 2s 83ms/step - loss: 11.1349 - mae: 2.9067 - val_loss: 18.8963 - val_mae: 4.1685 - lr: 1.0000e-05\n",
      "Epoch 9/256\n",
      "25/25 [==============================] - 2s 82ms/step - loss: 6.9356 - mae: 2.1466 - val_loss: 18.4023 - val_mae: 4.0914 - lr: 1.0000e-05\n",
      "Epoch 10/256\n",
      "25/25 [==============================] - 2s 82ms/step - loss: 5.0939 - mae: 1.7797 - val_loss: 22.2922 - val_mae: 4.5399 - lr: 1.0000e-05\n",
      "Epoch 11/256\n",
      "25/25 [==============================] - 2s 83ms/step - loss: 5.3360 - mae: 1.8613 - val_loss: 25.1243 - val_mae: 4.8541 - lr: 1.0000e-05\n",
      "Epoch 12/256\n",
      "25/25 [==============================] - 2s 82ms/step - loss: 4.1670 - mae: 1.6212 - val_loss: 25.2940 - val_mae: 4.8828 - lr: 1.0000e-05\n",
      "Epoch 13/256\n",
      "25/25 [==============================] - 2s 82ms/step - loss: 4.3759 - mae: 1.6456 - val_loss: 24.8610 - val_mae: 4.8451 - lr: 1.0000e-05\n",
      "Epoch 14/256\n",
      "25/25 [==============================] - 2s 84ms/step - loss: 4.5100 - mae: 1.6883 - val_loss: 26.4246 - val_mae: 5.0215 - lr: 1.0000e-05\n",
      "Epoch 15/256\n",
      "25/25 [==============================] - 2s 81ms/step - loss: 4.7499 - mae: 1.7197 - val_loss: 26.6356 - val_mae: 5.0481 - lr: 1.0000e-06\n",
      "Epoch 16/256\n",
      "25/25 [==============================] - 2s 82ms/step - loss: 3.8594 - mae: 1.5664 - val_loss: 26.7709 - val_mae: 5.0655 - lr: 1.0000e-06\n",
      "Epoch 17/256\n",
      "25/25 [==============================] - 2s 81ms/step - loss: 4.8726 - mae: 1.7184 - val_loss: 26.6426 - val_mae: 5.0571 - lr: 1.0000e-06\n",
      "Epoch 18/256\n",
      "25/25 [==============================] - 2s 82ms/step - loss: 4.3559 - mae: 1.6573 - val_loss: 25.5204 - val_mae: 4.9447 - lr: 1.0000e-06\n",
      "Epoch 19/256\n",
      "25/25 [==============================] - 2s 83ms/step - loss: 3.3023 - mae: 1.4181 - val_loss: 25.1243 - val_mae: 4.9066 - lr: 1.0000e-06\n",
      "Epoch 20/256\n",
      "25/25 [==============================] - 2s 79ms/step - loss: 2.8282 - mae: 1.3285 - val_loss: 23.8712 - val_mae: 4.7765 - lr: 1.0000e-07\n",
      "Epoch 21/256\n",
      "25/25 [==============================] - 2s 83ms/step - loss: 4.3001 - mae: 1.5996 - val_loss: 22.0015 - val_mae: 4.5739 - lr: 1.0000e-07\n",
      "Epoch 22/256\n",
      "25/25 [==============================] - 2s 80ms/step - loss: 4.5378 - mae: 1.6886 - val_loss: 21.8822 - val_mae: 4.5633 - lr: 1.0000e-07\n"
     ]
    }
   ],
   "source": [
    "reduce_lr = ReduceLROnPlateau(monitor='val_loss', factor=0.1,\n",
    "                              patience=5, min_lr=1e-7)\n",
    "es = EarlyStopping(monitor='val_loss', patience=13, mode=\"min\")\n",
    "\n",
    "history = model.fit(train_generator, validation_data = val_generator, \n",
    "                        epochs = epochs, callbacks=[reduce_lr, es], \n",
    "                        verbose = 1)"
   ]
  },
  {
   "cell_type": "code",
   "execution_count": 29,
   "metadata": {},
   "outputs": [
    {
     "name": "stdout",
     "output_type": "stream",
     "text": [
      "Best Epoch:  8\n",
      "Final Train Loss: 6.9356\n",
      "Final Validation Loss: 18.4023\n",
      "Final Train MAE: 2.1466\n",
      "Final Test MAE: 4.0914\n"
     ]
    }
   ],
   "source": [
    "train_loss = history.history['loss']\n",
    "train_mae = history.history['mae']\n",
    "val_loss = history.history['val_loss']\n",
    "val_mae = history.history['val_mae']\n",
    "\n",
    "best_epoch = np.argmin(np.array(val_loss))\n",
    "\n",
    "print(\"Best Epoch: \", best_epoch)\n",
    "print(\"Final Train Loss: {:.4f}\".format(train_loss[best_epoch]))\n",
    "print(\"Final Validation Loss: {:.4f}\".format(val_loss[best_epoch]))\n",
    "print(\"Final Train MAE: {:.4f}\".format(train_mae[best_epoch]))\n",
    "print(\"Final Test MAE: {:.4f}\".format(val_mae[best_epoch]))"
   ]
  },
  {
   "cell_type": "code",
   "execution_count": 30,
   "metadata": {},
   "outputs": [],
   "source": [
    "import warnings\n",
    "warnings.filterwarnings(\"ignore\")"
   ]
  },
  {
   "cell_type": "code",
   "execution_count": 31,
   "metadata": {},
   "outputs": [
    {
     "data": {
      "image/png": "[encoded data removed]",
      "text/plain": [
       "<Figure size 1500x400 with 2 Axes>"
      ]
     },
     "metadata": {},
     "output_type": "display_data"
    }
   ],
   "source": [
    "\n",
    "fig, ax = plt.subplots(1,2, figsize=(15,4))\n",
    "sns.lineplot(train_loss , ax=ax[0], label='train loss')\n",
    "sns.lineplot(val_loss, ax=ax[0], label='val loss')\n",
    "# ax[0].legend(labels=['train loss','validation loss'],loc=\"upper right\")\n",
    "ax[0].set_title('Loss')\n",
    "\n",
    "sns.lineplot(train_mae, ax=ax[1], label='train mae')\n",
    "sns.lineplot(val_mae, ax=ax[1], label='val mae')\n",
    "# ax[1].legend(labels=['train acc','validation acc'],loc=\"upper right\")\n",
    "ax[1].set_title('MAE')\n",
    "\n",
    "plt.show()\n"
   ]
  },
  {
   "cell_type": "code",
   "execution_count": 32,
   "metadata": {},
   "outputs": [],
   "source": [
    "tester = next(val_generator)"
   ]
  },
  {
   "cell_type": "code",
   "execution_count": 33,
   "metadata": {},
   "outputs": [
    {
     "name": "stdout",
     "output_type": "stream",
     "text": [
      "1/1 [==============================] - 0s 52ms/step\n",
      "Truth: 7\n",
      "Result: 2.75\n"
     ]
    }
   ],
   "source": [
    "test = tester[0][12]\n",
    "truth = tester[1][12]\n",
    "\n",
    "result = round(model.predict(test.reshape(1,image_size[0],image_size[1],channels))[0][0],2)\n",
    "print('Truth:',truth)\n",
    "print('Result:',result)\n"
   ]
  },
  {
   "cell_type": "code",
   "execution_count": null,
   "metadata": {},
   "outputs": [],
   "source": []
  }
 ],
 "metadata": {
  "kernelspec": {
   "display_name": "tf",
   "language": "python",
   "name": "python3"
  },
  "language_info": {
   "codemirror_mode": {
    "name": "ipython",
    "version": 3
   },
   "file_extension": ".py",
   "mimetype": "text/x-python",
   "name": "python",
   "nbconvert_exporter": "python",
   "pygments_lexer": "ipython3",
   "version": "3.9.13"
  }
 },
 "nbformat": 4,
 "nbformat_minor": 2
}
