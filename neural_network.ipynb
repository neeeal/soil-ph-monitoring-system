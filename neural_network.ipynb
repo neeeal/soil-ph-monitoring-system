{
 "cells": [
  {
   "cell_type": "markdown",
   "metadata": {},
   "source": [
    "# CREATE DEEP NEURAL NETWORK"
   ]
  },
  {
   "cell_type": "code",
   "execution_count": 15,
   "metadata": {},
   "outputs": [],
   "source": [
    "from tensorflow.keras.layers import Dense, Dropout, BatchNormalization, Input, Flatten, LeakyReLU\n",
    "from tensorflow.keras.optimizers import Adam, RMSprop \n",
    "from tensorflow.keras import Sequential\n",
    "from tensorflow.keras.preprocessing.image import ImageDataGenerator\n",
    "from tensorflow.keras.callbacks import ReduceLROnPlateau, EarlyStopping\n",
    "from tensorflow.keras.regularizers import L2\n",
    "\n",
    "from os.path import join\n",
    "from os import listdir\n",
    "from shutil import copy\n",
    "\n",
    "import numpy as np\n",
    "import matplotlib.pyplot as plt\n",
    "import seaborn as sns"
   ]
  },
  {
   "cell_type": "code",
   "execution_count": 16,
   "metadata": {},
   "outputs": [],
   "source": [
    "# GLOBAL VARIABLES\n",
    "preprocessingPath=\"preprocessingData\"\n",
    "path = \"data\"\n",
    "classes = listdir(preprocessingPath)\n",
    "trainPath = join(path,\"train\")\n",
    "valPath = join(path,\"val\")\n",
    "train = 0.80 # ;val = 1. - train\n",
    "np.random.seed(26)\n",
    "\n",
    "\n",
    "batch_size = 32\n",
    "epochs = 256\n",
    "lr = 1e-4\n",
    "input_shape = (224,224)\n",
    "channels = (1,)\n",
    "class_mode = 'sparse'\n",
    "color_mode = 'grayscale'\n",
    "num_class = len(classes)"
   ]
  },
  {
   "cell_type": "markdown",
   "metadata": {},
   "source": [
    "## Mount files to data generators"
   ]
  },
  {
   "cell_type": "code",
   "execution_count": 17,
   "metadata": {},
   "outputs": [],
   "source": [
    "# ## SEPARATING TO TRAIN AND VALIDATION SETS\n",
    "# for c in classes:\n",
    "#     classPath = join(preprocessingPath,c)\n",
    "#     images = listdir(classPath)\n",
    "#     np.random.shuffle(images)\n",
    "#     numImages = len(images)\n",
    "#     setClassPath = join(trainPath,c)\n",
    "#     for n,image in enumerate(images):\n",
    "#         if n == round(numImages*train): \n",
    "#             setClassPath = join(valPath,c)\n",
    "#         imagePath = join(classPath,image)\n",
    "#         newImagePath = join(setClassPath,image)\n",
    "#         copy(imagePath, newImagePath)"
   ]
  },
  {
   "cell_type": "code",
   "execution_count": 81,
   "metadata": {},
   "outputs": [
    {
     "ename": "ValueError",
     "evalue": "Invalid class_mode: <class 'float'>; expected one of: {'sparse', 'categorical', 'input', 'binary', None}",
     "output_type": "error",
     "traceback": [
      "\u001b[1;31m---------------------------------------------------------------------------\u001b[0m",
      "\u001b[1;31mValueError\u001b[0m                                Traceback (most recent call last)",
      "\u001b[1;32me:\\soil-ph-monitoring-system\\neural_network.ipynb Cell 6\u001b[0m line \u001b[0;36m1\n\u001b[1;32m----> <a href='vscode-notebook-cell:/e%3A/soil-ph-monitoring-system/neural_network.ipynb#W5sZmlsZQ%3D%3D?line=0'>1</a>\u001b[0m train_generator \u001b[39m=\u001b[39m ImageDataGenerator(rescale\u001b[39m=\u001b[39;49m\u001b[39m1.\u001b[39;49m\u001b[39m/\u001b[39;49m\u001b[39m255\u001b[39;49m,\n\u001b[0;32m      <a href='vscode-notebook-cell:/e%3A/soil-ph-monitoring-system/neural_network.ipynb#W5sZmlsZQ%3D%3D?line=1'>2</a>\u001b[0m                                      width_shift_range \u001b[39m=\u001b[39;49m \u001b[39m0.2\u001b[39;49m,\n\u001b[0;32m      <a href='vscode-notebook-cell:/e%3A/soil-ph-monitoring-system/neural_network.ipynb#W5sZmlsZQ%3D%3D?line=2'>3</a>\u001b[0m                                      height_shift_range \u001b[39m=\u001b[39;49m \u001b[39m0.2\u001b[39;49m, \n\u001b[0;32m      <a href='vscode-notebook-cell:/e%3A/soil-ph-monitoring-system/neural_network.ipynb#W5sZmlsZQ%3D%3D?line=3'>4</a>\u001b[0m                                      zoom_range \u001b[39m=\u001b[39;49m \u001b[39m0.2\u001b[39;49m,\n\u001b[0;32m      <a href='vscode-notebook-cell:/e%3A/soil-ph-monitoring-system/neural_network.ipynb#W5sZmlsZQ%3D%3D?line=4'>5</a>\u001b[0m                                      shear_range \u001b[39m=\u001b[39;49m \u001b[39m0.5\u001b[39;49m,\n\u001b[0;32m      <a href='vscode-notebook-cell:/e%3A/soil-ph-monitoring-system/neural_network.ipynb#W5sZmlsZQ%3D%3D?line=5'>6</a>\u001b[0m                                      horizontal_flip \u001b[39m=\u001b[39;49m \u001b[39mTrue\u001b[39;49;00m,\n\u001b[0;32m      <a href='vscode-notebook-cell:/e%3A/soil-ph-monitoring-system/neural_network.ipynb#W5sZmlsZQ%3D%3D?line=6'>7</a>\u001b[0m                                      vertical_flip \u001b[39m=\u001b[39;49m \u001b[39mTrue\u001b[39;49;00m,\n\u001b[0;32m      <a href='vscode-notebook-cell:/e%3A/soil-ph-monitoring-system/neural_network.ipynb#W5sZmlsZQ%3D%3D?line=7'>8</a>\u001b[0m                                     \u001b[39m#  rotation_range = 45,\u001b[39;49;00m\n\u001b[0;32m      <a href='vscode-notebook-cell:/e%3A/soil-ph-monitoring-system/neural_network.ipynb#W5sZmlsZQ%3D%3D?line=8'>9</a>\u001b[0m                                      )\u001b[39m.\u001b[39;49mflow_from_directory(directory \u001b[39m=\u001b[39;49m trainPath,\n\u001b[0;32m     <a href='vscode-notebook-cell:/e%3A/soil-ph-monitoring-system/neural_network.ipynb#W5sZmlsZQ%3D%3D?line=9'>10</a>\u001b[0m                                                                          target_size\u001b[39m=\u001b[39;49minput_shape,\n\u001b[0;32m     <a href='vscode-notebook-cell:/e%3A/soil-ph-monitoring-system/neural_network.ipynb#W5sZmlsZQ%3D%3D?line=10'>11</a>\u001b[0m                                                                          color_mode\u001b[39m=\u001b[39;49mcolor_mode,\n\u001b[0;32m     <a href='vscode-notebook-cell:/e%3A/soil-ph-monitoring-system/neural_network.ipynb#W5sZmlsZQ%3D%3D?line=11'>12</a>\u001b[0m                                                                          class_mode\u001b[39m=\u001b[39;49m\u001b[39mfloat\u001b[39;49m,\n\u001b[0;32m     <a href='vscode-notebook-cell:/e%3A/soil-ph-monitoring-system/neural_network.ipynb#W5sZmlsZQ%3D%3D?line=12'>13</a>\u001b[0m                                                                          batch_size\u001b[39m=\u001b[39;49mbatch_size,\n\u001b[0;32m     <a href='vscode-notebook-cell:/e%3A/soil-ph-monitoring-system/neural_network.ipynb#W5sZmlsZQ%3D%3D?line=13'>14</a>\u001b[0m                                                                          )\n\u001b[0;32m     <a href='vscode-notebook-cell:/e%3A/soil-ph-monitoring-system/neural_network.ipynb#W5sZmlsZQ%3D%3D?line=15'>16</a>\u001b[0m val_generator \u001b[39m=\u001b[39m ImageDataGenerator(rescale\u001b[39m=\u001b[39m\u001b[39m1.\u001b[39m\u001b[39m/\u001b[39m\u001b[39m255\u001b[39m,)\u001b[39m.\u001b[39mflow_from_directory(directory \u001b[39m=\u001b[39m valPath,\n\u001b[0;32m     <a href='vscode-notebook-cell:/e%3A/soil-ph-monitoring-system/neural_network.ipynb#W5sZmlsZQ%3D%3D?line=16'>17</a>\u001b[0m                                                                          target_size\u001b[39m=\u001b[39minput_shape,\n\u001b[0;32m     <a href='vscode-notebook-cell:/e%3A/soil-ph-monitoring-system/neural_network.ipynb#W5sZmlsZQ%3D%3D?line=17'>18</a>\u001b[0m                                                                          color_mode\u001b[39m=\u001b[39mcolor_mode,\n\u001b[0;32m     <a href='vscode-notebook-cell:/e%3A/soil-ph-monitoring-system/neural_network.ipynb#W5sZmlsZQ%3D%3D?line=18'>19</a>\u001b[0m                                                                          class_mode\u001b[39m=\u001b[39mclass_mode,\n\u001b[0;32m     <a href='vscode-notebook-cell:/e%3A/soil-ph-monitoring-system/neural_network.ipynb#W5sZmlsZQ%3D%3D?line=19'>20</a>\u001b[0m                                                                          batch_size\u001b[39m=\u001b[39mbatch_size,\n\u001b[0;32m     <a href='vscode-notebook-cell:/e%3A/soil-ph-monitoring-system/neural_network.ipynb#W5sZmlsZQ%3D%3D?line=20'>21</a>\u001b[0m                                                                          )\n",
      "File \u001b[1;32mc:\\Users\\miniconda3\\envs\\tf\\lib\\site-packages\\keras\\preprocessing\\image.py:1650\u001b[0m, in \u001b[0;36mImageDataGenerator.flow_from_directory\u001b[1;34m(self, directory, target_size, color_mode, classes, class_mode, batch_size, shuffle, seed, save_to_dir, save_prefix, save_format, follow_links, subset, interpolation, keep_aspect_ratio)\u001b[0m\n\u001b[0;32m   1564\u001b[0m \u001b[39mdef\u001b[39;00m \u001b[39mflow_from_directory\u001b[39m(\n\u001b[0;32m   1565\u001b[0m     \u001b[39mself\u001b[39m,\n\u001b[0;32m   1566\u001b[0m     directory,\n\u001b[1;32m   (...)\u001b[0m\n\u001b[0;32m   1580\u001b[0m     keep_aspect_ratio\u001b[39m=\u001b[39m\u001b[39mFalse\u001b[39;00m,\n\u001b[0;32m   1581\u001b[0m ):\n\u001b[0;32m   1582\u001b[0m \u001b[39m    \u001b[39m\u001b[39m\"\"\"Takes the path to a directory & generates batches of augmented data.\u001b[39;00m\n\u001b[0;32m   1583\u001b[0m \n\u001b[0;32m   1584\u001b[0m \u001b[39m    Args:\u001b[39;00m\n\u001b[1;32m   (...)\u001b[0m\n\u001b[0;32m   1648\u001b[0m \u001b[39m            and `y` is a numpy array of corresponding labels.\u001b[39;00m\n\u001b[0;32m   1649\u001b[0m \u001b[39m    \"\"\"\u001b[39;00m\n\u001b[1;32m-> 1650\u001b[0m     \u001b[39mreturn\u001b[39;00m DirectoryIterator(\n\u001b[0;32m   1651\u001b[0m         directory,\n\u001b[0;32m   1652\u001b[0m         \u001b[39mself\u001b[39;49m,\n\u001b[0;32m   1653\u001b[0m         target_size\u001b[39m=\u001b[39;49mtarget_size,\n\u001b[0;32m   1654\u001b[0m         color_mode\u001b[39m=\u001b[39;49mcolor_mode,\n\u001b[0;32m   1655\u001b[0m         keep_aspect_ratio\u001b[39m=\u001b[39;49mkeep_aspect_ratio,\n\u001b[0;32m   1656\u001b[0m         classes\u001b[39m=\u001b[39;49mclasses,\n\u001b[0;32m   1657\u001b[0m         class_mode\u001b[39m=\u001b[39;49mclass_mode,\n\u001b[0;32m   1658\u001b[0m         data_format\u001b[39m=\u001b[39;49m\u001b[39mself\u001b[39;49m\u001b[39m.\u001b[39;49mdata_format,\n\u001b[0;32m   1659\u001b[0m         batch_size\u001b[39m=\u001b[39;49mbatch_size,\n\u001b[0;32m   1660\u001b[0m         shuffle\u001b[39m=\u001b[39;49mshuffle,\n\u001b[0;32m   1661\u001b[0m         seed\u001b[39m=\u001b[39;49mseed,\n\u001b[0;32m   1662\u001b[0m         save_to_dir\u001b[39m=\u001b[39;49msave_to_dir,\n\u001b[0;32m   1663\u001b[0m         save_prefix\u001b[39m=\u001b[39;49msave_prefix,\n\u001b[0;32m   1664\u001b[0m         save_format\u001b[39m=\u001b[39;49msave_format,\n\u001b[0;32m   1665\u001b[0m         follow_links\u001b[39m=\u001b[39;49mfollow_links,\n\u001b[0;32m   1666\u001b[0m         subset\u001b[39m=\u001b[39;49msubset,\n\u001b[0;32m   1667\u001b[0m         interpolation\u001b[39m=\u001b[39;49minterpolation,\n\u001b[0;32m   1668\u001b[0m         dtype\u001b[39m=\u001b[39;49m\u001b[39mself\u001b[39;49m\u001b[39m.\u001b[39;49mdtype,\n\u001b[0;32m   1669\u001b[0m     )\n",
      "File \u001b[1;32mc:\\Users\\miniconda3\\envs\\tf\\lib\\site-packages\\keras\\preprocessing\\image.py:551\u001b[0m, in \u001b[0;36mDirectoryIterator.__init__\u001b[1;34m(self, directory, image_data_generator, target_size, color_mode, classes, class_mode, batch_size, shuffle, seed, data_format, save_to_dir, save_prefix, save_format, follow_links, subset, interpolation, keep_aspect_ratio, dtype)\u001b[0m\n\u001b[0;32m    549\u001b[0m \u001b[39mself\u001b[39m\u001b[39m.\u001b[39mclasses \u001b[39m=\u001b[39m classes\n\u001b[0;32m    550\u001b[0m \u001b[39mif\u001b[39;00m class_mode \u001b[39mnot\u001b[39;00m \u001b[39min\u001b[39;00m \u001b[39mself\u001b[39m\u001b[39m.\u001b[39mallowed_class_modes:\n\u001b[1;32m--> 551\u001b[0m     \u001b[39mraise\u001b[39;00m \u001b[39mValueError\u001b[39;00m(\n\u001b[0;32m    552\u001b[0m         \u001b[39m\"\u001b[39m\u001b[39mInvalid class_mode: \u001b[39m\u001b[39m{}\u001b[39;00m\u001b[39m; expected one of: \u001b[39m\u001b[39m{}\u001b[39;00m\u001b[39m\"\u001b[39m\u001b[39m.\u001b[39mformat(\n\u001b[0;32m    553\u001b[0m             class_mode, \u001b[39mself\u001b[39m\u001b[39m.\u001b[39mallowed_class_modes\n\u001b[0;32m    554\u001b[0m         )\n\u001b[0;32m    555\u001b[0m     )\n\u001b[0;32m    556\u001b[0m \u001b[39mself\u001b[39m\u001b[39m.\u001b[39mclass_mode \u001b[39m=\u001b[39m class_mode\n\u001b[0;32m    557\u001b[0m \u001b[39mself\u001b[39m\u001b[39m.\u001b[39mdtype \u001b[39m=\u001b[39m dtype\n",
      "\u001b[1;31mValueError\u001b[0m: Invalid class_mode: <class 'float'>; expected one of: {'sparse', 'categorical', 'input', 'binary', None}"
     ]
    }
   ],
   "source": [
    "train_generator = ImageDataGenerator(rescale=1./255,\n",
    "                                     width_shift_range = 0.2,\n",
    "                                     height_shift_range = 0.2, \n",
    "                                     zoom_range = 0.2,\n",
    "                                     shear_range = 0.5,\n",
    "                                     horizontal_flip = True,\n",
    "                                     vertical_flip = True,\n",
    "                                    #  rotation_range = 45,\n",
    "                                     ).flow_from_directory(directory = trainPath,\n",
    "                                                                         target_size=input_shape,\n",
    "                                                                         color_mode=color_mode,\n",
    "                                                                         class_mode=class_mode,\n",
    "                                                                         batch_size=batch_size,\n",
    "                                                                         )\n",
    "\n",
    "val_generator = ImageDataGenerator(rescale=1./255,).flow_from_directory(directory = valPath,\n",
    "                                                                         target_size=input_shape,\n",
    "                                                                         color_mode=color_mode,\n",
    "                                                                         class_mode=class_mode,\n",
    "                                                                         batch_size=batch_size,\n",
    "                                                                         )"
   ]
  },
  {
   "cell_type": "markdown",
   "metadata": {},
   "source": [
    "## CREATE MODEL"
   ]
  },
  {
   "cell_type": "code",
   "execution_count": 50,
   "metadata": {},
   "outputs": [],
   "source": [
    "model = Sequential()\n",
    "model.add(Input(input_shape+channels))\n",
    "model.add(Flatten())\n",
    "model.add(Dense(units=512)) #, kernel_regularizer=L2()\n",
    "model.add(LeakyReLU())\n",
    "# model.add(BatchNormalization())\n",
    "model.add(Dropout(0.5))\n",
    "model.add(Dense(units=512))\n",
    "model.add(LeakyReLU())\n",
    "model.add(Dropout(0.5))\n",
    "model.add(Dense(units=1, activation='linear'))\n",
    "\n"
   ]
  },
  {
   "cell_type": "code",
   "execution_count": 51,
   "metadata": {},
   "outputs": [
    {
     "name": "stdout",
     "output_type": "stream",
     "text": [
      "Model: \"sequential_4\"\n",
      "_________________________________________________________________\n",
      " Layer (type)                Output Shape              Param #   \n",
      "=================================================================\n",
      " flatten_4 (Flatten)         (None, 50176)             0         \n",
      "                                                                 \n",
      " dense_12 (Dense)            (None, 512)               25690624  \n",
      "                                                                 \n",
      " leaky_re_lu_8 (LeakyReLU)   (None, 512)               0         \n",
      "                                                                 \n",
      " dropout_8 (Dropout)         (None, 512)               0         \n",
      "                                                                 \n",
      " dense_13 (Dense)            (None, 512)               262656    \n",
      "                                                                 \n",
      " leaky_re_lu_9 (LeakyReLU)   (None, 512)               0         \n",
      "                                                                 \n",
      " dropout_9 (Dropout)         (None, 512)               0         \n",
      "                                                                 \n",
      " dense_14 (Dense)            (None, 1)                 513       \n",
      "                                                                 \n",
      "=================================================================\n",
      "Total params: 25,953,793\n",
      "Trainable params: 25,953,793\n",
      "Non-trainable params: 0\n",
      "_________________________________________________________________\n"
     ]
    }
   ],
   "source": [
    "model.summary()"
   ]
  },
  {
   "cell_type": "code",
   "execution_count": 52,
   "metadata": {},
   "outputs": [],
   "source": [
    "model.compile(optimizer=Adam(lr), loss='mean_squared_error', metrics=['mae'])"
   ]
  },
  {
   "cell_type": "code",
   "execution_count": 53,
   "metadata": {},
   "outputs": [
    {
     "name": "stdout",
     "output_type": "stream",
     "text": [
      "Epoch 1/256\n",
      "24/24 [==============================] - 3s 90ms/step - loss: 16.7650 - mae: 3.0984 - val_loss: 5.0295 - val_mae: 1.9505 - lr: 1.0000e-04\n",
      "Epoch 2/256\n",
      "24/24 [==============================] - 2s 88ms/step - loss: 6.6897 - mae: 2.0355 - val_loss: 1.5944 - val_mae: 1.0167 - lr: 1.0000e-04\n",
      "Epoch 3/256\n",
      "24/24 [==============================] - 2s 89ms/step - loss: 4.2833 - mae: 1.6205 - val_loss: 1.2466 - val_mae: 0.8940 - lr: 1.0000e-04\n",
      "Epoch 4/256\n",
      "24/24 [==============================] - 2s 83ms/step - loss: 3.4275 - mae: 1.4965 - val_loss: 1.1254 - val_mae: 0.8669 - lr: 1.0000e-04\n",
      "Epoch 5/256\n",
      "24/24 [==============================] - 2s 87ms/step - loss: 3.3214 - mae: 1.4296 - val_loss: 1.2222 - val_mae: 0.9001 - lr: 1.0000e-04\n",
      "Epoch 6/256\n",
      "24/24 [==============================] - 2s 85ms/step - loss: 3.0452 - mae: 1.3578 - val_loss: 1.2600 - val_mae: 0.8904 - lr: 1.0000e-04\n",
      "Epoch 7/256\n",
      "24/24 [==============================] - 2s 86ms/step - loss: 3.0757 - mae: 1.4140 - val_loss: 2.0032 - val_mae: 1.1672 - lr: 1.0000e-04\n",
      "Epoch 8/256\n",
      "24/24 [==============================] - 2s 86ms/step - loss: 2.7479 - mae: 1.3339 - val_loss: 1.1917 - val_mae: 0.8677 - lr: 1.0000e-05\n",
      "Epoch 9/256\n",
      "24/24 [==============================] - 2s 88ms/step - loss: 2.5501 - mae: 1.2807 - val_loss: 1.3901 - val_mae: 0.9372 - lr: 1.0000e-05\n",
      "Epoch 10/256\n",
      "24/24 [==============================] - 2s 88ms/step - loss: 2.2434 - mae: 1.2100 - val_loss: 1.4065 - val_mae: 0.9437 - lr: 1.0000e-05\n",
      "Epoch 11/256\n",
      "24/24 [==============================] - 2s 86ms/step - loss: 2.1959 - mae: 1.2004 - val_loss: 1.3869 - val_mae: 0.9352 - lr: 1.0000e-06\n"
     ]
    }
   ],
   "source": [
    "reduce_lr = ReduceLROnPlateau(monitor='val_loss', factor=0.1,\n",
    "                              patience=3, min_lr=1e-7)\n",
    "es = EarlyStopping(monitor='val_loss', patience=7)\n",
    "\n",
    "history = model.fit(train_generator, validation_data = val_generator, \n",
    "                        epochs = epochs, callbacks=[reduce_lr, es], \n",
    "                        verbose = 1)"
   ]
  },
  {
   "cell_type": "markdown",
   "metadata": {},
   "source": [
    "## PLOT RESULTS"
   ]
  },
  {
   "cell_type": "code",
   "execution_count": 54,
   "metadata": {},
   "outputs": [
    {
     "name": "stdout",
     "output_type": "stream",
     "text": [
      "Best Epoch:  3\n",
      "Final Train Loss: 3.4275\n",
      "Final Validation Loss: 1.1254\n",
      "Final Train MAE: 1.4965\n",
      "Final Test MAE: 0.8669\n"
     ]
    }
   ],
   "source": [
    "train_loss = history.history['loss']\n",
    "train_mae = history.history['mae']\n",
    "val_loss = history.history['val_loss']\n",
    "val_mae = history.history['val_mae']\n",
    "\n",
    "best_epoch = np.argmin(np.array(val_mae))\n",
    "\n",
    "print(\"Best Epoch: \", best_epoch)\n",
    "print(\"Final Train Loss: {:.4f}\".format(train_loss[best_epoch]))\n",
    "print(\"Final Validation Loss: {:.4f}\".format(val_loss[best_epoch]))\n",
    "print(\"Final Train MAE: {:.4f}\".format(train_mae[best_epoch]))\n",
    "print(\"Final Test MAE: {:.4f}\".format(val_mae[best_epoch]))"
   ]
  },
  {
   "cell_type": "code",
   "execution_count": 55,
   "metadata": {},
   "outputs": [],
   "source": [
    "import warnings\n",
    "warnings.filterwarnings(\"ignore\")"
   ]
  },
  {
   "cell_type": "code",
   "execution_count": 56,
   "metadata": {},
   "outputs": [
    {
     "data": {
      "image/png": "[encoded data removed]",
      "text/plain": [
       "<Figure size 1500x400 with 2 Axes>"
      ]
     },
     "metadata": {},
     "output_type": "display_data"
    }
   ],
   "source": [
    "\n",
    "fig, ax = plt.subplots(1,2, figsize=(15,4))\n",
    "sns.lineplot(train_loss , ax=ax[0], label='train loss')\n",
    "sns.lineplot(val_loss, ax=ax[0], label='val loss')\n",
    "# ax[0].legend(labels=['train loss','validation loss'],loc=\"upper right\")\n",
    "ax[0].set_title('Loss')\n",
    "\n",
    "sns.lineplot(train_mae, ax=ax[1], label='train mae')\n",
    "sns.lineplot(val_mae, ax=ax[1], label='val mae')\n",
    "# ax[1].legend(labels=['train acc','validation acc'],loc=\"upper right\")\n",
    "ax[1].set_title('MAE')\n",
    "\n",
    "plt.show()\n"
   ]
  },
  {
   "cell_type": "code",
   "execution_count": 57,
   "metadata": {},
   "outputs": [],
   "source": [
    "import cv2"
   ]
  },
  {
   "cell_type": "code",
   "execution_count": 64,
   "metadata": {},
   "outputs": [],
   "source": [
    "test = cv2.imread(\"data//val//6//6K--81-_jpg-region_2.png\")\n",
    "truth = '6'\n",
    "\n",
    "test = cv2.resize(test,(224,224))\n",
    "test = cv2.cvtColor(test, cv2.COLOR_BGR2GRAY)\n",
    "test = test.reshape(1,224,224,1)"
   ]
  },
  {
   "cell_type": "code",
   "execution_count": 80,
   "metadata": {},
   "outputs": [
    {
     "name": "stdout",
     "output_type": "stream",
     "text": [
      "1/1 [==============================] - 0s 17ms/step\n",
      "Truth: 6\n",
      "Result: 0.94596547\n"
     ]
    }
   ],
   "source": [
    "result = model.predict(next(val_generator)[0][8].reshape(1,224,224,1))[0][0]\n",
    "print('Truth:',truth)\n",
    "print('Result:',result)\n"
   ]
  },
  {
   "cell_type": "code",
   "execution_count": 74,
   "metadata": {},
   "outputs": [
    {
     "data": {
      "text/plain": [
       "(1, 224, 224, 1)"
      ]
     },
     "execution_count": 74,
     "metadata": {},
     "output_type": "execute_result"
    }
   ],
   "source": [
    "next(val_generator)[0][0].reshape(1,224,224,1).shape"
   ]
  },
  {
   "cell_type": "code",
   "execution_count": null,
   "metadata": {},
   "outputs": [],
   "source": []
  }
 ],
 "metadata": {
  "kernelspec": {
   "display_name": "tf",
   "language": "python",
   "name": "python3"
  },
  "language_info": {
   "codemirror_mode": {
    "name": "ipython",
    "version": 3
   },
   "file_extension": ".py",
   "mimetype": "text/x-python",
   "name": "python",
   "nbconvert_exporter": "python",
   "pygments_lexer": "ipython3",
   "version": "3.9.13"
  },
  "orig_nbformat": 4
 },
 "nbformat": 4,
 "nbformat_minor": 2
}
